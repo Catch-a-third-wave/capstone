{
 "cells": [
  {
   "cell_type": "code",
   "execution_count": 42,
   "metadata": {},
   "outputs": [],
   "source": [
    "import pandas as pd\n",
    "\n",
    "import plotly.express as px  # (version 4.7.0)\n",
    "import plotly.graph_objects as go\n",
    "\n",
    "pd.set_option('display.max_columns', None) # To display all columns"
   ]
  },
  {
   "cell_type": "code",
   "execution_count": 2,
   "metadata": {},
   "outputs": [],
   "source": [
    "covid_cases = pd.read_csv(\"data/Corona_stats/owid-covid-data.csv\")"
   ]
  },
  {
   "cell_type": "code",
   "execution_count": 29,
   "metadata": {},
   "outputs": [
    {
     "data": {
      "text/plain": [
       "58693    2020-11-19\n",
       "58694    2020-11-20\n",
       "58695    2020-11-21\n",
       "58696    2020-11-22\n",
       "58697    2020-11-23\n",
       "Name: date, dtype: object"
      ]
     },
     "execution_count": 29,
     "metadata": {},
     "output_type": "execute_result"
    }
   ],
   "source": [
    "covid_cases.date.tail()"
   ]
  },
  {
   "cell_type": "code",
   "execution_count": 37,
   "metadata": {},
   "outputs": [],
   "source": [
    "df = covid_cases[covid_cases[\"date\"]==\"2020-11-19\"]"
   ]
  },
  {
   "cell_type": "code",
   "execution_count": 87,
   "metadata": {},
   "outputs": [],
   "source": [
    "fig = px.choropleth(\n",
    "        data_frame = df,\n",
    "        locations=\"iso_code\",\n",
    "        color=\"total_deaths_per_million\",\n",
    "        hover_name=\"location\",\n",
    "        color_continuous_scale=[\"white\", \"#00c5ff\", \"#00287f\", \"#00151f\"],\n",
    "        projection=\"natural earth\",\n",
    "        basemap_visible=False)\n",
    "\n",
    "\n",
    "hexcode = 0\n",
    "borders=[hexcode for x in range(len(df))]\n",
    "fig.update_traces(marker_line_width=borders)\n",
    "\n",
    "#fig.write_image(\"images/fig1.png\")\n",
    "fig.show(\"browser\")"
   ]
  },
  {
   "cell_type": "code",
   "execution_count": 88,
   "metadata": {},
   "outputs": [],
   "source": [
    "fig = px.choropleth(\n",
    "        data_frame = df,\n",
    "        locations=\"iso_code\",\n",
    "        color=\"total_deaths_per_million\",\n",
    "        hover_name=\"location\",\n",
    "        color_continuous_scale=[\"white\", \"#00c5ff\", \"#00287f\", \"#00151f\"],\n",
    "        projection=\"natural earth\",\n",
    "        basemap_visible=False)\n",
    "\n",
    "#fig.write_image(\"images/fig1.png\")\n",
    "fig.show(\"browser\")"
   ]
  },
  {
   "cell_type": "markdown",
   "metadata": {},
   "source": [
    "### 3D Globe"
   ]
  },
  {
   "cell_type": "code",
   "execution_count": 75,
   "metadata": {},
   "outputs": [],
   "source": [
    "fig = px.choropleth(\n",
    "        data_frame = df,\n",
    "        locations=\"iso_code\",\n",
    "        color=\"total_deaths_per_million\",\n",
    "        hover_name=\"location\",\n",
    "        color_continuous_scale=[\"white\", \"#00c5ff\", \"#00287f\", \"#00151f\"],\n",
    "        projection=\"orthographic\")\n",
    "\n",
    "hexcode = 0\n",
    "borders=[hexcode for x in range(len(df))]\n",
    "fig.update_traces(marker_line_width=borders)\n",
    "\n",
    "fig.show(\"browser\")"
   ]
  },
  {
   "cell_type": "code",
   "execution_count": null,
   "metadata": {},
   "outputs": [],
   "source": []
  }
 ],
 "metadata": {
  "kernelspec": {
   "display_name": "Python [conda env:capstone] *",
   "language": "python",
   "name": "conda-env-capstone-py"
  },
  "language_info": {
   "codemirror_mode": {
    "name": "ipython",
    "version": 3
   },
   "file_extension": ".py",
   "mimetype": "text/x-python",
   "name": "python",
   "nbconvert_exporter": "python",
   "pygments_lexer": "ipython3",
   "version": "3.8.5"
  }
 },
 "nbformat": 4,
 "nbformat_minor": 4
}
