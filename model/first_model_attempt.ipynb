{
 "cells": [
  {
   "cell_type": "markdown",
   "metadata": {},
   "source": [
    "# First model attempt"
   ]
  },
  {
   "cell_type": "markdown",
   "metadata": {},
   "source": [
    "https://towardsdatascience.com/time-series-analysis-on-multivariate-data-in-tensorflow-2f0591088502"
   ]
  },
  {
   "cell_type": "code",
   "execution_count": 1,
   "metadata": {},
   "outputs": [],
   "source": [
    "import sys\n",
    "sys.path.insert(1, '/Users/lauradellantonio/neuefische/Capstone/capstone')"
   ]
  },
  {
   "cell_type": "code",
   "execution_count": 2,
   "metadata": {},
   "outputs": [],
   "source": [
    "import pandas as pd\n",
    "import numpy as np\n",
    "\n",
    "import functions.functions_data\n",
    "import functions.functions_mask_wearing\n",
    "import functions.functions_corona_stats\n",
    "import functions.functions_HDI\n",
    "import functions.functions_mask_req\n",
    "\n",
    "pd.set_option('display.max_columns', None) # To display all columns\n",
    "\n",
    "import warnings\n",
    "warnings.filterwarnings(action='ignore')\n",
    "\n",
    "import tensorflow as tf\n",
    "import matplotlib.pyplot as plt\n",
    "import os\n",
    "import datetime\n",
    "from keras.models import Sequential\n",
    "from keras.layers import LSTM\n",
    "from keras.layers import Dense\n",
    "from keras.layers import Dropout\n",
    "from numpy import concatenate\n",
    "from sklearn.preprocessing import MinMaxScaler\n",
    "from math import sqrt\n",
    "from sklearn.metrics import mean_squared_error"
   ]
  },
  {
   "cell_type": "markdown",
   "metadata": {},
   "source": [
    "## Reading in and adjusting data"
   ]
  },
  {
   "cell_type": "code",
   "execution_count": 3,
   "metadata": {},
   "outputs": [
    {
     "name": "stdout",
     "output_type": "stream",
     "text": [
      "Read in data completed.\n"
     ]
    }
   ],
   "source": [
    "# Reading in survey data and joining it into one dataframe\n",
    "dfs_country = functions.functions_data.get_data(\"/Users/lauradellantonio/neuefische/Capstone/capstone/data/CMU_Global_data/Full_Survey_Data/country/smooth/\", \"country\")\n",
    "countries = pd.concat(dfs_country, ignore_index=True)"
   ]
  },
  {
   "cell_type": "code",
   "execution_count": 4,
   "metadata": {},
   "outputs": [
    {
     "name": "stdout",
     "output_type": "stream",
     "text": [
      "Merging corona stats completed.\n"
     ]
    }
   ],
   "source": [
    "# Adding the real COVID numbers to the dataframe\n",
    "covid_cases = pd.read_csv(\"/Users/lauradellantonio/neuefische/Capstone/capstone/data/Corona_stats/owid-covid-data.csv\")\n",
    "countries = functions.functions_corona_stats.merge_corona_stats(countries,covid_cases)"
   ]
  },
  {
   "cell_type": "code",
   "execution_count": 5,
   "metadata": {},
   "outputs": [
    {
     "name": "stdout",
     "output_type": "stream",
     "text": [
      "Created month column.\n"
     ]
    }
   ],
   "source": [
    "# Sorting out the date column within the dataframe\n",
    "countries = functions.functions_data.insert_month(countries)"
   ]
  },
  {
   "cell_type": "code",
   "execution_count": 6,
   "metadata": {},
   "outputs": [
    {
     "name": "stdout",
     "output_type": "stream",
     "text": [
      "NaNs before update: 163383\n",
      "NaNs after update: 0\n",
      "Updated.\n"
     ]
    }
   ],
   "source": [
    "# Dealing with the NaN in the mask wearing column\n",
    "countries = functions.functions_mask_wearing.deal_with_NaNs_masks(countries)"
   ]
  },
  {
   "cell_type": "code",
   "execution_count": 7,
   "metadata": {},
   "outputs": [
    {
     "name": "stdout",
     "output_type": "stream",
     "text": [
      "Creating dictionaries for hdi and hdi-levels completed.\n",
      "Creating hdi list completed.\n",
      "Creating hdi-level list completed.\n"
     ]
    }
   ],
   "source": [
    "# Getting the dictionaries for the hdi and the hdi-levels.\n",
    "dict_hdi, dict_hdi_levels = functions.functions_HDI.get_hdi(\"/Users/lauradellantonio/neuefische/Capstone/capstone/data\",\"hdro_statistical_data_tables_1_15_d1_d5.xlsx\")\n",
    "\n",
    "# Creating a new column with the hdi and the hdi-levels in the regions dataframe\n",
    "countries = functions.functions_HDI.create_hdi_columns(countries, dict_hdi, dict_hdi_levels)"
   ]
  },
  {
   "cell_type": "code",
   "execution_count": 8,
   "metadata": {},
   "outputs": [
    {
     "name": "stdout",
     "output_type": "stream",
     "text": [
      "Merging mask wearing requirements completed.\n",
      "Feature engineering completed.\n"
     ]
    }
   ],
   "source": [
    "# Adding the mask wearing requirements to the dataframe\n",
    "mask_wearing_requirements = pd.read_csv(\"/Users/lauradellantonio/neuefische/Capstone/capstone/data/data-nbhtq.csv\")\n",
    "countries = functions.functions_mask_req.merge_mask_requirements(countries,mask_wearing_requirements)\n",
    "countries = functions.functions_mask_req.add_requirement_by_date(countries)"
   ]
  },
  {
   "cell_type": "markdown",
   "metadata": {},
   "source": [
    "## Selecting relevant columns"
   ]
  },
  {
   "cell_type": "code",
   "execution_count": 9,
   "metadata": {},
   "outputs": [],
   "source": [
    "df = countries.copy()"
   ]
  },
  {
   "cell_type": "code",
   "execution_count": 10,
   "metadata": {},
   "outputs": [],
   "source": [
    "# Date used as index"
   ]
  },
  {
   "cell_type": "code",
   "execution_count": 11,
   "metadata": {},
   "outputs": [],
   "source": [
    "df = df[df[\"age_bucket\"]==\"overall\"]\n",
    "df = df[df[\"gender\"]==\"overall\"]"
   ]
  },
  {
   "cell_type": "code",
   "execution_count": 12,
   "metadata": {},
   "outputs": [],
   "source": [
    "date = [\"date\"]\n",
    "\n",
    "columns_general = [\"iso_code\", \"hdi\", \"median_age\", \"aged_65_older\", \"total_cases_per_million\", \"new_cases_smoothed_per_million\",\n",
    "                   \"total_deaths_per_million\", \"new_deaths_smoothed_per_million\"]\n",
    "\n",
    "columns_social_distancing = [\"smoothed_pct_worked_outside_home_weighted\", \"smoothed_pct_grocery_outside_home_weighted\", \"smoothed_pct_ate_outside_home_weighted\", \n",
    "                             \"smoothed_pct_spent_time_with_non_hh_weighted\", \"smoothed_pct_attended_public_event_weighted\", \"smoothed_pct_used_public_transit_weighted\", \n",
    "                             \"smoothed_pct_direct_contact_with_non_hh_weighted\", \"smoothed_pct_no_public_weighted\"]\n",
    "\n",
    "columns_mask_wearing = [\"smoothed_pct_wear_mask_all_time_weighted\", \"smoothed_pct_wear_mask_most_time_weighted\", \"smoothed_pct_wear_mask_half_time_weighted\", \n",
    "                        \"smoothed_pct_wear_mask_some_time_weighted\",\"smoothed_pct_wear_mask_none_time_weighted\"]\n",
    "\n",
    "columns_mask_req = [\"cur_mask_recommended\", \"cur_mask_required_full_country\", \"cur_mask_not_required\", \"cur_mask_not_required_recommended\", \"cur_mask_not_required_universal\", \n",
    "                    \"cur_mask_required_part_country\", \"cur_mask_everywhere_in_public\", \"cur_mask_public_indoors\", \"cur_mask_public_transport\"]\n",
    "\n",
    "columns_interest = date + columns_general + columns_social_distancing + columns_mask_wearing + columns_mask_req"
   ]
  },
  {
   "cell_type": "code",
   "execution_count": 13,
   "metadata": {},
   "outputs": [],
   "source": [
    "df_select = df[columns_interest]"
   ]
  },
  {
   "cell_type": "code",
   "execution_count": 14,
   "metadata": {},
   "outputs": [],
   "source": [
    "df_select.set_index(\"date\", inplace=True)"
   ]
  },
  {
   "cell_type": "code",
   "execution_count": 15,
   "metadata": {},
   "outputs": [],
   "source": [
    "df_deu = df_select[df_select[\"iso_code\"]==\"DEU\"]"
   ]
  },
  {
   "cell_type": "code",
   "execution_count": 16,
   "metadata": {},
   "outputs": [],
   "source": [
    "df_deu.drop(\"iso_code\", axis=1, inplace=True)"
   ]
  },
  {
   "cell_type": "code",
   "execution_count": 17,
   "metadata": {},
   "outputs": [
    {
     "data": {
      "image/png": "[encoded data removed]",
      "text/plain": [
       "<Figure size 432x288 with 1 Axes>"
      ]
     },
     "metadata": {
      "needs_background": "light"
     },
     "output_type": "display_data"
    }
   ],
   "source": [
    "from statsmodels.graphics.tsaplots import plot_acf\n",
    "\n",
    "plot_acf(df_deu['total_cases_per_million'])\n",
    "plt.title('total_cases_per_million')\n",
    "\n",
    "plt.show()"
   ]
  },
  {
   "cell_type": "code",
   "execution_count": 18,
   "metadata": {},
   "outputs": [
    {
     "name": "stderr",
     "output_type": "stream",
     "text": [
      "/Users/lauradellantonio/opt/anaconda3/envs/capstone/lib/python3.8/site-packages/statsmodels/tsa/vector_ar/vecm.py:577: HypothesisTestWarning: Critical values are only available for time series with 12 variables at most.\n",
      "  warnings.warn(\"Critical values are only available for time series \"\n"
     ]
    },
    {
     "ename": "LinAlgError",
     "evalue": "Singular matrix",
     "output_type": "error",
     "traceback": [
      "\u001b[0;31m---------------------------------------------------------------------------\u001b[0m",
      "\u001b[0;31mLinAlgError\u001b[0m                               Traceback (most recent call last)",
      "\u001b[0;32m<ipython-input-18-af98917d7315>\u001b[0m in \u001b[0;36m<module>\u001b[0;34m\u001b[0m\n\u001b[1;32m      2\u001b[0m \u001b[0;34m\u001b[0m\u001b[0m\n\u001b[1;32m      3\u001b[0m \u001b[0mjohan_test\u001b[0m \u001b[0;34m=\u001b[0m \u001b[0mdf_deu\u001b[0m\u001b[0;34m\u001b[0m\u001b[0;34m\u001b[0m\u001b[0m\n\u001b[0;32m----> 4\u001b[0;31m \u001b[0mcoint_johansen\u001b[0m\u001b[0;34m(\u001b[0m\u001b[0mjohan_test\u001b[0m\u001b[0;34m,\u001b[0m\u001b[0;34m-\u001b[0m\u001b[0;36m1\u001b[0m\u001b[0;34m,\u001b[0m\u001b[0;36m1\u001b[0m\u001b[0;34m)\u001b[0m\u001b[0;34m.\u001b[0m\u001b[0meig\u001b[0m\u001b[0;34m\u001b[0m\u001b[0;34m\u001b[0m\u001b[0m\n\u001b[0m",
      "\u001b[0;32m~/opt/anaconda3/envs/capstone/lib/python3.8/site-packages/statsmodels/tsa/vector_ar/vecm.py\u001b[0m in \u001b[0;36mcoint_johansen\u001b[0;34m(endog, det_order, k_ar_diff)\u001b[0m\n\u001b[1;32m    622\u001b[0m     \u001b[0msk0\u001b[0m \u001b[0;34m=\u001b[0m \u001b[0mnp\u001b[0m\u001b[0;34m.\u001b[0m\u001b[0mdot\u001b[0m\u001b[0;34m(\u001b[0m\u001b[0mrkt\u001b[0m\u001b[0;34m.\u001b[0m\u001b[0mT\u001b[0m\u001b[0;34m,\u001b[0m \u001b[0mr0t\u001b[0m\u001b[0;34m)\u001b[0m \u001b[0;34m/\u001b[0m \u001b[0mrkt\u001b[0m\u001b[0;34m.\u001b[0m\u001b[0mshape\u001b[0m\u001b[0;34m[\u001b[0m\u001b[0;36m0\u001b[0m\u001b[0;34m]\u001b[0m\u001b[0;34m\u001b[0m\u001b[0;34m\u001b[0m\u001b[0m\n\u001b[1;32m    623\u001b[0m     \u001b[0ms00\u001b[0m \u001b[0;34m=\u001b[0m \u001b[0mnp\u001b[0m\u001b[0;34m.\u001b[0m\u001b[0mdot\u001b[0m\u001b[0;34m(\u001b[0m\u001b[0mr0t\u001b[0m\u001b[0;34m.\u001b[0m\u001b[0mT\u001b[0m\u001b[0;34m,\u001b[0m \u001b[0mr0t\u001b[0m\u001b[0;34m)\u001b[0m \u001b[0;34m/\u001b[0m \u001b[0mr0t\u001b[0m\u001b[0;34m.\u001b[0m\u001b[0mshape\u001b[0m\u001b[0;34m[\u001b[0m\u001b[0;36m0\u001b[0m\u001b[0;34m]\u001b[0m\u001b[0;34m\u001b[0m\u001b[0;34m\u001b[0m\u001b[0m\n\u001b[0;32m--> 624\u001b[0;31m     \u001b[0msig\u001b[0m \u001b[0;34m=\u001b[0m \u001b[0mnp\u001b[0m\u001b[0;34m.\u001b[0m\u001b[0mdot\u001b[0m\u001b[0;34m(\u001b[0m\u001b[0msk0\u001b[0m\u001b[0;34m,\u001b[0m \u001b[0mnp\u001b[0m\u001b[0;34m.\u001b[0m\u001b[0mdot\u001b[0m\u001b[0;34m(\u001b[0m\u001b[0minv\u001b[0m\u001b[0;34m(\u001b[0m\u001b[0ms00\u001b[0m\u001b[0;34m)\u001b[0m\u001b[0;34m,\u001b[0m \u001b[0msk0\u001b[0m\u001b[0;34m.\u001b[0m\u001b[0mT\u001b[0m\u001b[0;34m)\u001b[0m\u001b[0;34m)\u001b[0m\u001b[0;34m\u001b[0m\u001b[0;34m\u001b[0m\u001b[0m\n\u001b[0m\u001b[1;32m    625\u001b[0m     \u001b[0mtmp\u001b[0m \u001b[0;34m=\u001b[0m \u001b[0minv\u001b[0m\u001b[0;34m(\u001b[0m\u001b[0mskk\u001b[0m\u001b[0;34m)\u001b[0m\u001b[0;34m\u001b[0m\u001b[0;34m\u001b[0m\u001b[0m\n\u001b[1;32m    626\u001b[0m     \u001b[0mau\u001b[0m\u001b[0;34m,\u001b[0m \u001b[0mdu\u001b[0m \u001b[0;34m=\u001b[0m \u001b[0mnp\u001b[0m\u001b[0;34m.\u001b[0m\u001b[0mlinalg\u001b[0m\u001b[0;34m.\u001b[0m\u001b[0meig\u001b[0m\u001b[0;34m(\u001b[0m\u001b[0mnp\u001b[0m\u001b[0;34m.\u001b[0m\u001b[0mdot\u001b[0m\u001b[0;34m(\u001b[0m\u001b[0mtmp\u001b[0m\u001b[0;34m,\u001b[0m \u001b[0msig\u001b[0m\u001b[0;34m)\u001b[0m\u001b[0;34m)\u001b[0m  \u001b[0;31m# au is eval, du is evec\u001b[0m\u001b[0;34m\u001b[0m\u001b[0;34m\u001b[0m\u001b[0m\n",
      "\u001b[0;32m<__array_function__ internals>\u001b[0m in \u001b[0;36minv\u001b[0;34m(*args, **kwargs)\u001b[0m\n",
      "\u001b[0;32m~/opt/anaconda3/envs/capstone/lib/python3.8/site-packages/numpy/linalg/linalg.py\u001b[0m in \u001b[0;36minv\u001b[0;34m(a)\u001b[0m\n\u001b[1;32m    545\u001b[0m     \u001b[0msignature\u001b[0m \u001b[0;34m=\u001b[0m \u001b[0;34m'D->D'\u001b[0m \u001b[0;32mif\u001b[0m \u001b[0misComplexType\u001b[0m\u001b[0;34m(\u001b[0m\u001b[0mt\u001b[0m\u001b[0;34m)\u001b[0m \u001b[0;32melse\u001b[0m \u001b[0;34m'd->d'\u001b[0m\u001b[0;34m\u001b[0m\u001b[0;34m\u001b[0m\u001b[0m\n\u001b[1;32m    546\u001b[0m     \u001b[0mextobj\u001b[0m \u001b[0;34m=\u001b[0m \u001b[0mget_linalg_error_extobj\u001b[0m\u001b[0;34m(\u001b[0m\u001b[0m_raise_linalgerror_singular\u001b[0m\u001b[0;34m)\u001b[0m\u001b[0;34m\u001b[0m\u001b[0;34m\u001b[0m\u001b[0m\n\u001b[0;32m--> 547\u001b[0;31m     \u001b[0mainv\u001b[0m \u001b[0;34m=\u001b[0m \u001b[0m_umath_linalg\u001b[0m\u001b[0;34m.\u001b[0m\u001b[0minv\u001b[0m\u001b[0;34m(\u001b[0m\u001b[0ma\u001b[0m\u001b[0;34m,\u001b[0m \u001b[0msignature\u001b[0m\u001b[0;34m=\u001b[0m\u001b[0msignature\u001b[0m\u001b[0;34m,\u001b[0m \u001b[0mextobj\u001b[0m\u001b[0;34m=\u001b[0m\u001b[0mextobj\u001b[0m\u001b[0;34m)\u001b[0m\u001b[0;34m\u001b[0m\u001b[0;34m\u001b[0m\u001b[0m\n\u001b[0m\u001b[1;32m    548\u001b[0m     \u001b[0;32mreturn\u001b[0m \u001b[0mwrap\u001b[0m\u001b[0;34m(\u001b[0m\u001b[0mainv\u001b[0m\u001b[0;34m.\u001b[0m\u001b[0mastype\u001b[0m\u001b[0;34m(\u001b[0m\u001b[0mresult_t\u001b[0m\u001b[0;34m,\u001b[0m \u001b[0mcopy\u001b[0m\u001b[0;34m=\u001b[0m\u001b[0;32mFalse\u001b[0m\u001b[0;34m)\u001b[0m\u001b[0;34m)\u001b[0m\u001b[0;34m\u001b[0m\u001b[0;34m\u001b[0m\u001b[0m\n\u001b[1;32m    549\u001b[0m \u001b[0;34m\u001b[0m\u001b[0m\n",
      "\u001b[0;32m~/opt/anaconda3/envs/capstone/lib/python3.8/site-packages/numpy/linalg/linalg.py\u001b[0m in \u001b[0;36m_raise_linalgerror_singular\u001b[0;34m(err, flag)\u001b[0m\n\u001b[1;32m     95\u001b[0m \u001b[0;34m\u001b[0m\u001b[0m\n\u001b[1;32m     96\u001b[0m \u001b[0;32mdef\u001b[0m \u001b[0m_raise_linalgerror_singular\u001b[0m\u001b[0;34m(\u001b[0m\u001b[0merr\u001b[0m\u001b[0;34m,\u001b[0m \u001b[0mflag\u001b[0m\u001b[0;34m)\u001b[0m\u001b[0;34m:\u001b[0m\u001b[0;34m\u001b[0m\u001b[0;34m\u001b[0m\u001b[0m\n\u001b[0;32m---> 97\u001b[0;31m     \u001b[0;32mraise\u001b[0m \u001b[0mLinAlgError\u001b[0m\u001b[0;34m(\u001b[0m\u001b[0;34m\"Singular matrix\"\u001b[0m\u001b[0;34m)\u001b[0m\u001b[0;34m\u001b[0m\u001b[0;34m\u001b[0m\u001b[0m\n\u001b[0m\u001b[1;32m     98\u001b[0m \u001b[0;34m\u001b[0m\u001b[0m\n\u001b[1;32m     99\u001b[0m \u001b[0;32mdef\u001b[0m \u001b[0m_raise_linalgerror_nonposdef\u001b[0m\u001b[0;34m(\u001b[0m\u001b[0merr\u001b[0m\u001b[0;34m,\u001b[0m \u001b[0mflag\u001b[0m\u001b[0;34m)\u001b[0m\u001b[0;34m:\u001b[0m\u001b[0;34m\u001b[0m\u001b[0;34m\u001b[0m\u001b[0m\n",
      "\u001b[0;31mLinAlgError\u001b[0m: Singular matrix"
     ]
    }
   ],
   "source": [
    "from statsmodels.tsa.vector_ar.vecm import coint_johansen\n",
    "\n",
    "johan_test = df_deu\n",
    "coint_johansen(johan_test,-1,1).eig"
   ]
  },
  {
   "cell_type": "code",
   "execution_count": 44,
   "metadata": {},
   "outputs": [],
   "source": [
    "to_scale = [\"total_cases_per_million\", \"new_cases_smoothed_per_million\", \"total_deaths_per_million\", \n",
    "            \"new_deaths_smoothed_per_million\",\"smoothed_pct_worked_outside_home_weighted\", \"smoothed_pct_grocery_outside_home_weighted\", \n",
    "            \"smoothed_pct_ate_outside_home_weighted\", \"smoothed_pct_spent_time_with_non_hh_weighted\", \n",
    "            \"smoothed_pct_attended_public_event_weighted\", \"smoothed_pct_used_public_transit_weighted\", \n",
    "            \"smoothed_pct_direct_contact_with_non_hh_weighted\", \"smoothed_pct_no_public_weighted\", \n",
    "            \"smoothed_pct_wear_mask_all_time_weighted\", \"smoothed_pct_wear_mask_most_time_weighted\", \n",
    "            \"smoothed_pct_wear_mask_half_time_weighted\", \"smoothed_pct_wear_mask_some_time_weighted\",\n",
    "            \"smoothed_pct_wear_mask_none_time_weighted\"]"
   ]
  },
  {
   "cell_type": "code",
   "execution_count": 45,
   "metadata": {},
   "outputs": [],
   "source": [
    "#scale the values\n",
    "scaler = MinMaxScaler()\n",
    "df_deu[to_scale] = scaler.fit_transform(df_deu[to_scale])"
   ]
  },
  {
   "cell_type": "code",
   "execution_count": 58,
   "metadata": {},
   "outputs": [],
   "source": [
    "#divide the data into train and test data\n",
    "train_size = int(len(df_deu) * 0.80)\n",
    "test_size = len(df_deu) - train_size\n",
    "train, test = df_deu[0:train_size], df_deu[train_size:len(df_deu)]"
   ]
  },
  {
   "cell_type": "code",
   "execution_count": 65,
   "metadata": {},
   "outputs": [
    {
     "name": "stdout",
     "output_type": "stream",
     "text": [
      "(152, 28) (152,) (38, 28) (38,)\n"
     ]
    }
   ],
   "source": [
    "#index the data into dependent and independent variables\n",
    "train_X, train_y = train.drop(\"total_cases_per_million\", axis=1), train[\"total_cases_per_million\"]\n",
    "test_X, test_y =  test.drop(\"total_cases_per_million\", axis=1), test[\"total_cases_per_million\"]\n",
    "print(train_X.shape, train_y.shape, test_X.shape, test_y.shape)"
   ]
  },
  {
   "cell_type": "code",
   "execution_count": 69,
   "metadata": {},
   "outputs": [],
   "source": [
    "train_X = train_X.values\n",
    "train_y = train_y.values\n",
    "test_X = test_X.values\n",
    "test_y = test_y.values"
   ]
  },
  {
   "cell_type": "code",
   "execution_count": 70,
   "metadata": {},
   "outputs": [
    {
     "name": "stdout",
     "output_type": "stream",
     "text": [
      "(152, 1, 28) (152,) (38, 1, 28) (38,)\n"
     ]
    }
   ],
   "source": [
    "#convert data into suitable dimension for using it as input in LSTM network\n",
    "train_X = train_X.reshape((train_X.shape[0], 1, train_X.shape[1]))\n",
    "test_X = test_X.reshape((test_X.shape[0], 1, test_X.shape[1]))\n",
    "print(train_X.shape, train_y.shape, test_X.shape, test_y.shape)"
   ]
  },
  {
   "cell_type": "code",
   "execution_count": 71,
   "metadata": {},
   "outputs": [
    {
     "name": "stdout",
     "output_type": "stream",
     "text": [
      "Epoch 1/250\n",
      "3/3 - 0s - loss: 0.2291 - val_loss: 0.2529\n",
      "Epoch 2/250\n",
      "3/3 - 0s - loss: 0.2250 - val_loss: 0.2556\n",
      "Epoch 3/250\n",
      "3/3 - 0s - loss: 0.1898 - val_loss: 0.4847\n",
      "Epoch 4/250\n",
      "3/3 - 0s - loss: 0.1769 - val_loss: 0.3736\n",
      "Epoch 5/250\n",
      "3/3 - 0s - loss: 0.1644 - val_loss: 0.2172\n",
      "Epoch 6/250\n",
      "3/3 - 0s - loss: 0.2214 - val_loss: 0.2315\n",
      "Epoch 7/250\n",
      "3/3 - 0s - loss: 0.2091 - val_loss: 0.4263\n",
      "Epoch 8/250\n",
      "3/3 - 0s - loss: 0.1667 - val_loss: 0.4926\n",
      "Epoch 9/250\n",
      "3/3 - 0s - loss: 0.1526 - val_loss: 0.3577\n",
      "Epoch 10/250\n",
      "3/3 - 0s - loss: 0.1381 - val_loss: 0.2570\n",
      "Epoch 11/250\n",
      "3/3 - 0s - loss: 0.1753 - val_loss: 0.3058\n",
      "Epoch 12/250\n",
      "3/3 - 0s - loss: 0.1775 - val_loss: 0.4176\n",
      "Epoch 13/250\n",
      "3/3 - 0s - loss: 0.1528 - val_loss: 0.4417\n",
      "Epoch 14/250\n",
      "3/3 - 0s - loss: 0.1422 - val_loss: 0.3501\n",
      "Epoch 15/250\n",
      "3/3 - 0s - loss: 0.1536 - val_loss: 0.2778\n",
      "Epoch 16/250\n",
      "3/3 - 0s - loss: 0.1731 - val_loss: 0.3237\n",
      "Epoch 17/250\n",
      "3/3 - 0s - loss: 0.1296 - val_loss: 0.4423\n",
      "Epoch 18/250\n",
      "3/3 - 0s - loss: 0.1373 - val_loss: 0.4572\n",
      "Epoch 19/250\n",
      "3/3 - 0s - loss: 0.1275 - val_loss: 0.3388\n",
      "Epoch 20/250\n",
      "3/3 - 0s - loss: 0.1313 - val_loss: 0.2924\n",
      "Epoch 21/250\n",
      "3/3 - 0s - loss: 0.1522 - val_loss: 0.3564\n",
      "Epoch 22/250\n",
      "3/3 - 0s - loss: 0.1235 - val_loss: 0.3632\n",
      "Epoch 23/250\n",
      "3/3 - 0s - loss: 0.1223 - val_loss: 0.3404\n",
      "Epoch 24/250\n",
      "3/3 - 0s - loss: 0.1131 - val_loss: 0.3251\n",
      "Epoch 25/250\n",
      "3/3 - 0s - loss: 0.1268 - val_loss: 0.3697\n",
      "Epoch 26/250\n",
      "3/3 - 0s - loss: 0.1177 - val_loss: 0.4213\n",
      "Epoch 27/250\n",
      "3/3 - 0s - loss: 0.0958 - val_loss: 0.2994\n",
      "Epoch 28/250\n",
      "3/3 - 0s - loss: 0.1360 - val_loss: 0.2757\n",
      "Epoch 29/250\n",
      "3/3 - 0s - loss: 0.1211 - val_loss: 0.3667\n",
      "Epoch 30/250\n",
      "3/3 - 0s - loss: 0.1086 - val_loss: 0.3753\n",
      "Epoch 31/250\n",
      "3/3 - 0s - loss: 0.1145 - val_loss: 0.2983\n",
      "Epoch 32/250\n",
      "3/3 - 0s - loss: 0.1267 - val_loss: 0.2761\n",
      "Epoch 33/250\n",
      "3/3 - 0s - loss: 0.1282 - val_loss: 0.3942\n",
      "Epoch 34/250\n",
      "3/3 - 0s - loss: 0.1027 - val_loss: 0.3342\n",
      "Epoch 35/250\n",
      "3/3 - 0s - loss: 0.1106 - val_loss: 0.2583\n",
      "Epoch 36/250\n",
      "3/3 - 0s - loss: 0.1293 - val_loss: 0.2908\n",
      "Epoch 37/250\n",
      "3/3 - 0s - loss: 0.0959 - val_loss: 0.4044\n",
      "Epoch 38/250\n",
      "3/3 - 0s - loss: 0.0943 - val_loss: 0.3317\n",
      "Epoch 39/250\n",
      "3/3 - 0s - loss: 0.0926 - val_loss: 0.2388\n",
      "Epoch 40/250\n",
      "3/3 - 0s - loss: 0.1286 - val_loss: 0.3425\n",
      "Epoch 41/250\n",
      "3/3 - 0s - loss: 0.0989 - val_loss: 0.3743\n",
      "Epoch 42/250\n",
      "3/3 - 0s - loss: 0.0871 - val_loss: 0.2841\n",
      "Epoch 43/250\n",
      "3/3 - 0s - loss: 0.0931 - val_loss: 0.3311\n",
      "Epoch 44/250\n",
      "3/3 - 0s - loss: 0.0868 - val_loss: 0.3436\n",
      "Epoch 45/250\n",
      "3/3 - 0s - loss: 0.0763 - val_loss: 0.2442\n",
      "Epoch 46/250\n",
      "3/3 - 0s - loss: 0.1053 - val_loss: 0.2948\n",
      "Epoch 47/250\n",
      "3/3 - 0s - loss: 0.0815 - val_loss: 0.3388\n",
      "Epoch 48/250\n",
      "3/3 - 0s - loss: 0.0785 - val_loss: 0.2847\n",
      "Epoch 49/250\n",
      "3/3 - 0s - loss: 0.0786 - val_loss: 0.2882\n",
      "Epoch 50/250\n",
      "3/3 - 0s - loss: 0.0823 - val_loss: 0.3478\n",
      "Epoch 51/250\n",
      "3/3 - 0s - loss: 0.0664 - val_loss: 0.2713\n",
      "Epoch 52/250\n",
      "3/3 - 0s - loss: 0.0813 - val_loss: 0.2672\n",
      "Epoch 53/250\n",
      "3/3 - 0s - loss: 0.0768 - val_loss: 0.3200\n",
      "Epoch 54/250\n",
      "3/3 - 0s - loss: 0.0712 - val_loss: 0.3120\n",
      "Epoch 55/250\n",
      "3/3 - 0s - loss: 0.0716 - val_loss: 0.2943\n",
      "Epoch 56/250\n",
      "3/3 - 0s - loss: 0.0740 - val_loss: 0.2927\n",
      "Epoch 57/250\n",
      "3/3 - 0s - loss: 0.0660 - val_loss: 0.2953\n",
      "Epoch 58/250\n",
      "3/3 - 0s - loss: 0.0644 - val_loss: 0.2858\n",
      "Epoch 59/250\n",
      "3/3 - 0s - loss: 0.0688 - val_loss: 0.2906\n",
      "Epoch 60/250\n",
      "3/3 - 0s - loss: 0.0674 - val_loss: 0.2442\n",
      "Epoch 61/250\n",
      "3/3 - 0s - loss: 0.0828 - val_loss: 0.3038\n",
      "Epoch 62/250\n",
      "3/3 - 0s - loss: 0.0605 - val_loss: 0.3243\n",
      "Epoch 63/250\n",
      "3/3 - 0s - loss: 0.0622 - val_loss: 0.2666\n",
      "Epoch 64/250\n",
      "3/3 - 0s - loss: 0.0699 - val_loss: 0.2766\n",
      "Epoch 65/250\n",
      "3/3 - 0s - loss: 0.0568 - val_loss: 0.2971\n",
      "Epoch 66/250\n",
      "3/3 - 0s - loss: 0.0558 - val_loss: 0.2863\n",
      "Epoch 67/250\n",
      "3/3 - 0s - loss: 0.0541 - val_loss: 0.2731\n",
      "Epoch 68/250\n",
      "3/3 - 0s - loss: 0.0621 - val_loss: 0.2482\n",
      "Epoch 69/250\n",
      "3/3 - 0s - loss: 0.0718 - val_loss: 0.2717\n",
      "Epoch 70/250\n",
      "3/3 - 0s - loss: 0.0545 - val_loss: 0.2767\n",
      "Epoch 71/250\n",
      "3/3 - 0s - loss: 0.0533 - val_loss: 0.2660\n",
      "Epoch 72/250\n",
      "3/3 - 0s - loss: 0.0514 - val_loss: 0.2551\n",
      "Epoch 73/250\n",
      "3/3 - 0s - loss: 0.0610 - val_loss: 0.2581\n",
      "Epoch 74/250\n",
      "3/3 - 0s - loss: 0.0467 - val_loss: 0.2769\n",
      "Epoch 75/250\n",
      "3/3 - 0s - loss: 0.0538 - val_loss: 0.2603\n",
      "Epoch 76/250\n",
      "3/3 - 0s - loss: 0.0563 - val_loss: 0.2464\n",
      "Epoch 77/250\n",
      "3/3 - 0s - loss: 0.0619 - val_loss: 0.2499\n",
      "Epoch 78/250\n",
      "3/3 - 0s - loss: 0.0516 - val_loss: 0.2641\n",
      "Epoch 79/250\n",
      "3/3 - 0s - loss: 0.0446 - val_loss: 0.2504\n",
      "Epoch 80/250\n",
      "3/3 - 0s - loss: 0.0549 - val_loss: 0.2667\n",
      "Epoch 81/250\n",
      "3/3 - 0s - loss: 0.0433 - val_loss: 0.2487\n",
      "Epoch 82/250\n",
      "3/3 - 0s - loss: 0.0486 - val_loss: 0.2650\n",
      "Epoch 83/250\n",
      "3/3 - 0s - loss: 0.0462 - val_loss: 0.2661\n",
      "Epoch 84/250\n",
      "3/3 - 0s - loss: 0.0406 - val_loss: 0.2129\n",
      "Epoch 85/250\n",
      "3/3 - 0s - loss: 0.0553 - val_loss: 0.2581\n",
      "Epoch 86/250\n",
      "3/3 - 0s - loss: 0.0413 - val_loss: 0.2386\n",
      "Epoch 87/250\n",
      "3/3 - 0s - loss: 0.0420 - val_loss: 0.2057\n",
      "Epoch 88/250\n",
      "3/3 - 0s - loss: 0.0601 - val_loss: 0.2556\n",
      "Epoch 89/250\n",
      "3/3 - 0s - loss: 0.0399 - val_loss: 0.2195\n",
      "Epoch 90/250\n",
      "3/3 - 0s - loss: 0.0573 - val_loss: 0.2324\n",
      "Epoch 91/250\n",
      "3/3 - 0s - loss: 0.0386 - val_loss: 0.2394\n",
      "Epoch 92/250\n",
      "3/3 - 0s - loss: 0.0481 - val_loss: 0.2050\n",
      "Epoch 93/250\n",
      "3/3 - 0s - loss: 0.0489 - val_loss: 0.2403\n",
      "Epoch 94/250\n",
      "3/3 - 0s - loss: 0.0390 - val_loss: 0.2280\n",
      "Epoch 95/250\n",
      "3/3 - 0s - loss: 0.0395 - val_loss: 0.1842\n",
      "Epoch 96/250\n",
      "3/3 - 0s - loss: 0.0567 - val_loss: 0.2183\n",
      "Epoch 97/250\n",
      "3/3 - 0s - loss: 0.0415 - val_loss: 0.2134\n",
      "Epoch 98/250\n",
      "3/3 - 0s - loss: 0.0463 - val_loss: 0.2256\n",
      "Epoch 99/250\n",
      "3/3 - 0s - loss: 0.0398 - val_loss: 0.2013\n",
      "Epoch 100/250\n",
      "3/3 - 0s - loss: 0.0524 - val_loss: 0.2269\n",
      "Epoch 101/250\n",
      "3/3 - 0s - loss: 0.0409 - val_loss: 0.2103\n",
      "Epoch 102/250\n",
      "3/3 - 0s - loss: 0.0503 - val_loss: 0.2171\n",
      "Epoch 103/250\n",
      "3/3 - 0s - loss: 0.0414 - val_loss: 0.2252\n",
      "Epoch 104/250\n",
      "3/3 - 0s - loss: 0.0323 - val_loss: 0.1879\n",
      "Epoch 105/250\n",
      "3/3 - 0s - loss: 0.0473 - val_loss: 0.2236\n",
      "Epoch 106/250\n",
      "3/3 - 0s - loss: 0.0365 - val_loss: 0.1684\n",
      "Epoch 107/250\n",
      "3/3 - 0s - loss: 0.0627 - val_loss: 0.1985\n",
      "Epoch 108/250\n",
      "3/3 - 0s - loss: 0.0396 - val_loss: 0.2125\n",
      "Epoch 109/250\n",
      "3/3 - 0s - loss: 0.0406 - val_loss: 0.1741\n",
      "Epoch 110/250\n",
      "3/3 - 0s - loss: 0.0489 - val_loss: 0.1969\n",
      "Epoch 111/250\n",
      "3/3 - 0s - loss: 0.0392 - val_loss: 0.1734\n",
      "Epoch 112/250\n",
      "3/3 - 0s - loss: 0.0467 - val_loss: 0.2232\n",
      "Epoch 113/250\n",
      "3/3 - 0s - loss: 0.0391 - val_loss: 0.1834\n",
      "Epoch 114/250\n",
      "3/3 - 0s - loss: 0.0505 - val_loss: 0.2122\n",
      "Epoch 115/250\n",
      "3/3 - 0s - loss: 0.0466 - val_loss: 0.2166\n",
      "Epoch 116/250\n",
      "3/3 - 0s - loss: 0.0338 - val_loss: 0.1600\n",
      "Epoch 117/250\n",
      "3/3 - 0s - loss: 0.0474 - val_loss: 0.2239\n",
      "Epoch 118/250\n",
      "3/3 - 0s - loss: 0.0340 - val_loss: 0.1658\n",
      "Epoch 119/250\n",
      "3/3 - 0s - loss: 0.0503 - val_loss: 0.2262\n",
      "Epoch 120/250\n",
      "3/3 - 0s - loss: 0.0504 - val_loss: 0.2153\n",
      "Epoch 121/250\n",
      "3/3 - 0s - loss: 0.0371 - val_loss: 0.1562\n",
      "Epoch 122/250\n",
      "3/3 - 0s - loss: 0.0483 - val_loss: 0.2258\n",
      "Epoch 123/250\n",
      "3/3 - 0s - loss: 0.0292 - val_loss: 0.1549\n",
      "Epoch 124/250\n",
      "3/3 - 0s - loss: 0.0633 - val_loss: 0.1991\n",
      "Epoch 125/250\n",
      "3/3 - 0s - loss: 0.0408 - val_loss: 0.2315\n",
      "Epoch 126/250\n",
      "3/3 - 0s - loss: 0.0295 - val_loss: 0.1556\n",
      "Epoch 127/250\n",
      "3/3 - 0s - loss: 0.0571 - val_loss: 0.2061\n",
      "Epoch 128/250\n",
      "3/3 - 0s - loss: 0.0337 - val_loss: 0.2019\n",
      "Epoch 129/250\n",
      "3/3 - 0s - loss: 0.0351 - val_loss: 0.1656\n",
      "Epoch 130/250\n",
      "3/3 - 0s - loss: 0.0461 - val_loss: 0.1965\n",
      "Epoch 131/250\n",
      "3/3 - 0s - loss: 0.0299 - val_loss: 0.1748\n",
      "Epoch 132/250\n",
      "3/3 - 0s - loss: 0.0440 - val_loss: 0.1882\n",
      "Epoch 133/250\n",
      "3/3 - 0s - loss: 0.0334 - val_loss: 0.2031\n",
      "Epoch 134/250\n",
      "3/3 - 0s - loss: 0.0262 - val_loss: 0.1569\n",
      "Epoch 135/250\n",
      "3/3 - 0s - loss: 0.0458 - val_loss: 0.2066\n",
      "Epoch 136/250\n",
      "3/3 - 0s - loss: 0.0367 - val_loss: 0.1840\n",
      "Epoch 137/250\n",
      "3/3 - 0s - loss: 0.0370 - val_loss: 0.1774\n",
      "Epoch 138/250\n",
      "3/3 - 0s - loss: 0.0347 - val_loss: 0.1928\n",
      "Epoch 139/250\n",
      "3/3 - 0s - loss: 0.0319 - val_loss: 0.1660\n",
      "Epoch 140/250\n",
      "3/3 - 0s - loss: 0.0317 - val_loss: 0.1949\n",
      "Epoch 141/250\n",
      "3/3 - 0s - loss: 0.0273 - val_loss: 0.1657\n",
      "Epoch 142/250\n",
      "3/3 - 0s - loss: 0.0343 - val_loss: 0.1919\n",
      "Epoch 143/250\n",
      "3/3 - 0s - loss: 0.0254 - val_loss: 0.1558\n",
      "Epoch 144/250\n",
      "3/3 - 0s - loss: 0.0438 - val_loss: 0.1808\n",
      "Epoch 145/250\n",
      "3/3 - 0s - loss: 0.0293 - val_loss: 0.1691\n",
      "Epoch 146/250\n",
      "3/3 - 0s - loss: 0.0335 - val_loss: 0.1753\n",
      "Epoch 147/250\n",
      "3/3 - 0s - loss: 0.0276 - val_loss: 0.1805\n",
      "Epoch 148/250\n",
      "3/3 - 0s - loss: 0.0275 - val_loss: 0.1507\n",
      "Epoch 149/250\n",
      "3/3 - 0s - loss: 0.0322 - val_loss: 0.1979\n",
      "Epoch 150/250\n",
      "3/3 - 0s - loss: 0.0337 - val_loss: 0.1509\n",
      "Epoch 151/250\n",
      "3/3 - 0s - loss: 0.0393 - val_loss: 0.1500\n",
      "Epoch 152/250\n",
      "3/3 - 0s - loss: 0.0315 - val_loss: 0.1710\n",
      "Epoch 153/250\n",
      "3/3 - 0s - loss: 0.0264 - val_loss: 0.1412\n",
      "Epoch 154/250\n",
      "3/3 - 0s - loss: 0.0354 - val_loss: 0.1661\n",
      "Epoch 155/250\n",
      "3/3 - 0s - loss: 0.0263 - val_loss: 0.1490\n",
      "Epoch 156/250\n",
      "3/3 - 0s - loss: 0.0303 - val_loss: 0.1807\n",
      "Epoch 157/250\n",
      "3/3 - 0s - loss: 0.0339 - val_loss: 0.1300\n",
      "Epoch 158/250\n",
      "3/3 - 0s - loss: 0.0419 - val_loss: 0.1542\n",
      "Epoch 159/250\n",
      "3/3 - 0s - loss: 0.0284 - val_loss: 0.1505\n",
      "Epoch 160/250\n",
      "3/3 - 0s - loss: 0.0325 - val_loss: 0.1582\n",
      "Epoch 161/250\n",
      "3/3 - 0s - loss: 0.0249 - val_loss: 0.1624\n",
      "Epoch 162/250\n",
      "3/3 - 0s - loss: 0.0243 - val_loss: 0.1357\n",
      "Epoch 163/250\n",
      "3/3 - 0s - loss: 0.0351 - val_loss: 0.1488\n",
      "Epoch 164/250\n",
      "3/3 - 0s - loss: 0.0280 - val_loss: 0.1609\n",
      "Epoch 165/250\n",
      "3/3 - 0s - loss: 0.0266 - val_loss: 0.1309\n",
      "Epoch 166/250\n",
      "3/3 - 0s - loss: 0.0322 - val_loss: 0.1577\n",
      "Epoch 167/250\n",
      "3/3 - 0s - loss: 0.0262 - val_loss: 0.1305\n",
      "Epoch 168/250\n",
      "3/3 - 0s - loss: 0.0329 - val_loss: 0.1618\n",
      "Epoch 169/250\n",
      "3/3 - 0s - loss: 0.0288 - val_loss: 0.1187\n",
      "Epoch 170/250\n",
      "3/3 - 0s - loss: 0.0430 - val_loss: 0.1725\n",
      "Epoch 171/250\n",
      "3/3 - 0s - loss: 0.0431 - val_loss: 0.1397\n",
      "Epoch 172/250\n",
      "3/3 - 0s - loss: 0.0363 - val_loss: 0.1393\n",
      "Epoch 173/250\n",
      "3/3 - 0s - loss: 0.0306 - val_loss: 0.1502\n",
      "Epoch 174/250\n",
      "3/3 - 0s - loss: 0.0274 - val_loss: 0.1474\n",
      "Epoch 175/250\n",
      "3/3 - 0s - loss: 0.0249 - val_loss: 0.1568\n",
      "Epoch 176/250\n",
      "3/3 - 0s - loss: 0.0233 - val_loss: 0.1511\n",
      "Epoch 177/250\n",
      "3/3 - 0s - loss: 0.0255 - val_loss: 0.1469\n",
      "Epoch 178/250\n",
      "3/3 - 0s - loss: 0.0283 - val_loss: 0.1307\n",
      "Epoch 179/250\n",
      "3/3 - 0s - loss: 0.0321 - val_loss: 0.1627\n",
      "Epoch 180/250\n",
      "3/3 - 0s - loss: 0.0254 - val_loss: 0.1317\n",
      "Epoch 181/250\n",
      "3/3 - 0s - loss: 0.0275 - val_loss: 0.1577\n",
      "Epoch 182/250\n",
      "3/3 - 0s - loss: 0.0246 - val_loss: 0.1109\n",
      "Epoch 183/250\n",
      "3/3 - 0s - loss: 0.0389 - val_loss: 0.1706\n",
      "Epoch 184/250\n",
      "3/3 - 0s - loss: 0.0366 - val_loss: 0.1102\n",
      "Epoch 185/250\n",
      "3/3 - 0s - loss: 0.0497 - val_loss: 0.1492\n",
      "Epoch 186/250\n",
      "3/3 - 0s - loss: 0.0331 - val_loss: 0.1456\n",
      "Epoch 187/250\n",
      "3/3 - 0s - loss: 0.0311 - val_loss: 0.1325\n",
      "Epoch 188/250\n",
      "3/3 - 0s - loss: 0.0270 - val_loss: 0.1566\n",
      "Epoch 189/250\n",
      "3/3 - 0s - loss: 0.0218 - val_loss: 0.1444\n",
      "Epoch 190/250\n",
      "3/3 - 0s - loss: 0.0240 - val_loss: 0.1502\n",
      "Epoch 191/250\n",
      "3/3 - 0s - loss: 0.0234 - val_loss: 0.1477\n",
      "Epoch 192/250\n",
      "3/3 - 0s - loss: 0.0212 - val_loss: 0.1462\n",
      "Epoch 193/250\n",
      "3/3 - 0s - loss: 0.0230 - val_loss: 0.1199\n",
      "Epoch 194/250\n",
      "3/3 - 0s - loss: 0.0397 - val_loss: 0.1402\n",
      "Epoch 195/250\n",
      "3/3 - 0s - loss: 0.0257 - val_loss: 0.1318\n",
      "Epoch 196/250\n",
      "3/3 - 0s - loss: 0.0268 - val_loss: 0.1419\n",
      "Epoch 197/250\n",
      "3/3 - 0s - loss: 0.0228 - val_loss: 0.1153\n",
      "Epoch 198/250\n",
      "3/3 - 0s - loss: 0.0318 - val_loss: 0.1493\n",
      "Epoch 199/250\n",
      "3/3 - 0s - loss: 0.0280 - val_loss: 0.0796\n",
      "Epoch 200/250\n",
      "3/3 - 0s - loss: 0.0594 - val_loss: 0.1304\n",
      "Epoch 201/250\n",
      "3/3 - 0s - loss: 0.0370 - val_loss: 0.1566\n",
      "Epoch 202/250\n",
      "3/3 - 0s - loss: 0.0252 - val_loss: 0.1161\n",
      "Epoch 203/250\n",
      "3/3 - 0s - loss: 0.0256 - val_loss: 0.1399\n",
      "Epoch 204/250\n",
      "3/3 - 0s - loss: 0.0213 - val_loss: 0.1455\n",
      "Epoch 205/250\n",
      "3/3 - 0s - loss: 0.0269 - val_loss: 0.1159\n",
      "Epoch 206/250\n",
      "3/3 - 0s - loss: 0.0358 - val_loss: 0.1525\n",
      "Epoch 207/250\n",
      "3/3 - 0s - loss: 0.0283 - val_loss: 0.1243\n",
      "Epoch 208/250\n",
      "3/3 - 0s - loss: 0.0310 - val_loss: 0.1604\n",
      "Epoch 209/250\n",
      "3/3 - 0s - loss: 0.0359 - val_loss: 0.1361\n",
      "Epoch 210/250\n",
      "3/3 - 0s - loss: 0.0303 - val_loss: 0.1201\n",
      "Epoch 211/250\n",
      "3/3 - 0s - loss: 0.0258 - val_loss: 0.1674\n",
      "Epoch 212/250\n",
      "3/3 - 0s - loss: 0.0228 - val_loss: 0.1112\n",
      "Epoch 213/250\n",
      "3/3 - 0s - loss: 0.0425 - val_loss: 0.1261\n",
      "Epoch 214/250\n",
      "3/3 - 0s - loss: 0.0254 - val_loss: 0.1509\n",
      "Epoch 215/250\n",
      "3/3 - 0s - loss: 0.0238 - val_loss: 0.1315\n",
      "Epoch 216/250\n",
      "3/3 - 0s - loss: 0.0239 - val_loss: 0.1444\n",
      "Epoch 217/250\n",
      "3/3 - 0s - loss: 0.0209 - val_loss: 0.1215\n",
      "Epoch 218/250\n",
      "3/3 - 0s - loss: 0.0282 - val_loss: 0.1426\n",
      "Epoch 219/250\n",
      "3/3 - 0s - loss: 0.0212 - val_loss: 0.1129\n",
      "Epoch 220/250\n",
      "3/3 - 0s - loss: 0.0285 - val_loss: 0.1470\n",
      "Epoch 221/250\n",
      "3/3 - 0s - loss: 0.0277 - val_loss: 0.0940\n",
      "Epoch 222/250\n",
      "3/3 - 0s - loss: 0.0492 - val_loss: 0.1287\n",
      "Epoch 223/250\n",
      "3/3 - 0s - loss: 0.0338 - val_loss: 0.1480\n",
      "Epoch 224/250\n",
      "3/3 - 0s - loss: 0.0232 - val_loss: 0.1070\n",
      "Epoch 225/250\n",
      "3/3 - 0s - loss: 0.0273 - val_loss: 0.1508\n",
      "Epoch 226/250\n",
      "3/3 - 0s - loss: 0.0198 - val_loss: 0.1002\n",
      "Epoch 227/250\n",
      "3/3 - 0s - loss: 0.0400 - val_loss: 0.1282\n",
      "Epoch 228/250\n",
      "3/3 - 0s - loss: 0.0227 - val_loss: 0.1275\n",
      "Epoch 229/250\n",
      "3/3 - 0s - loss: 0.0241 - val_loss: 0.1235\n",
      "Epoch 230/250\n",
      "3/3 - 0s - loss: 0.0191 - val_loss: 0.1126\n",
      "Epoch 231/250\n",
      "3/3 - 0s - loss: 0.0275 - val_loss: 0.1444\n",
      "Epoch 232/250\n",
      "3/3 - 0s - loss: 0.0267 - val_loss: 0.0839\n",
      "Epoch 233/250\n",
      "3/3 - 0s - loss: 0.0464 - val_loss: 0.1204\n",
      "Epoch 234/250\n",
      "3/3 - 0s - loss: 0.0272 - val_loss: 0.1226\n",
      "Epoch 235/250\n",
      "3/3 - 0s - loss: 0.0260 - val_loss: 0.1278\n",
      "Epoch 236/250\n",
      "3/3 - 0s - loss: 0.0244 - val_loss: 0.1133\n",
      "Epoch 237/250\n",
      "3/3 - 0s - loss: 0.0281 - val_loss: 0.1159\n",
      "Epoch 238/250\n",
      "3/3 - 0s - loss: 0.0231 - val_loss: 0.1198\n",
      "Epoch 239/250\n",
      "3/3 - 0s - loss: 0.0226 - val_loss: 0.1090\n",
      "Epoch 240/250\n",
      "3/3 - 0s - loss: 0.0239 - val_loss: 0.1233\n",
      "Epoch 241/250\n",
      "3/3 - 0s - loss: 0.0193 - val_loss: 0.1032\n",
      "Epoch 242/250\n",
      "3/3 - 0s - loss: 0.0239 - val_loss: 0.1195\n",
      "Epoch 243/250\n",
      "3/3 - 0s - loss: 0.0216 - val_loss: 0.1064\n",
      "Epoch 244/250\n",
      "3/3 - 0s - loss: 0.0210 - val_loss: 0.1169\n",
      "Epoch 245/250\n",
      "3/3 - 0s - loss: 0.0213 - val_loss: 0.0972\n",
      "Epoch 246/250\n",
      "3/3 - 0s - loss: 0.0225 - val_loss: 0.1235\n",
      "Epoch 247/250\n",
      "3/3 - 0s - loss: 0.0203 - val_loss: 0.0943\n",
      "Epoch 248/250\n",
      "3/3 - 0s - loss: 0.0245 - val_loss: 0.1239\n",
      "Epoch 249/250\n",
      "3/3 - 0s - loss: 0.0194 - val_loss: 0.0662\n",
      "Epoch 250/250\n",
      "3/3 - 0s - loss: 0.0477 - val_loss: 0.1119\n"
     ]
    },
    {
     "data": {
      "image/png": "[encoded data removed]",
      "text/plain": [
       "<Figure size 432x288 with 1 Axes>"
      ]
     },
     "metadata": {
      "needs_background": "light"
     },
     "output_type": "display_data"
    }
   ],
   "source": [
    "model = Sequential()\n",
    "model.add(LSTM(250, input_shape=(train_X.shape[1], train_X.shape[2])))\n",
    "model.add(Dropout(0.2))\n",
    "model.add(Dense(1))\n",
    "model.compile(loss='mae', optimizer='adam')\n",
    "\n",
    "history = model.fit(train_X, train_y, epochs=250, batch_size=72, validation_data=(test_X, test_y), verbose=2, shuffle=False)\n",
    "\n",
    "plt.plot(history.history['loss'], label='train')\n",
    "plt.plot(history.history['val_loss'], label='test')\n",
    "plt.legend()\n",
    "plt.show()"
   ]
  },
  {
   "cell_type": "code",
   "execution_count": 72,
   "metadata": {},
   "outputs": [
    {
     "ename": "ValueError",
     "evalue": "operands could not be broadcast together with shapes (152,29) (17,) (152,29) ",
     "output_type": "error",
     "traceback": [
      "\u001b[0;31m---------------------------------------------------------------------------\u001b[0m",
      "\u001b[0;31mValueError\u001b[0m                                Traceback (most recent call last)",
      "\u001b[0;32m<ipython-input-72-c5027bf304d5>\u001b[0m in \u001b[0;36m<module>\u001b[0;34m\u001b[0m\n\u001b[1;32m     11\u001b[0m \u001b[0;34m\u001b[0m\u001b[0m\n\u001b[1;32m     12\u001b[0m \u001b[0;31m#transforming to original scale\u001b[0m\u001b[0;34m\u001b[0m\u001b[0;34m\u001b[0m\u001b[0;34m\u001b[0m\u001b[0m\n\u001b[0;32m---> 13\u001b[0;31m \u001b[0minv_train_predict\u001b[0m \u001b[0;34m=\u001b[0m \u001b[0mscaler\u001b[0m\u001b[0;34m.\u001b[0m\u001b[0minverse_transform\u001b[0m\u001b[0;34m(\u001b[0m\u001b[0minv_train_predict\u001b[0m\u001b[0;34m)\u001b[0m\u001b[0;34m\u001b[0m\u001b[0;34m\u001b[0m\u001b[0m\n\u001b[0m\u001b[1;32m     14\u001b[0m \u001b[0minv_test_predict\u001b[0m \u001b[0;34m=\u001b[0m \u001b[0mscaler\u001b[0m\u001b[0;34m.\u001b[0m\u001b[0minverse_transform\u001b[0m\u001b[0;34m(\u001b[0m\u001b[0minv_test_predict\u001b[0m\u001b[0;34m)\u001b[0m\u001b[0;34m\u001b[0m\u001b[0;34m\u001b[0m\u001b[0m\n\u001b[1;32m     15\u001b[0m \u001b[0;34m\u001b[0m\u001b[0m\n",
      "\u001b[0;32m~/opt/anaconda3/envs/capstone/lib/python3.8/site-packages/sklearn/preprocessing/_data.py\u001b[0m in \u001b[0;36minverse_transform\u001b[0;34m(self, X)\u001b[0m\n\u001b[1;32m    430\u001b[0m                         force_all_finite=\"allow-nan\")\n\u001b[1;32m    431\u001b[0m \u001b[0;34m\u001b[0m\u001b[0m\n\u001b[0;32m--> 432\u001b[0;31m         \u001b[0mX\u001b[0m \u001b[0;34m-=\u001b[0m \u001b[0mself\u001b[0m\u001b[0;34m.\u001b[0m\u001b[0mmin_\u001b[0m\u001b[0;34m\u001b[0m\u001b[0;34m\u001b[0m\u001b[0m\n\u001b[0m\u001b[1;32m    433\u001b[0m         \u001b[0mX\u001b[0m \u001b[0;34m/=\u001b[0m \u001b[0mself\u001b[0m\u001b[0;34m.\u001b[0m\u001b[0mscale_\u001b[0m\u001b[0;34m\u001b[0m\u001b[0;34m\u001b[0m\u001b[0m\n\u001b[1;32m    434\u001b[0m         \u001b[0;32mreturn\u001b[0m \u001b[0mX\u001b[0m\u001b[0;34m\u001b[0m\u001b[0;34m\u001b[0m\u001b[0m\n",
      "\u001b[0;31mValueError\u001b[0m: operands could not be broadcast together with shapes (152,29) (17,) (152,29) "
     ]
    }
   ],
   "source": [
    "#prediction on training and testing data\n",
    "train_predict = model.predict(train_X)    \n",
    "test_predict = model.predict(test_X)       \n",
    "\n",
    "#converting from three dimension to two dimension\n",
    "train_X = train_X.reshape((train_X.shape[0], train_X.shape[2]))\n",
    "test_X = test_X.reshape((test_X.shape[0], test_X.shape[2]))\n",
    "\n",
    "inv_train_predict = concatenate((train_predict, train_X), axis=1)\n",
    "inv_test_predict = concatenate((test_predict, test_X), axis=1)\n",
    "\n",
    "#transforming to original scale\n",
    "inv_train_predict = scaler.inverse_transform(inv_train_predict)\n",
    "inv_test_predict = scaler.inverse_transform(inv_test_predict)\n",
    "\n",
    "#predicted values on training data\n",
    "inv_train_predict = inv_train_predict[:,0]\n",
    "inv_train_predict\n",
    "\n",
    "#predicted values on testing data\n",
    "inv_test_predict = inv_test_predict[:,0]\n",
    "inv_test_predict "
   ]
  },
  {
   "cell_type": "code",
   "execution_count": null,
   "metadata": {},
   "outputs": [],
   "source": []
  }
 ],
 "metadata": {
  "kernelspec": {
   "display_name": "Python [conda env:capstone] *",
   "language": "python",
   "name": "conda-env-capstone-py"
  },
  "language_info": {
   "codemirror_mode": {
    "name": "ipython",
    "version": 3
   },
   "file_extension": ".py",
   "mimetype": "text/x-python",
   "name": "python",
   "nbconvert_exporter": "python",
   "pygments_lexer": "ipython3",
   "version": "3.8.5"
  }
 },
 "nbformat": 4,
 "nbformat_minor": 4
}
