{
 "cells": [
  {
   "cell_type": "markdown",
   "metadata": {},
   "source": [
    "# Processing pipeline"
   ]
  },
  {
   "cell_type": "code",
   "execution_count": 7,
   "metadata": {},
   "outputs": [],
   "source": [
    "import sys\n",
    "sys.path.insert(1, '/Users/jakoliendenhollander/capstone/capstone')\n",
    "import warnings\n",
    "\n",
    "import pandas as pd\n",
    "import numpy as np\n",
    "import matplotlib.pyplot as plt\n",
    "%matplotlib inline\n",
    "import seaborn as sns\n",
    "import datetime\n",
    "\n",
    "from datetime import timedelta\n",
    "from sklearn import metrics\n",
    "from sklearn.preprocessing import MinMaxScaler\n",
    "from sklearn.compose import TransformedTargetRegressor\n",
    "from sklearn.ensemble import RandomForestRegressor\n",
    "from sklearn.model_selection import train_test_split\n",
    "from yellowbrick.datasets import load_concrete\n",
    "from yellowbrick.regressor import residuals_plot\n",
    "from sklearn.inspection import plot_partial_dependence\n",
    "\n",
    "import tidy_functions.load_data\n",
    "import tidy_functions.clean_data\n",
    "import tidy_functions.merge_data_model\n",
    "import tidy_functions.feature_engineering\n",
    "\n",
    "warnings.filterwarnings(action='ignore')\n",
    "pd.set_option('display.max_columns', None) # To display all columns"
   ]
  },
  {
   "cell_type": "code",
   "execution_count": 8,
   "metadata": {},
   "outputs": [],
   "source": [
    "def mean_absolute_percentage_error(y_true, y_pred): \n",
    "    y_true, y_pred = np.array(y_true), np.array(y_pred)\n",
    "    return np.mean(np.abs((y_true - y_pred) / y_true)) * 100"
   ]
  },
  {
   "cell_type": "markdown",
   "metadata": {},
   "source": [
    "## Read in data"
   ]
  },
  {
   "cell_type": "code",
   "execution_count": 9,
   "metadata": {},
   "outputs": [
    {
     "name": "stdout",
     "output_type": "stream",
     "text": [
      "Read in survey data completed.\n",
      "Read in covid data completed.\n",
      "Read in mask wearing requirements data completed.\n"
     ]
    }
   ],
   "source": [
    "# Reading in survey data from csv into a dictionary of dataframes.\n",
    "dfs_country = tidy_functions.load_data.load_survey_data(\"/Users/jakoliendenhollander/capstone/capstone/data/CMU_Global_data/Full_Survey_Data/country/smooth/\", \"country\")\n",
    "\n",
    "# Concatenating individuals dataframes from the dictionary into one dataframe for regions.\n",
    "survey_data = pd.concat(dfs_country, ignore_index=True)\n",
    "\n",
    "# Corona stats\n",
    "covid_cases = pd.read_csv(\"/Users/jakoliendenhollander/capstone/capstone/data/corona_stats_14days.csv\")\n",
    "print('Read in covid data completed.')\n",
    "\n",
    "# Mask wearing requirements\n",
    "mask_wearing_requirements = pd.read_csv(\"/Users/jakoliendenhollander/capstone/capstone/data/data-nbhtq.csv\")\n",
    "print('Read in mask wearing requirements data completed.')"
   ]
  },
  {
   "cell_type": "markdown",
   "metadata": {},
   "source": [
    "## Cleaning data"
   ]
  },
  {
   "cell_type": "code",
   "execution_count": 10,
   "metadata": {},
   "outputs": [
    {
     "name": "stdout",
     "output_type": "stream",
     "text": [
      "NaNs before update: 152923\n",
      "NaNs after update: 0\n",
      "Updated NaNs in wear_mask_all_time.\n",
      "NaNs removed.\n",
      "Step 1 of cleaning requirements completed.\n",
      "Step 2 of cleaning requirements completed.\n",
      "Step 3 of cleaning requirements completed.\n",
      "Step 4 of cleaning requirements completed.\n",
      "Step 5 of cleaning requirements completed.\n",
      "Step 6 of cleaning requirements completed.\n",
      "Creating dictionaries for hdi completed.\n",
      "Creating dictionaries for hdi-levels completed.\n"
     ]
    }
   ],
   "source": [
    "# Survey data\n",
    "survey_data = tidy_functions.clean_data.delete_other_gender(survey_data)\n",
    "survey_data = tidy_functions.clean_data.deal_with_NaNs_masks(survey_data)\n",
    "\n",
    "# Corona stats\n",
    "covid_cases = tidy_functions.clean_data.deal_with_NaNs_corona_stats(covid_cases)\n",
    "\n",
    "# Mask wearing requirements\n",
    "mask_wearing_requirements = tidy_functions.clean_data.prepare_mask_req(mask_wearing_requirements)\n",
    "mask_wearing_requirements = tidy_functions.clean_data.dummies_mask_req(mask_wearing_requirements)\n",
    "mask_wearing_requirements = tidy_functions.clean_data.dummies_public_mask_req(mask_wearing_requirements)\n",
    "mask_wearing_requirements = tidy_functions.clean_data.dummies_indoors_mask_req(mask_wearing_requirements)\n",
    "mask_wearing_requirements = tidy_functions.clean_data.dummies_transport_mask_req(mask_wearing_requirements)\n",
    "mask_wearing_requirements = tidy_functions.clean_data.data_types_mask_req(mask_wearing_requirements)\n",
    "\n",
    "# HDI\n",
    "hdi_data = tidy_functions.clean_data.rename_hdi_countries(\"/Users/jakoliendenhollander/capstone/capstone/data/\",\"hdro_statistical_data_tables_1_15_d1_d5.xlsx\")\n",
    "dict_hdi = tidy_functions.clean_data.create_hdi_dict(hdi_data)\n",
    "dict_hdi_levels = tidy_functions.clean_data.create_hdi_levels_dict(hdi_data)"
   ]
  },
  {
   "cell_type": "markdown",
   "metadata": {},
   "source": [
    "## Merging data"
   ]
  },
  {
   "cell_type": "code",
   "execution_count": 11,
   "metadata": {},
   "outputs": [
    {
     "name": "stdout",
     "output_type": "stream",
     "text": [
      "Merging corona stats completed.\n",
      "Merging mask wearing requirements completed.\n",
      "Creating hdi list completed.\n",
      "Creating hdi-level list completed.\n"
     ]
    }
   ],
   "source": [
    "covid_merge = tidy_functions.merge_data_model.merge_corona_stats(survey_data,covid_cases)\n",
    "requirements_merge = tidy_functions.merge_data_model.merge_mask_req(covid_merge,mask_wearing_requirements)\n",
    "hdi_merge = tidy_functions.merge_data_model.create_hdi_columns(requirements_merge, dict_hdi, dict_hdi_levels)"
   ]
  },
  {
   "cell_type": "markdown",
   "metadata": {},
   "source": [
    "## Feature engineering"
   ]
  },
  {
   "cell_type": "code",
   "execution_count": 12,
   "metadata": {},
   "outputs": [
    {
     "name": "stdout",
     "output_type": "stream",
     "text": [
      "Month column created.\n",
      "Feature engineering completed.\n"
     ]
    }
   ],
   "source": [
    "date_fixed = tidy_functions.feature_engineering.insert_month(hdi_merge)\n",
    "requirement_date = tidy_functions.feature_engineering.add_requirement_by_date(date_fixed)"
   ]
  },
  {
   "cell_type": "code",
   "execution_count": 13,
   "metadata": {},
   "outputs": [],
   "source": [
    "df = requirement_date.copy()"
   ]
  },
  {
   "cell_type": "markdown",
   "metadata": {},
   "source": [
    "## Data selection"
   ]
  },
  {
   "cell_type": "code",
   "execution_count": 14,
   "metadata": {},
   "outputs": [],
   "source": [
    "df = df[df[\"age_bucket\"]==\"overall\"]\n",
    "df = df[df[\"gender\"]==\"overall\"]"
   ]
  },
  {
   "cell_type": "code",
   "execution_count": 15,
   "metadata": {},
   "outputs": [],
   "source": [
    "date = [\"date\"]\n",
    "\n",
    "columns_general = [\"iso_code\", \"hdi\", \"median_age\"]\n",
    "\n",
    "columns_general_no_iso = [\"hdi\", \"median_age\"]\n",
    "\n",
    "columns_social_distancing = [\"smoothed_pct_worked_outside_home_weighted\", \"smoothed_pct_grocery_outside_home_weighted\", \"smoothed_pct_ate_outside_home_weighted\", \n",
    "                             \"smoothed_pct_attended_public_event_weighted\", \"smoothed_pct_used_public_transit_weighted\", \n",
    "                             \"smoothed_pct_direct_contact_with_non_hh_weighted\", \"smoothed_pct_no_public_weighted\"]\n",
    "\n",
    "columns_mask_wearing = [\"smoothed_pct_wear_mask_all_time_weighted\", \"smoothed_pct_wear_mask_most_time_weighted\"]\n",
    "\n",
    "columns_mask_req = [\"cur_mask_recommended\", \"cur_mask_not_required\", \"cur_mask_not_required_recommended\", \"cur_mask_not_required_universal\", \n",
    "                    \"cur_mask_required_part_country\", \"cur_mask_everywhere_in_public\", \"cur_mask_public_indoors\", \"cur_mask_public_transport\"]\n",
    "\n",
    "columns_past = [\"total_cases_per_million\",\"previous_7days\"]\n",
    "\n",
    "columns_pred = [\"next_14days\"]\n",
    "\n",
    "columns_interest = date + columns_general + columns_social_distancing + columns_mask_wearing + columns_mask_req + columns_past + columns_pred\n"
   ]
  },
  {
   "cell_type": "code",
   "execution_count": 16,
   "metadata": {},
   "outputs": [],
   "source": [
    "df_select = df[columns_interest]"
   ]
  },
  {
   "cell_type": "code",
   "execution_count": 17,
   "metadata": {},
   "outputs": [],
   "source": [
    "df_time = df_select.copy()"
   ]
  },
  {
   "cell_type": "code",
   "execution_count": 18,
   "metadata": {},
   "outputs": [],
   "source": [
    "# convert columns from object to numeric\n",
    "df_time.previous_7days = pd.to_numeric(df_time.previous_7days, errors='coerce')\n",
    "df_time.next_14days = pd.to_numeric(df_time.next_14days, errors='coerce')"
   ]
  },
  {
   "cell_type": "code",
   "execution_count": 19,
   "metadata": {},
   "outputs": [],
   "source": [
    "# sort data frame by time\n",
    "df_time = df_time.sort_values('date')"
   ]
  },
  {
   "cell_type": "markdown",
   "metadata": {},
   "source": [
    "## Overall model"
   ]
  },
  {
   "cell_type": "code",
   "execution_count": 20,
   "metadata": {},
   "outputs": [],
   "source": [
    "# drop date and iso code column\n",
    "df_no_date = df_time.drop([\"iso_code\",\"date\"], axis=1)"
   ]
  },
  {
   "cell_type": "code",
   "execution_count": 21,
   "metadata": {},
   "outputs": [],
   "source": [
    "# define X and y\n",
    "X = df_no_date.drop(\"next_14days\", axis=1)\n",
    "y = df_no_date[\"next_14days\"]"
   ]
  },
  {
   "cell_type": "code",
   "execution_count": 22,
   "metadata": {},
   "outputs": [
    {
     "name": "stdout",
     "output_type": "stream",
     "text": [
      "(17016, 21) (4254, 21) (17016,) (4254,)\n"
     ]
    }
   ],
   "source": [
    "# divide the data into train and test data\n",
    "X_train, X_test, y_train, y_test = train_test_split(X, y, test_size=0.2, random_state=42)\n",
    "print(X_train.shape, X_test.shape, y_train.shape, y_test.shape)"
   ]
  },
  {
   "cell_type": "code",
   "execution_count": 23,
   "metadata": {},
   "outputs": [],
   "source": [
    "model = RandomForestRegressor(criterion='mae')"
   ]
  },
  {
   "cell_type": "code",
   "execution_count": 24,
   "metadata": {},
   "outputs": [],
   "source": [
    "# define the target transform wrapper \n",
    "wrapped_model = TransformedTargetRegressor(regressor=model,transformer=MinMaxScaler()) \n",
    "# use the target transform wrapper \n",
    "wrapped_model.fit(X_train, y_train) \n",
    "yhat = wrapped_model.predict(X_test)"
   ]
  },
  {
   "cell_type": "code",
   "execution_count": 25,
   "metadata": {},
   "outputs": [
    {
     "name": "stdout",
     "output_type": "stream",
     "text": [
      "mae: 107.49702310648813\n",
      "mape: 3.7053800662706817\n"
     ]
    }
   ],
   "source": [
    "# evaluate the model\n",
    "print('mae:',metrics.mean_absolute_error(y_test, yhat))\n",
    "print('mape:',mean_absolute_percentage_error(y_test, yhat))"
   ]
  },
  {
   "cell_type": "markdown",
   "metadata": {},
   "source": [
    "## Making predictions"
   ]
  },
  {
   "cell_type": "code",
   "execution_count": 26,
   "metadata": {},
   "outputs": [],
   "source": [
    "def predict_cases(iso_code,date):\n",
    "    what = df_time.loc[(df_time[\"iso_code\"]==iso_code) & (df_time[\"date\"]==date)]\n",
    "    what = what[columns_interest]\n",
    "    true_value = what[\"next_14days\"].values\n",
    "    \n",
    "    what.drop([\"iso_code\",\"date\",\"next_14days\"], axis=1, inplace=True)\n",
    "    prediction = wrapped_model.predict(what)\n",
    "    \n",
    "    return str(true_value)[1:-1],str(prediction)[1:-1]"
   ]
  },
  {
   "cell_type": "markdown",
   "metadata": {},
   "source": [
    "### Lebanon"
   ]
  },
  {
   "cell_type": "code",
   "execution_count": 27,
   "metadata": {},
   "outputs": [],
   "source": [
    "dates = []\n",
    "true_values = [] \n",
    "predicted_values = []\n",
    "\n",
    "for i in df_time.date.unique():\n",
    "    i = str(i).split('T')[0]\n",
    "    dates.append(i)\n",
    "    true,prediction = predict_cases('LBN', i)\n",
    "    true_values.append(true)\n",
    "    predicted_values.append(prediction)"
   ]
  },
  {
   "cell_type": "code",
   "execution_count": 28,
   "metadata": {},
   "outputs": [],
   "source": [
    "lebanese_data = pd.DataFrame([], columns=['date','true_value','predicted_value'])\n",
    "lebanese_data['date'] = dates\n",
    "lebanese_data['true_value'] = true_values\n",
    "lebanese_data['predicted_value'] = predicted_values"
   ]
  },
  {
   "cell_type": "code",
   "execution_count": 29,
   "metadata": {},
   "outputs": [],
   "source": [
    "lebanese_data['date'] = pd.to_datetime(lebanese_data.date, errors='coerce')\n",
    "lebanese_data['true_value'] = pd.to_numeric(lebanese_data.true_value, errors='coerce')\n",
    "lebanese_data['predicted_value'] = pd.to_numeric(lebanese_data.predicted_value, errors='coerce')"
   ]
  },
  {
   "cell_type": "code",
   "execution_count": 30,
   "metadata": {},
   "outputs": [],
   "source": [
    "pivot_lebanese_data = lebanese_data.groupby(['date'])[['true_value','predicted_value']].mean()\n",
    "pivot_lebanese_data = pivot_lebanese_data.stack().reset_index()\n",
    "pivot_lebanese_data = pivot_lebanese_data.rename(columns={\"level_1\":\"value_type\",0: \"cases\"})"
   ]
  },
  {
   "cell_type": "code",
   "execution_count": 52,
   "metadata": {},
   "outputs": [],
   "source": [
    "lebanese_mask = (pivot_lebanese_data.date < pd.to_datetime('2020-11-01'))\n",
    "pivot_lebanese_data = pivot_lebanese_data.loc[lebanese_mask]"
   ]
  },
  {
   "cell_type": "markdown",
   "metadata": {},
   "source": [
    "### Germany"
   ]
  },
  {
   "cell_type": "code",
   "execution_count": 31,
   "metadata": {},
   "outputs": [],
   "source": [
    "dates = []\n",
    "true_values = [] \n",
    "predicted_values = []\n",
    "\n",
    "for i in df_time.date.unique():\n",
    "    i = str(i).split('T')[0]\n",
    "    dates.append(i)\n",
    "    true,prediction = predict_cases('DEU', i)\n",
    "    true_values.append(true)\n",
    "    predicted_values.append(prediction)"
   ]
  },
  {
   "cell_type": "code",
   "execution_count": 32,
   "metadata": {},
   "outputs": [],
   "source": [
    "german_data = pd.DataFrame([], columns=['date','true_value','predicted_value'])\n",
    "german_data['date'] = dates\n",
    "german_data['true_value'] = true_values\n",
    "german_data['predicted_value'] = predicted_values"
   ]
  },
  {
   "cell_type": "code",
   "execution_count": 33,
   "metadata": {},
   "outputs": [],
   "source": [
    "german_data['date'] = pd.to_datetime(german_data.date, errors='coerce')\n",
    "german_data['true_value'] = pd.to_numeric(german_data.true_value, errors='coerce')\n",
    "german_data['predicted_value'] = pd.to_numeric(german_data.predicted_value, errors='coerce')"
   ]
  },
  {
   "cell_type": "code",
   "execution_count": 34,
   "metadata": {},
   "outputs": [],
   "source": [
    "pivot_german_data = german_data.groupby(['date'])[['true_value','predicted_value']].mean()\n",
    "pivot_german_data = pivot_german_data.stack().reset_index()\n",
    "pivot_german_data = pivot_german_data.rename(columns={\"level_1\":\"value_type\",0: \"cases\"})"
   ]
  },
  {
   "cell_type": "code",
   "execution_count": 53,
   "metadata": {},
   "outputs": [],
   "source": [
    "german_mask = (pivot_german_data.date < pd.to_datetime('2020-11-01'))\n",
    "pivot_german_data = pivot_german_data.loc[german_mask]"
   ]
  },
  {
   "cell_type": "markdown",
   "metadata": {},
   "source": [
    "### Taiwan"
   ]
  },
  {
   "cell_type": "code",
   "execution_count": 35,
   "metadata": {},
   "outputs": [],
   "source": [
    "dates = []\n",
    "true_values = [] \n",
    "predicted_values = []\n",
    "\n",
    "for i in df_time.date.unique():\n",
    "    i = str(i).split('T')[0]\n",
    "    dates.append(i)\n",
    "    true,prediction = predict_cases('TWN', i)\n",
    "    true_values.append(true)\n",
    "    predicted_values.append(prediction)"
   ]
  },
  {
   "cell_type": "code",
   "execution_count": 36,
   "metadata": {},
   "outputs": [],
   "source": [
    "taiwanese_data = pd.DataFrame([], columns=['date','true_value','predicted_value'])\n",
    "taiwanese_data['date'] = dates\n",
    "taiwanese_data['true_value'] = true_values\n",
    "taiwanese_data['predicted_value'] = predicted_values"
   ]
  },
  {
   "cell_type": "code",
   "execution_count": 37,
   "metadata": {},
   "outputs": [],
   "source": [
    "taiwanese_data['date'] = pd.to_datetime(taiwanese_data.date, errors='coerce')\n",
    "taiwanese_data['true_value'] = pd.to_numeric(taiwanese_data.true_value, errors='coerce')\n",
    "taiwanese_data['predicted_value'] = pd.to_numeric(taiwanese_data.predicted_value, errors='coerce')"
   ]
  },
  {
   "cell_type": "code",
   "execution_count": 38,
   "metadata": {},
   "outputs": [],
   "source": [
    "pivot_taiwanese_data = taiwanese_data.groupby(['date'])[['true_value','predicted_value']].mean()\n",
    "pivot_taiwanese_data = pivot_taiwanese_data.stack().reset_index()\n",
    "pivot_taiwanese_data = pivot_taiwanese_data.rename(columns={\"level_1\":\"value_type\",0: \"cases\"})"
   ]
  },
  {
   "cell_type": "code",
   "execution_count": 55,
   "metadata": {},
   "outputs": [],
   "source": [
    "taiwanese_mask = (pivot_taiwanese_data.date < pd.to_datetime('2020-11-01'))\n",
    "pivot_taiwanese_data = pivot_taiwanese_data.loc[taiwanese_mask]"
   ]
  },
  {
   "cell_type": "markdown",
   "metadata": {},
   "source": [
    "### Mexico"
   ]
  },
  {
   "cell_type": "code",
   "execution_count": 39,
   "metadata": {},
   "outputs": [],
   "source": [
    "dates = []\n",
    "true_values = [] \n",
    "predicted_values = []\n",
    "\n",
    "for i in df_time.date.unique():\n",
    "    i = str(i).split('T')[0]\n",
    "    dates.append(i)\n",
    "    true,prediction = predict_cases('MEX', i)\n",
    "    true_values.append(true)\n",
    "    predicted_values.append(prediction)"
   ]
  },
  {
   "cell_type": "code",
   "execution_count": 40,
   "metadata": {},
   "outputs": [],
   "source": [
    "mexican_data = pd.DataFrame([], columns=['date','true_value','predicted_value'])\n",
    "mexican_data['date'] = dates\n",
    "mexican_data['true_value'] = true_values\n",
    "mexican_data['predicted_value'] = predicted_values"
   ]
  },
  {
   "cell_type": "code",
   "execution_count": 41,
   "metadata": {},
   "outputs": [],
   "source": [
    "mexican_data['date'] = pd.to_datetime(mexican_data.date, errors='coerce')\n",
    "mexican_data['true_value'] = pd.to_numeric(mexican_data.true_value, errors='coerce')\n",
    "mexican_data['predicted_value'] = pd.to_numeric(mexican_data.predicted_value, errors='coerce')"
   ]
  },
  {
   "cell_type": "code",
   "execution_count": 42,
   "metadata": {},
   "outputs": [],
   "source": [
    "pivot_mexican_data = mexican_data.groupby(['date'])[['true_value','predicted_value']].mean()\n",
    "pivot_mexican_data = pivot_mexican_data.stack().reset_index()\n",
    "pivot_mexican_data = pivot_mexican_data.rename(columns={\"level_1\":\"value_type\",0: \"cases\"})"
   ]
  },
  {
   "cell_type": "code",
   "execution_count": 54,
   "metadata": {},
   "outputs": [],
   "source": [
    "mexican_mask = (pivot_mexican_data.date < pd.to_datetime('2020-11-01'))\n",
    "pivot_mexican_data = pivot_mexican_data.loc[mexican_mask]"
   ]
  },
  {
   "cell_type": "code",
   "execution_count": 56,
   "metadata": {},
   "outputs": [
    {
     "data": {
      "image/png": "[encoded data removed]",
      "text/plain": [
       "<Figure size 1080x720 with 4 Axes>"
      ]
     },
     "metadata": {},
     "output_type": "display_data"
    }
   ],
   "source": [
    "# Plotting settings\n",
    "sns.set_style(\"whitegrid\")\n",
    "plt.style.use('seaborn-poster')\n",
    "slides_palette = [\"#00287f\", \"#00c5ff\"]\n",
    "sns.set_palette(slides_palette)\n",
    "f, axes = plt.subplots(2, 2, figsize=(15,10))\n",
    "\n",
    "\n",
    "g1 = sns.lineplot(data=pivot_lebanese_data, x='date', y='cases', hue='value_type', ax=axes[0][0]);\n",
    "g1.set_title('LEBANON', weight='bold');\n",
    "g1.set_xlabel('date');\n",
    "g1.set_ylabel('total cases per million in 2 weeks');\n",
    "g1.set_ylim(0,16000)\n",
    "g1.legend().set_title('');\n",
    "g1.legend(loc='upper left');\n",
    "\n",
    "g2 = sns.lineplot(data=pivot_german_data, x='date', y='cases', hue='value_type', ax=axes[0][1]);\n",
    "g2.set_title('GERMANY', weight='bold');\n",
    "g2.set_xlabel('date');\n",
    "g2.set_ylabel('total cases per million in 2 weeks');\n",
    "g2.set_ylim(0,16000)\n",
    "g2.legend().set_title('');\n",
    "g2.legend(loc='upper left');\n",
    "\n",
    "g3 = sns.lineplot(data=pivot_taiwanese_data, x='date', y='cases', hue='value_type', ax=axes[1][0]);\n",
    "g3.legend().set_title('');\n",
    "g3.set_title('TAIWAN', weight='bold');\n",
    "g3.set_xlabel('date');\n",
    "g3.set_ylabel('total cases per million in 2 weeks');\n",
    "g3.set_ylim(0,30)\n",
    "g3.legend().set_title('');\n",
    "g3.legend(loc='upper left');\n",
    "\n",
    "g4 = sns.lineplot(data=pivot_mexican_data, x='date', y='cases', hue='value_type', ax=axes[1][1]);\n",
    "g4.set_title('MEXICO', weight='bold');\n",
    "g4.set_xlabel('date');\n",
    "g4.set_ylabel('total cases per million in 2 weeks');\n",
    "g4.set_ylim(0,8000)\n",
    "g4.legend().set_title('');\n",
    "g4.legend(loc='upper left');\n",
    "\n",
    "plt.tight_layout()"
   ]
  },
  {
   "cell_type": "code",
   "execution_count": null,
   "metadata": {},
   "outputs": [],
   "source": [
    "# plot the residuals\n",
    "viz = residuals_plot(RandomForestRegressor(criterion='mae'), X_train, y_train, X_test, y_test)"
   ]
  },
  {
   "cell_type": "code",
   "execution_count": null,
   "metadata": {},
   "outputs": [],
   "source": [
    "# make feature dependence plots\n",
    "features = [\"hdi\", \"median_age\", \"smoothed_pct_wear_mask_all_time_weighted\", \"smoothed_pct_wear_mask_most_time_weighted\",\n",
    "            \"cur_mask_recommended\", \"cur_mask_not_required\", \"cur_mask_not_required_recommended\", \n",
    "            \"cur_mask_not_required_universal\", \"cur_mask_required_part_country\", \"cur_mask_everywhere_in_public\",\n",
    "            \"cur_mask_public_indoors\", \"cur_mask_public_transport\",\"total_cases_per_million\",\"previous_7days\"]\n",
    "\n",
    "plot_partial_dependence(wrapped_model, X_train, features,\n",
    "                        n_jobs=3, grid_resolution=20)\n",
    "fig = plt.gcf()\n",
    "fig.suptitle('Partial dependence of covid-19 cases on features.')\n",
    "fig.subplots_adjust(hspace=0.5)"
   ]
  },
  {
   "cell_type": "markdown",
   "metadata": {},
   "source": [
    "## Answering research questions"
   ]
  },
  {
   "cell_type": "code",
   "execution_count": null,
   "metadata": {},
   "outputs": [],
   "source": [
    "# create a pivot table with the overall percentages of wearing mask all time per country\n",
    "pivot_mask_all_time = df_time.groupby(['iso_code'])[['smoothed_pct_wear_mask_all_time_weighted']].mean()\n",
    "pivot_mask_all_time = pivot_mask_all_time.stack().reset_index()\n",
    "pivot_mask_all_time.drop('level_1', axis=1, inplace=True)\n",
    "pivot_mask_all_time = pivot_mask_all_time.rename(columns={0: \"mask_all_time\"})\n",
    "\n",
    "# split dataset into countries with more and those with less mask wearing\n",
    "masks_all_more = pivot_mask_all_time[pivot_mask_all_time.mask_all_time >= 50]\n",
    "masks_all_less = pivot_mask_all_time[pivot_mask_all_time.mask_all_time < 50]\n",
    "print('all',masks_all_more.iso_code.nunique())\n",
    "print('not all',masks_all_less.iso_code.nunique())"
   ]
  },
  {
   "cell_type": "code",
   "execution_count": null,
   "metadata": {},
   "outputs": [],
   "source": [
    "# list of social distancing measures that are not well adhered to when the values are high\n",
    "columns_soc_dist_bad = [\"smoothed_pct_worked_outside_home_weighted\", \"smoothed_pct_grocery_outside_home_weighted\", \"smoothed_pct_ate_outside_home_weighted\", \n",
    "                             \"smoothed_pct_attended_public_event_weighted\", \"smoothed_pct_used_public_transit_weighted\", \n",
    "                             \"smoothed_pct_direct_contact_with_non_hh_weighted\"]"
   ]
  },
  {
   "cell_type": "code",
   "execution_count": null,
   "metadata": {},
   "outputs": [],
   "source": [
    "# create a pivot table with the overall percentages per measure per country\n",
    "pivot_soc_dist = df_time.groupby(['iso_code'])[columns_soc_dist_bad].mean()\n",
    "pivot_soc_dist = pivot_soc_dist.stack().reset_index()\n",
    "pivot_soc_dist = pivot_soc_dist.rename(columns={0: \"percentage\"})\n",
    "\n",
    "# create a pivot table with the overall percentages over all measures per country\n",
    "pivot_soc_dist_overall = pivot_soc_dist.groupby(['iso_code'])[['percentage']].mean()\n",
    "pivot_soc_dist_overall = pivot_soc_dist_overall.stack().reset_index()\n",
    "pivot_soc_dist_overall.drop('level_1', axis=1, inplace=True)\n",
    "pivot_soc_dist_overall = pivot_soc_dist_overall.rename(columns={0: \"percentage\"})\n",
    "\n",
    "# split dataset into countries that adhere more and less to social distancing measures\n",
    "soc_dist_more = pivot_soc_dist_overall[pivot_soc_dist_overall.percentage < 34]\n",
    "soc_dist_less = pivot_soc_dist_overall[pivot_soc_dist_overall.percentage >= 34]\n",
    "print('most',soc_dist_more.iso_code.nunique())\n",
    "print('not_most',soc_dist_less.iso_code.nunique())"
   ]
  },
  {
   "cell_type": "code",
   "execution_count": null,
   "metadata": {},
   "outputs": [],
   "source": [
    "# create a list of isocodes of countries that adhere well to mask wearing and social distancing (good_guys) and of those who do not (bad_guys)\n",
    "good_guys = list(set(masks_all_more['iso_code']).intersection(set(soc_dist_more['iso_code'])))\n",
    "bad_boys = list(set(masks_all_less['iso_code']).intersection(set(soc_dist_less['iso_code'])))"
   ]
  },
  {
   "cell_type": "code",
   "execution_count": null,
   "metadata": {},
   "outputs": [],
   "source": [
    "# select rows from the dataframe based on iso codes of adhering and not adhering countries\n",
    "adhering = df_time[df_time[\"iso_code\"].isin(good_guys)]\n",
    "not_adhering = df_time[df_time[\"iso_code\"].isin(bad_boys)]"
   ]
  },
  {
   "cell_type": "markdown",
   "metadata": {},
   "source": [
    "## Adhering model"
   ]
  },
  {
   "cell_type": "code",
   "execution_count": null,
   "metadata": {},
   "outputs": [],
   "source": [
    "# drop iso code and date columns\n",
    "df_adhering = adhering.drop([\"iso_code\",\"date\"], axis=1)"
   ]
  },
  {
   "cell_type": "code",
   "execution_count": null,
   "metadata": {},
   "outputs": [],
   "source": [
    "# define X and y\n",
    "adh_X = df_adhering.drop(\"next_14days\", axis=1)\n",
    "adh_y = df_adhering[\"next_14days\"]"
   ]
  },
  {
   "cell_type": "code",
   "execution_count": null,
   "metadata": {},
   "outputs": [],
   "source": [
    "# divide the data into train and test data\n",
    "adh_X_train, adh_X_test, adh_y_train, adh_y_test = train_test_split(adh_X, adh_y, test_size=0.2, random_state=42)\n",
    "print(adh_X_train.shape, adh_X_test.shape, adh_y_train.shape, adh_y_test.shape)"
   ]
  },
  {
   "cell_type": "code",
   "execution_count": null,
   "metadata": {},
   "outputs": [],
   "source": [
    "model = RandomForestRegressor(criterion='mae')"
   ]
  },
  {
   "cell_type": "code",
   "execution_count": null,
   "metadata": {},
   "outputs": [],
   "source": [
    "# define the target transform wrapper \n",
    "adh_wrapped_model = TransformedTargetRegressor(regressor=model,transformer=MinMaxScaler()) \n",
    "# use the target transform wrapper \n",
    "adh_wrapped_model.fit(adh_X_train, adh_y_train) \n",
    "adh_yhat = adh_wrapped_model.predict(adh_X_test)"
   ]
  },
  {
   "cell_type": "code",
   "execution_count": null,
   "metadata": {},
   "outputs": [],
   "source": [
    "# evaluate the model\n",
    "print('mae:',metrics.mean_absolute_error(adh_y_test, adh_yhat))\n",
    "print('mape:',mean_absolute_percentage_error(adh_y_test, adh_yhat))"
   ]
  },
  {
   "cell_type": "code",
   "execution_count": null,
   "metadata": {},
   "outputs": [],
   "source": [
    "# plot the residuals\n",
    "viz = residuals_plot(RandomForestRegressor(criterion='mae'), adh_X_train, adh_y_train, adh_X_test, adh_y_test)"
   ]
  },
  {
   "cell_type": "markdown",
   "metadata": {},
   "source": [
    "## Not adhering model"
   ]
  },
  {
   "cell_type": "code",
   "execution_count": null,
   "metadata": {},
   "outputs": [],
   "source": [
    "# drop iso_code and date columns\n",
    "df_not_adhering = not_adhering.drop([\"iso_code\",\"date\"], axis=1)"
   ]
  },
  {
   "cell_type": "code",
   "execution_count": null,
   "metadata": {},
   "outputs": [],
   "source": [
    "# define X and y\n",
    "not_adh_X = df_not_adhering.drop(\"next_14days\", axis=1)\n",
    "not_adh_y = df_not_adhering[\"next_14days\"]"
   ]
  },
  {
   "cell_type": "code",
   "execution_count": null,
   "metadata": {},
   "outputs": [],
   "source": [
    "# divide the data into train and test data\n",
    "not_adh_X_train, not_adh_X_test, not_adh_y_train, not_adh_y_test = train_test_split(not_adh_X, not_adh_y, test_size=0.2, random_state=42)\n",
    "print(not_adh_X_train.shape, not_adh_X_test.shape, not_adh_y_train.shape, not_adh_y_test.shape)"
   ]
  },
  {
   "cell_type": "code",
   "execution_count": null,
   "metadata": {},
   "outputs": [],
   "source": [
    "model = RandomForestRegressor(criterion='mae')"
   ]
  },
  {
   "cell_type": "code",
   "execution_count": null,
   "metadata": {},
   "outputs": [],
   "source": [
    "# define the target transform wrapper \n",
    "not_adh_wrapped_model = TransformedTargetRegressor(regressor=model,transformer=MinMaxScaler()) \n",
    "# use the target transform wrapper \n",
    "not_adh_wrapped_model.fit(not_adh_X_train, not_adh_y_train) \n",
    "not_adh_yhat = not_adh_wrapped_model.predict(not_adh_X_test)"
   ]
  },
  {
   "cell_type": "code",
   "execution_count": null,
   "metadata": {},
   "outputs": [],
   "source": [
    "# evaluate the model\n",
    "print('mae:',metrics.mean_absolute_error(not_adh_y_test, not_adh_yhat))\n",
    "print('mape:',mean_absolute_percentage_error(not_adh_y_test, not_adh_yhat))"
   ]
  },
  {
   "cell_type": "code",
   "execution_count": null,
   "metadata": {},
   "outputs": [],
   "source": [
    "# plot the residuals\n",
    "viz = residuals_plot(RandomForestRegressor(criterion='mae'), not_adh_X_train, not_adh_y_train, not_adh_X_test, not_adh_y_test)"
   ]
  },
  {
   "cell_type": "markdown",
   "metadata": {},
   "source": [
    "# Testing the model"
   ]
  },
  {
   "cell_type": "code",
   "execution_count": null,
   "metadata": {},
   "outputs": [],
   "source": [
    "def make_prediction(iso_code,date):\n",
    "    pred = df_time.loc[(df_time[\"iso_code\"]==iso_code) & (df_time[\"date\"]==date)]\n",
    "    pred = pred[columns_interest]\n",
    "    true_value = pred[\"next_14days\"].values\n",
    "    pred.drop([\"iso_code\",\"date\",\"next_14days\"], axis=1, inplace=True)\n",
    "    pred_overall = wrapped_model.predict(pred)\n",
    "    pred_adh = adh_wrapped_model.predict(pred)\n",
    "    pred_not_adh = not_adh_wrapped_model.predict(pred)\n",
    "    print('true number of cases:',str(true_value)[1:-1])\n",
    "    print('predicted number of cases:',str(pred_overall)[1:-1])\n",
    "    print('predicted number of cases if inhabitants adhered to mask wearing and social distancing:',str(pred_adh)[1:-1])\n",
    "    print('predicted number of cases if inhabitants have not adhered to mask wearing and social distancing:',str(pred_not_adh)[1:-1])"
   ]
  },
  {
   "cell_type": "code",
   "execution_count": null,
   "metadata": {},
   "outputs": [],
   "source": [
    "included = good_guys+bad_boys\n",
    "excluded = list(set(df_time.iso_code).symmetric_difference(included))"
   ]
  },
  {
   "cell_type": "code",
   "execution_count": null,
   "metadata": {},
   "outputs": [],
   "source": [
    "impossible = ['BHS','UGA','SSD','BHR','CAF']\n",
    "for i in impossible:\n",
    "    if i in excluded:\n",
    "        excluded.remove(i)"
   ]
  },
  {
   "cell_type": "code",
   "execution_count": null,
   "metadata": {},
   "outputs": [],
   "source": [
    "len(excluded)"
   ]
  },
  {
   "cell_type": "code",
   "execution_count": null,
   "metadata": {},
   "outputs": [],
   "source": [
    "for i in excluded:\n",
    "    print(i)\n",
    "    make_prediction(i,\"2020-07-16\")"
   ]
  },
  {
   "cell_type": "markdown",
   "metadata": {},
   "source": [
    "## Second approach\n",
    "Filling out custom numbers"
   ]
  },
  {
   "cell_type": "code",
   "execution_count": 57,
   "metadata": {},
   "outputs": [],
   "source": [
    "def predict_scenario(iso_code,date,pc_mask_wearing,pc_social_distancing):\n",
    "    scenario = df_time.loc[(df_time[\"iso_code\"]==iso_code) & (df_time[\"date\"]==date)]\n",
    "    scenario = scenario[columns_interest]\n",
    "    \n",
    "    true_value = scenario[\"next_14days\"].values\n",
    "    \n",
    "    scenario.drop([\"iso_code\",\"date\",\"next_14days\"], axis=1, inplace=True)\n",
    "    \n",
    "    scenario_adhering = scenario.copy()\n",
    "    scenario_adhering[[\"smoothed_pct_worked_outside_home_weighted\", \"smoothed_pct_grocery_outside_home_weighted\",\n",
    "                 \"smoothed_pct_ate_outside_home_weighted\", \"smoothed_pct_attended_public_event_weighted\",\n",
    "                 \"smoothed_pct_used_public_transit_weighted\", \"smoothed_pct_direct_contact_with_non_hh_weighted\"]] = 100-pc_social_distancing\n",
    "    scenario_adhering[\"smoothed_pct_wear_mask_all_time_weighted\"] = pc_mask_wearing\n",
    "    \n",
    "    scenario_not_adhering = scenario.copy()\n",
    "    scenario_not_adhering[[\"smoothed_pct_worked_outside_home_weighted\", \"smoothed_pct_grocery_outside_home_weighted\",\n",
    "                 \"smoothed_pct_ate_outside_home_weighted\", \"smoothed_pct_attended_public_event_weighted\",\n",
    "                 \"smoothed_pct_used_public_transit_weighted\", \"smoothed_pct_direct_contact_with_non_hh_weighted\"]] = pc_social_distancing\n",
    "    scenario_not_adhering[\"smoothed_pct_wear_mask_all_time_weighted\"] = 100-pc_mask_wearing\n",
    "    \n",
    "    pred_scenario = wrapped_model.predict(scenario)\n",
    "    pred_scenario_adhering = wrapped_model.predict(scenario_adhering)\n",
    "    pred_scenario_not_adhering = wrapped_model.predict(scenario_not_adhering)\n",
    "    \n",
    "    #print('true number of cases:',str(true_value)[1:-1]))\n",
    "    #print('predicted number of cases:',str(pred_scenario)[1:-1])\n",
    "    #print('predicted number of cases if inhabitants adhered to mask wearing and social distancing:',str(pred_scenario_adhering)[1:-1])\n",
    "    #print('predicted number of cases if inhabitants have not adhered to mask wearing and social distancing:',str(pred_scenario_not_adhering)[1:-1])\n",
    "    \n",
    "    return str(true_value)[1:-1],str(pred_scenario)[1:-1],str(pred_scenario_adhering)[1:-1],str(pred_scenario_not_adhering)[1:-1]"
   ]
  },
  {
   "cell_type": "code",
   "execution_count": 40,
   "metadata": {},
   "outputs": [
    {
     "data": {
      "text/plain": [
       "('8893.085', '8819.95373', '8781.35048', '8250.46506')"
      ]
     },
     "execution_count": 40,
     "metadata": {},
     "output_type": "execute_result"
    }
   ],
   "source": [
    "predict_scenario(\"GBR\",\"2020-09-28\",80,80)"
   ]
  },
  {
   "cell_type": "code",
   "execution_count": null,
   "metadata": {},
   "outputs": [],
   "source": [
    "for i in excluded:\n",
    "    print(i)\n",
    "    predict_scenario(i,\"2020-07-16\",80,80)"
   ]
  },
  {
   "cell_type": "markdown",
   "metadata": {},
   "source": [
    "### South-Africa"
   ]
  },
  {
   "cell_type": "code",
   "execution_count": 58,
   "metadata": {},
   "outputs": [],
   "source": [
    "dates = []\n",
    "true_values = [] \n",
    "predicted_values = []\n",
    "predicted_values_adhering = []\n",
    "predicted_values_not_adhering = []\n",
    "\n",
    "for i in df_time.date.unique():\n",
    "    i = str(i).split('T')[0]\n",
    "    dates.append(i)\n",
    "    true,prediction,prediction_adh,prediction_not_adh = predict_scenario('ZAF', i, 80, 80)\n",
    "    true_values.append(true)\n",
    "    predicted_values.append(prediction)\n",
    "    predicted_values_adhering.append(prediction_adh)\n",
    "    predicted_values_not_adhering.append(prediction_not_adh)"
   ]
  },
  {
   "cell_type": "code",
   "execution_count": 59,
   "metadata": {},
   "outputs": [],
   "source": [
    "sth_african_data = pd.DataFrame([], columns=['date','true_value','predicted_value','predicted_value_adhering',\n",
    "                                             'predicted_value_not_adhering'])\n",
    "sth_african_data['date'] = dates\n",
    "sth_african_data['true_value'] = true_values\n",
    "sth_african_data['predicted_value'] = predicted_values\n",
    "sth_african_data['predicted_value_adhering'] = predicted_values_adhering\n",
    "sth_african_data['predicted_value_not_adhering'] = predicted_values_not_adhering"
   ]
  },
  {
   "cell_type": "code",
   "execution_count": 60,
   "metadata": {},
   "outputs": [],
   "source": [
    "sth_african_data['date'] = pd.to_datetime(sth_african_data.date, errors='coerce')\n",
    "sth_african_data['true_value'] = pd.to_numeric(sth_african_data.true_value, errors='coerce')\n",
    "sth_african_data['predicted_value'] = pd.to_numeric(sth_african_data.predicted_value, errors='coerce')\n",
    "sth_african_data['predicted_value_adhering'] = pd.to_numeric(sth_african_data.predicted_value_adhering, errors='coerce')\n",
    "sth_african_data['predicted_value_not_adhering'] = pd.to_numeric(sth_african_data.predicted_value_not_adhering, errors='coerce')"
   ]
  },
  {
   "cell_type": "code",
   "execution_count": 61,
   "metadata": {},
   "outputs": [],
   "source": [
    "pivot_sth_african_data = sth_african_data.groupby(['date'])[['true_value','predicted_value','predicted_value_adhering',\n",
    "                                                            'predicted_value_not_adhering']].mean()\n",
    "pivot_sth_african_data = pivot_sth_african_data.stack().reset_index()\n",
    "pivot_sth_african_data = pivot_sth_african_data.rename(columns={\"level_1\":\"value_type\",0: \"cases\"})"
   ]
  },
  {
   "cell_type": "code",
   "execution_count": 62,
   "metadata": {},
   "outputs": [],
   "source": [
    "sth_african_mask = (pivot_sth_african_data.date < pd.to_datetime('2020-11-01'))\n",
    "pivot_sth_african_data = pivot_sth_african_data.loc[sth_african_mask]"
   ]
  },
  {
   "cell_type": "code",
   "execution_count": 63,
   "metadata": {},
   "outputs": [
    {
     "data": {
      "image/png": "[encoded data removed]",
      "text/plain": [
       "<Figure size 921.6x633.6 with 1 Axes>"
      ]
     },
     "metadata": {},
     "output_type": "display_data"
    }
   ],
   "source": [
    "# Plotting settings\n",
    "sns.set_style(\"whitegrid\")\n",
    "plt.style.use('seaborn-poster')\n",
    "slides_palette_four = [\"#00287f\", \"#00c5ff\",\"#6B8E23\",\"#FF8C00\"]\n",
    "sns.set_palette(slides_palette_four)\n",
    "\n",
    "g1 = sns.lineplot(data=pivot_sth_african_data, x='date', y='cases', hue='value_type');\n",
    "g1.set_title('SOUTH-AFRICA', weight='bold');\n",
    "g1.set_xlabel('date');\n",
    "g1.set_ylabel('total cases per million in 2 weeks');\n",
    "g1.set_ylim(0,16000)\n",
    "g1.legend().set_title('');\n",
    "g1.legend(loc='upper left');"
   ]
  },
  {
   "cell_type": "code",
   "execution_count": null,
   "metadata": {},
   "outputs": [],
   "source": []
  }
 ],
 "metadata": {
  "kernelspec": {
   "display_name": "Python [conda env:capstone] *",
   "language": "python",
   "name": "conda-env-capstone-py"
  },
  "language_info": {
   "codemirror_mode": {
    "name": "ipython",
    "version": 3
   },
   "file_extension": ".py",
   "mimetype": "text/x-python",
   "name": "python",
   "nbconvert_exporter": "python",
   "pygments_lexer": "ipython3",
   "version": "3.8.5"
  }
 },
 "nbformat": 4,
 "nbformat_minor": 4
}
