{
 "cells": [
  {
   "cell_type": "code",
   "execution_count": 1,
   "metadata": {},
   "outputs": [],
   "source": [
    "import pandas as pd\n",
    "\n",
    "import plotly.express as px  # (version 4.7.0)\n",
    "import plotly.graph_objects as go\n",
    "from plotly.subplots import make_subplots\n",
    "\n",
    "import dash  # (version 1.12.0) pip install dash\n",
    "import dash_core_components as dcc\n",
    "import dash_html_components as html\n",
    "from dash.dependencies import Input, Output\n",
    "import functions.functions_data\n",
    "\n",
    "from flask import Flask\n",
    "import os\n",
    "\n",
    "pd.set_option('display.max_columns', None) # To display all columns"
   ]
  },
  {
   "cell_type": "code",
   "execution_count": 2,
   "metadata": {},
   "outputs": [
    {
     "name": "stdout",
     "output_type": "stream",
     "text": [
      "Read in data completed.\n"
     ]
    }
   ],
   "source": [
    "dfs_country = functions.functions_data.get_data(\"data/CMU_Global_data/Full_Survey_Data/country/smooth/\", \"country\")"
   ]
  },
  {
   "cell_type": "code",
   "execution_count": 3,
   "metadata": {},
   "outputs": [],
   "source": [
    "countries = pd.concat(dfs_country, ignore_index=True)"
   ]
  },
  {
   "cell_type": "code",
   "execution_count": 4,
   "metadata": {},
   "outputs": [
    {
     "name": "stdout",
     "output_type": "stream",
     "text": [
      "Created month column.\n"
     ]
    }
   ],
   "source": [
    "countries = functions.functions_data.insert_month(countries)"
   ]
  },
  {
   "cell_type": "code",
   "execution_count": 5,
   "metadata": {},
   "outputs": [],
   "source": [
    "countries_overall = countries[countries[\"gender\"]==\"overall\"]\n",
    "countries_overall = countries_overall[countries_overall[\"age_bucket\"]==\"overall\"]"
   ]
  },
  {
   "cell_type": "code",
   "execution_count": 6,
   "metadata": {},
   "outputs": [],
   "source": [
    "countries_16072020 = countries_overall[countries_overall[\"date\"]==\"2020-07-16\"]"
   ]
  },
  {
   "cell_type": "code",
   "execution_count": 7,
   "metadata": {},
   "outputs": [],
   "source": [
    "countries_16102020 = countries_overall[countries_overall[\"date\"]==\"2020-10-16\"]"
   ]
  },
  {
   "cell_type": "markdown",
   "metadata": {},
   "source": [
    "# Basic Map"
   ]
  },
  {
   "cell_type": "code",
   "execution_count": 11,
   "metadata": {},
   "outputs": [],
   "source": [
    "fig = px.choropleth(\n",
    "        data_frame = countries_16072020,\n",
    "        locations=\"GID_0\",\n",
    "        color=\"rolling_total_responses\",\n",
    "        hover_name=\"country_agg\",\n",
    "        color_continuous_scale=px.colors.sequential.BuPu)\n",
    "fig.show(\"browser\")"
   ]
  },
  {
   "cell_type": "markdown",
   "metadata": {},
   "source": [
    "# Creating dashboard"
   ]
  },
  {
   "cell_type": "code",
   "execution_count": 8,
   "metadata": {},
   "outputs": [
    {
     "name": "stdout",
     "output_type": "stream",
     "text": [
      "Dash is running on http://127.0.0.1:8050/\n",
      "\n",
      " * Serving Flask app \"__main__\" (lazy loading)\n",
      " * Environment: production\n",
      "\u001b[31m   WARNING: This is a development server. Do not use it in a production deployment.\u001b[0m\n",
      "\u001b[2m   Use a production WSGI server instead.\u001b[0m\n",
      " * Debug mode: on\n"
     ]
    },
    {
     "ename": "SystemExit",
     "evalue": "1",
     "output_type": "error",
     "traceback": [
      "An exception has occurred, use %tb to see the full traceback.\n",
      "\u001b[0;31mSystemExit\u001b[0m\u001b[0;31m:\u001b[0m 1\n"
     ]
    },
    {
     "name": "stderr",
     "output_type": "stream",
     "text": [
      "/Users/lauradellantonio/opt/anaconda3/envs/capstone/lib/python3.8/site-packages/IPython/core/interactiveshell.py:3426: UserWarning: To exit: use 'exit', 'quit', or Ctrl-D.\n",
      "  warn(\"To exit: use 'exit', 'quit', or Ctrl-D.\", stacklevel=1)\n"
     ]
    }
   ],
   "source": [
    "app = dash.Dash(__name__)\n",
    "\n",
    "# ------------------------------------------------------------\n",
    "\n",
    "df = countries[countries[\"age_bucket\"]==\"overall\"]\n",
    "df = df[df[\"date\"]==\"2020-07-16\"]\n",
    "df = df.groupby([\"country_agg\", \"GID_0\",\"gender\", \"date\"])[[\"rolling_total_responses\",\"smoothed_pct_cli_weighted\"]].mean()\n",
    "\n",
    "#--------------------------------------------------------------------------------\n",
    "#App layout\n",
    "app.layout = html.Div([\n",
    "    \n",
    "    html.H1(\"Dashboard for Capstone\", style={\"text-align\": \"centre\"}),\n",
    "    \n",
    "    dcc.Dropdown(id=\"slct_gender\",\n",
    "                options=[\n",
    "                    {\"label\": \"Overall\", \"value\": \"overall\"},\n",
    "                    {\"label\": \"Female\", \"value\": \"female\"},\n",
    "                    {\"label\": \"Male\", \"value\": \"male\"}],\n",
    "                multi=False,\n",
    "                value=\"overall\",\n",
    "                style={\"width\": \"40%\"}\n",
    "                ),\n",
    "    \n",
    "    dcc.Dropdown(id=\"data\",\n",
    "                options=[\n",
    "                    {\"label\": \"Number of responses\", \"value\": \"rolling_total_responses\"},\n",
    "                    {\"label\": \"Individuals with COVID-like illness\", \"value\": \"smoothed_pct_cli_weighted\"}],\n",
    "                multi=False,\n",
    "                value=\"rolling_total_responses\",\n",
    "                style={\"width\": \"40%\"}\n",
    "                ),\n",
    "    \n",
    "    html.Div(id=\"ouput_container\", children=[]),\n",
    "    html.Br(),\n",
    "    \n",
    "    dcc.Graph(id=\"my_covid_map\", figure={})\n",
    "    \n",
    "])\n",
    "\n",
    "\n",
    "\n",
    "#----------------------------------------------------------------------------\n",
    "#Connect the plotly graphs with Dash Components\n",
    "\n",
    "@app.callback(\n",
    "    [Output(component_id = \"output_container\", component_property=\"children\"),\n",
    "        Output(component_id = \"my_covid_map\", component_property=\"figure\")],\n",
    "    [Input(component_id = \"slct_gender\", component_property=\"value\"),\n",
    "        Input(component_id = \"data\", component_property=\"value\")]\n",
    ")\n",
    "def update_graph(option_slct1, option_slct2):\n",
    "    print(option_slct1, option_slct2)\n",
    "    print(type(option_slct1, option_slct2))\n",
    "    \n",
    "    container = \"The user chose {} for the gender and to display {}\".format(option_slct1, option_slct2)\n",
    "    \n",
    "    dff = df.copy\n",
    "    dff = dff[dff[\"gender\"]==option_slct1]\n",
    "    dff = dff[option_slct2]\n",
    "    \n",
    "    #Plotly Express\n",
    "    fig = px.choropleth(\n",
    "        data_frame = dff,\n",
    "        locations=\"GID_0\",\n",
    "        color=option_slct2,\n",
    "        hover_name=\"country_agg\",\n",
    "        color_continuous_scale=px.colors.sequential.Plasma\n",
    "    )\n",
    "    \n",
    "    return container, fig\n",
    "\n",
    "#-------------------------------------------------------------------\n",
    "\n",
    "if __name__ == \"__main__\":\n",
    "    app.run_server(debug=True)\n"
   ]
  },
  {
   "cell_type": "code",
   "execution_count": null,
   "metadata": {},
   "outputs": [],
   "source": []
  }
 ],
 "metadata": {
  "kernelspec": {
   "display_name": "Python [conda env:capstone] *",
   "language": "python",
   "name": "conda-env-capstone-py"
  },
  "language_info": {
   "codemirror_mode": {
    "name": "ipython",
    "version": 3
   },
   "file_extension": ".py",
   "mimetype": "text/x-python",
   "name": "python",
   "nbconvert_exporter": "python",
   "pygments_lexer": "ipython3",
   "version": "3.8.5"
  }
 },
 "nbformat": 4,
 "nbformat_minor": 4
}
