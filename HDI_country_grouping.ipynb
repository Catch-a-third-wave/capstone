{
 "cells": [
  {
   "cell_type": "markdown",
   "metadata": {},
   "source": [
    "# Grouping countries based on the Human Development Index (HDI)"
   ]
  },
  {
   "cell_type": "code",
   "execution_count": null,
   "metadata": {},
   "outputs": [],
   "source": [
    "import pandas as pd\n",
    "import warnings\n",
    "import functions\n",
    "\n",
    "warnings.filterwarnings(action='ignore')"
   ]
  },
  {
   "cell_type": "code",
   "execution_count": null,
   "metadata": {},
   "outputs": [],
   "source": [
    "def get_hdi(path,filename):\n",
    "    '''This function creates two dictionaries based on the Human Development Index and its levels.'''\n",
    "    \n",
    "    # Read in the xlsx-file with data\n",
    "    file = \"{}/{}\".format(path,filename)\n",
    "    hdi_data = pd.read_excel(file, header=None)\n",
    "    \n",
    "    # Replace the country names in the hdi_data with the corresponding country names as used in\n",
    "    # the regions data frame.\n",
    "    hdi_data[1] = hdi_data[1].replace(to_replace =\"Viet Nam\", value =\"Vietnam\") \n",
    "    hdi_data[1] = hdi_data[1].replace(to_replace =\"Czechia\", value =\"Czech Republic\") \n",
    "    hdi_data[1] = hdi_data[1].replace(to_replace =\"Russian Federation\", value =\"Russia\") \n",
    "    hdi_data[1] = hdi_data[1].replace(to_replace =\"Venezuela (Bolivarian Republic of)\", value =\"Venezuela\") \n",
    "    hdi_data[1] = hdi_data[1].replace(to_replace =\"Korea (Republic of)\", value =\"South Korea\") \n",
    "    hdi_data[1] = hdi_data[1].replace(to_replace =\"Bolivia (Plurinational State of)\", value =\"Bolivia\") \n",
    "    hdi_data[1] = hdi_data[1].replace(to_replace =\"Hong Kong, China (SAR)\", value =\"Hong Kong\") \n",
    "    hdi_data[1] = hdi_data[1].replace(to_replace =\"Moldova (Republic of)\", value =\"Moldova\") \n",
    "    hdi_data[1] = hdi_data[1].replace(to_replace =\"Tanzania (United Republic of)\", value =\"Tanzania\") \n",
    "    hdi_data[1] = hdi_data[1].replace(to_replace =\"Lao People's Democratic Republic\", value =\"Laos\") \n",
    "    hdi_data[1] = hdi_data[1].replace(to_replace =\"Congo (Democratic Republic of the)\", value =\"Democratic Republic of the Congo\") \n",
    "    hdi_data[1] = hdi_data[1].replace(to_replace =\"American Samoa\", value =\"Samoa\")\n",
    "    \n",
    "    ## Create hdi dictionary\n",
    "    \n",
    "    # Select the useful rows and columns from the hdi data file to make the hdi.\n",
    "    df_hdi = hdi_data.iloc[7:200, 1:3]\n",
    "    \n",
    "    # Remove the title rows indicating the human development level.\n",
    "    df_hdi = df_hdi[df_hdi[2].notna()]\n",
    "    \n",
    "    # Append Taiwan\n",
    "    df_hdi_taiwan = pd.DataFrame([[\"Taiwan\", 0.911]], columns = [1,2])\n",
    "    df_hdi = pd.concat([df_hdi,df_hdi_taiwan])\n",
    "    \n",
    "    # Make a dictionary with countries as keys and the hdi as values.\n",
    "    dict_hdi = dict(df_hdi.values.tolist())\n",
    "    \n",
    "    ## Create hdi-levels dictionary\n",
    "    \n",
    "    # Select the useful rows and column from the hdi data file to make the hdi-levels.\n",
    "    df_levels = hdi_data.iloc[7:200, [1]]\n",
    "    \n",
    "    # Create an index based on the title rows indicating the hdi-level.\n",
    "    idx = df_levels[(df_levels[1].str.contains(\"HUMAN DEVELOPMENT\"))].index\n",
    "    \n",
    "    # Use the index to create new dataframes per hdi-level.\n",
    "    df_very_high = df_levels.iloc[idx[0]-6:idx[1]-7, :]\n",
    "    df_high = df_levels.iloc[idx[1]-6:idx[2]-7, :]\n",
    "    df_medium = df_levels.iloc[idx[2]-6:idx[3]-7, :]\n",
    "    df_low = df_levels.iloc[idx[3]-6:, :]\n",
    "        \n",
    "    # Add a column with the hdi-level per data frame.\n",
    "    df_very_high[2] = \"very high\"\n",
    "    df_high[2] = \"high\"\n",
    "    df_medium[2] = \"medium\"\n",
    "    df_low[2] = \"low\"\n",
    "    \n",
    "    # Append Taiwan\n",
    "    df_levels_taiwan = pd.DataFrame([[\"Taiwan\", \"very high\"]], columns = [1,2])\n",
    "    df_very_high = pd.concat([df_very_high,df_levels_taiwan])\n",
    "    \n",
    "    # Concatenate dataframes.\n",
    "    df_hdi_levels = pd.concat([df_very_high, df_high, df_medium, df_low])\n",
    "    \n",
    "    # Make a dictionary with countries as keys and hdi-levels as values.\n",
    "    dict_hdi_levels = dict(df_hdi_levels.values.tolist())\n",
    "    \n",
    "    print('Creating dictionaries for hdi and hdi-levels completed.')\n",
    "    return dict_hdi, dict_hdi_levels"
   ]
  },
  {
   "cell_type": "code",
   "execution_count": null,
   "metadata": {},
   "outputs": [],
   "source": [
    "def create_hdi_columns(regions, dict_hdi, dict_hdi_levels):\n",
    "    '''This function uses the hdi dictionary and the hdi-levels dictionary to create a column\n",
    "    in the regions table with the hdi and the hdi-levels.'''\n",
    "    \n",
    "    # Create empty lists for hdi and hdi levels\n",
    "    index = []\n",
    "    levels = []\n",
    "    \n",
    "    # Get the hdi values for the countries in the regions dataframe and append it to the list.\n",
    "    for i in range(len(regions)):  \n",
    "        hd_idx = dict_hdi.get(regions.at[regions.index[i],\"country_agg\"],\"NaN\")\n",
    "        index.append(hd_idx)\n",
    "    print('Creating hdi list completed.')\n",
    "    \n",
    "    # Get the hdi index for the countries in the regions dataframe and append it to the list.\n",
    "    for i in range(len(regions)):  \n",
    "        hdi_lvls = dict_hdi_levels.get(regions.at[regions.index[i],\"country_agg\"],\"NaN\")\n",
    "        levels.append(hdi_lvls)\n",
    "    print('Creating hdi-level list completed.')\n",
    "    \n",
    "    # Fill the appended lists into their corresponding columns.\n",
    "    regions[\"hdi\"] = index\n",
    "    regions[\"hdi_level\"] = levels\n",
    "    \n",
    "    return regions"
   ]
  },
  {
   "cell_type": "code",
   "execution_count": null,
   "metadata": {},
   "outputs": [],
   "source": [
    "# Reading in data files from csv into a dictionary of dataframes.\n",
    "dfs_region = functions.get_data(\"data/CMU_Global_data/Full_Survey_Data/region/smooth/\", \"region\")\n",
    "\n",
    "# Concatenating individuals dataframes from the dictionary into one dataframe for regions.\n",
    "regions = pd.concat(dfs_region)"
   ]
  },
  {
   "cell_type": "code",
   "execution_count": null,
   "metadata": {},
   "outputs": [],
   "source": [
    "# Getting the dictionaries for the hdi and the hdi-levels.\n",
    "dict_hdi, dict_hdi_levels = get_hdi(\"data\",\"hdro_statistical_data_tables_1_15_d1_d5.xlsx\")\n",
    "\n",
    "# Creating a new column with the hdi and the hdi-levels in the regions dataframe\n",
    "regions = create_hdi_columns(regions, dict_hdi_index, dict_hdi_levels)"
   ]
  },
  {
   "cell_type": "markdown",
   "metadata": {},
   "source": [
    "### On checking differences in names\n",
    "\n",
    "There were many NaN's when looking up the country in the dictionary that could be explained by differences in country names. This was checked below. The solution is already included in the get hdi function."
   ]
  },
  {
   "cell_type": "markdown",
   "metadata": {},
   "source": [
    "### Differences in naming regions and hdi\n",
    "\n",
    "regions|hdi\n",
    "---|---\n",
    "Vietnam|Viet Nam\n",
    "Czech Republic|Czechia\n",
    "Russia|Russian Federation\n",
    "Venezuela|Venezuela (Bolivarian Republic of)\n",
    "South Korea|Korea (Republic of)\n",
    "Bolivia|Bolivia (Plurinational State of)\n",
    "Hong Kong|Hong Kong, China (SAR)\n",
    "Taiwan|*non-existent*\n",
    "Moldova|Moldova (Republic of)\n",
    "Tanzania|Tanzania (United Republic of)\n",
    "Laos|Lao People's Democratic Republic\n",
    "Democratic Republic of the Congo|Congo (Democratic Republic of the)\n",
    "American Samoa|Samoa"
   ]
  }
 ],
 "metadata": {
  "kernelspec": {
   "display_name": "Python [conda env:capstone] *",
   "language": "python",
   "name": "conda-env-capstone-py"
  },
  "language_info": {
   "codemirror_mode": {
    "name": "ipython",
    "version": 3
   },
   "file_extension": ".py",
   "mimetype": "text/x-python",
   "name": "python",
   "nbconvert_exporter": "python",
   "pygments_lexer": "ipython3",
   "version": "3.8.5"
  }
 },
 "nbformat": 4,
 "nbformat_minor": 4
}
