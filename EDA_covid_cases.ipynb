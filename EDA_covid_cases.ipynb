{
 "cells": [
  {
   "cell_type": "markdown",
   "metadata": {},
   "source": [
    "# EDA covid cases"
   ]
  },
  {
   "cell_type": "code",
   "execution_count": null,
   "metadata": {},
   "outputs": [],
   "source": [
    "import pandas as pd\n",
    "import warnings\n",
    "import matplotlib.pyplot as plt\n",
    "%matplotlib inline\n",
    "import seaborn as sns\n",
    "\n",
    "import functions.functions_data\n",
    "import functions.functions_corona_stats\n",
    "import functions.functions_HDI\n",
    "import functions.functions_mask_wearing\n",
    "\n",
    "warnings.filterwarnings(action='ignore')\n",
    "pd.set_option('display.max_columns', None) # To display all columns\n",
    "\n",
    "sns.set_style(\"whitegrid\")\n",
    "mono_palette = [\"steelblue\"]\n",
    "heatmap_palette = sns.diverging_palette(240, 10, n=9)\n",
    "gender_palette = [\"indianred\", \"steelblue\"]"
   ]
  },
  {
   "cell_type": "markdown",
   "metadata": {},
   "source": [
    "### Read in data"
   ]
  },
  {
   "cell_type": "code",
   "execution_count": null,
   "metadata": {},
   "outputs": [],
   "source": [
    "covid_cases = pd.read_csv(\"data/Corona_stats/owid-covid-data.csv\")"
   ]
  },
  {
   "cell_type": "code",
   "execution_count": null,
   "metadata": {},
   "outputs": [],
   "source": [
    "# Reading in survey data from csv into a dictionary of dataframes.\n",
    "dfs_country = functions.functions_data.get_data(\"data/CMU_Global_data/Full_Survey_Data/country/smooth/\", \"country\")\n",
    "\n",
    "# Concatenating individuals dataframes from the dictionary into one dataframe for regions.\n",
    "survey_data = pd.concat(dfs_country, ignore_index=True)"
   ]
  },
  {
   "cell_type": "code",
   "execution_count": null,
   "metadata": {},
   "outputs": [],
   "source": [
    "# Merging survey data and covid cases\n",
    "df_merged = functions.functions_corona_stats.merge_corona_stats(survey_data,covid_cases)"
   ]
  },
  {
   "cell_type": "code",
   "execution_count": null,
   "metadata": {},
   "outputs": [],
   "source": [
    "# Getting the dictionaries for the hdi and the hdi-levels.\n",
    "dict_hdi, dict_hdi_levels = functions.functions_HDI.get_hdi(\"data\",\"hdro_statistical_data_tables_1_15_d1_d5.xlsx\")\n",
    "\n",
    "# Creating a new column with the hdi and the hdi-levels in the regions dataframe\n",
    "df_merged_hdi = functions.functions_HDI.create_hdi_columns(df_merged, dict_hdi, dict_hdi_levels)"
   ]
  },
  {
   "cell_type": "markdown",
   "metadata": {},
   "source": [
    "### Data cleaning"
   ]
  },
  {
   "cell_type": "code",
   "execution_count": null,
   "metadata": {},
   "outputs": [],
   "source": [
    "# Change object into datetime object and create month column\n",
    "df_month = functions.functions_data.insert_month(df_merged_hdi)\n",
    "\n",
    "# Deal with NaN's in the wearing mask all the time column\n",
    "df_complete = functions.functions_mask_wearing.deal_with_NaNs_masks(df_month)\n",
    "\n",
    "# Delete 'other' and 'overall' in gender column and 'overall' in age bucket\n",
    "df = functions.functions_mask_wearing.delete_overall(df_complete)"
   ]
  },
  {
   "cell_type": "code",
   "execution_count": null,
   "metadata": {},
   "outputs": [],
   "source": [
    "# Make a dataframe for the corona stats data.\n",
    "df_stats = df[[\"total_cases_per_million\",\"new_cases_smoothed_per_million\",\n",
    "               \"total_deaths_per_million\",\"new_deaths_smoothed_per_million\",\n",
    "              \"median_age\",\"aged_65_older\"]]\n",
    "df_stats.describe()"
   ]
  },
  {
   "cell_type": "markdown",
   "metadata": {},
   "source": [
    "The number of new cases and the number of new deaths is below zero, so every row below 0 is excluded."
   ]
  },
  {
   "cell_type": "code",
   "execution_count": null,
   "metadata": {},
   "outputs": [],
   "source": [
    "df1=df[df[\"new_cases_smoothed_per_million\"] >= 0]\n",
    "df2=df1[df1[\"new_deaths_smoothed_per_million\"] >= 0]"
   ]
  },
  {
   "cell_type": "markdown",
   "metadata": {},
   "source": [
    "### Plotting\n",
    "\n",
    "#### COVID-like-illness\n",
    "As the number of COVID cases and deaths goes up, the number of individuals with COVID-like-illness decreases, which does not make sense. So, COVID-like-illness may not be a helpful variable."
   ]
  },
  {
   "cell_type": "code",
   "execution_count": null,
   "metadata": {},
   "outputs": [],
   "source": [
    "f, axes = plt.subplots(2, 2, figsize=(14,7))\n",
    "sns.set_palette(mono_palette)\n",
    "\n",
    "sns.scatterplot(x=\"smoothed_pct_cli_weighted\", y=\"total_cases_per_million\", data=df2, ax=axes[0][0]);\n",
    "sns.scatterplot(ax=axes[0][0]).set_title('Total cases');\n",
    "sns.scatterplot(x=\"smoothed_pct_cli_weighted\", y=\"new_cases_smoothed_per_million\", data=df2, ax=axes[0][1]);\n",
    "sns.scatterplot(ax=axes[0][1]).set_title('New cases');\n",
    "sns.scatterplot(x=\"smoothed_pct_cli_weighted\", y=\"total_deaths_per_million\", data=df2, ax=axes[1][0]);\n",
    "sns.scatterplot(ax=axes[1][0]).set_title('Total deaths');\n",
    "sns.scatterplot(x=\"smoothed_pct_cli_weighted\", y=\"new_deaths_smoothed_per_million\", data=df2, ax=axes[1][1]);\n",
    "sns.scatterplot(ax=axes[1][1]).set_title('New deaths');\n",
    "\n",
    "plt.tight_layout()"
   ]
  },
  {
   "cell_type": "markdown",
   "metadata": {},
   "source": [
    "#### Wear mask all the time\n",
    "\n",
    "As the number of COVID cases and deaths increase, the number of people wearing masks increases."
   ]
  },
  {
   "cell_type": "code",
   "execution_count": null,
   "metadata": {},
   "outputs": [],
   "source": [
    "f, axes = plt.subplots(2, 2, figsize=(14,7))\n",
    "sns.set_palette(mono_palette)\n",
    "\n",
    "sns.scatterplot(x=\"smoothed_pct_wear_mask_all_time_weighted\", y=\"total_cases_per_million\", data=df2, ax=axes[0][0]);\n",
    "sns.scatterplot(ax=axes[0][0]).set_title('Total cases');\n",
    "sns.scatterplot(x=\"smoothed_pct_wear_mask_all_time_weighted\", y=\"new_cases_smoothed_per_million\", data=df2, ax=axes[0][1]);\n",
    "sns.scatterplot(ax=axes[0][1]).set_title('New cases');\n",
    "sns.scatterplot(x=\"smoothed_pct_wear_mask_all_time_weighted\", y=\"total_deaths_per_million\", data=df2, ax=axes[1][0]);\n",
    "sns.scatterplot(ax=axes[1][0]).set_title('Total deaths');\n",
    "sns.scatterplot(x=\"smoothed_pct_wear_mask_all_time_weighted\", y=\"new_deaths_smoothed_per_million\", data=df2, ax=axes[1][1]);\n",
    "sns.scatterplot(ax=axes[1][1]).set_title('New deaths');\n",
    "\n",
    "plt.tight_layout()"
   ]
  },
  {
   "cell_type": "markdown",
   "metadata": {},
   "source": [
    "#### Social distancing attended public event\n",
    "\n",
    "As the number of COVID cases and deaths increase, the number of people attending a public event decreases."
   ]
  },
  {
   "cell_type": "code",
   "execution_count": null,
   "metadata": {},
   "outputs": [],
   "source": [
    "f, axes = plt.subplots(2, 2, figsize=(14,7))\n",
    "sns.set_palette(mono_palette)\n",
    "\n",
    "sns.scatterplot(x=\"smoothed_pct_attended_public_event_weighted\", y=\"total_cases_per_million\", data=df2, ax=axes[0][0]);\n",
    "sns.scatterplot(ax=axes[0][0]).set_title('Total cases');\n",
    "sns.scatterplot(x=\"smoothed_pct_attended_public_event_weighted\", y=\"new_cases_smoothed_per_million\", data=df2, ax=axes[0][1]);\n",
    "sns.scatterplot(ax=axes[0][1]).set_title('New cases');\n",
    "sns.scatterplot(x=\"smoothed_pct_attended_public_event_weighted\", y=\"total_deaths_per_million\", data=df2, ax=axes[1][0]);\n",
    "sns.scatterplot(ax=axes[1][0]).set_title('Total deaths');\n",
    "sns.scatterplot(x=\"smoothed_pct_attended_public_event_weighted\", y=\"new_deaths_smoothed_per_million\", data=df2, ax=axes[1][1]);\n",
    "sns.scatterplot(ax=axes[1][1]).set_title('New deaths');\n",
    "\n",
    "plt.tight_layout()"
   ]
  },
  {
   "cell_type": "markdown",
   "metadata": {},
   "source": [
    "### Plots for the presentation"
   ]
  },
  {
   "cell_type": "code",
   "execution_count": null,
   "metadata": {},
   "outputs": [],
   "source": [
    "# Plotting settings\n",
    "plt.style.use('seaborn-talk')\n",
    "slides_palette = [\"#00287f\", \"#00c5ff\"]\n",
    "sns.set_palette(slides_palette)\n",
    "order1 = [\"Germany\", \"Netherlands\"]\n",
    "order2 = [\"Germany\", \"Czech Republic\"]"
   ]
  },
  {
   "cell_type": "markdown",
   "metadata": {},
   "source": [
    "#### Mask wearing"
   ]
  },
  {
   "cell_type": "code",
   "execution_count": null,
   "metadata": {},
   "outputs": [],
   "source": [
    "# Create a data frame with Netherlands and Germany\n",
    "df_nl_deu = df2[df2['country_agg'].str.contains('|'.join(['Netherlands','Germany']))]\n",
    "df_nl_deu[\"smoothed_pct_wear_mask_all_time_weighted\"] = df_nl_deu[\"smoothed_pct_wear_mask_all_time_weighted\"]/100"
   ]
  },
  {
   "cell_type": "code",
   "execution_count": null,
   "metadata": {},
   "outputs": [],
   "source": [
    "# Plot total cases per million and wearing a mask all the time\n",
    "f, axes = plt.subplots(1, 2, figsize=(15,5))\n",
    "\n",
    "g1 = sns.lineplot(data=df_nl_deu, x=\"date\", y=\"total_cases_per_million\", hue=\"country_agg\", ax=axes[0], hue_order=order1);\n",
    "g1.set_title('COVID-19 total cases per million');\n",
    "g1.set_xlabel('date');\n",
    "g1.set_ylabel('total cases per million');\n",
    "g1.set_ylim(ymin=0,ymax=35000);\n",
    "g1.legend().set_title('')\n",
    "g1.legend(loc='upper left')\n",
    "\n",
    "g2 = sns.lineplot(data=df_nl_deu, x=\"date\", y=\"smoothed_pct_wear_mask_all_time_weighted\", hue=\"country_agg\", legend=False, ax=axes[1], hue_order=order1);\n",
    "g2.set_title('Wearing a mask all the time');\n",
    "g2.set_xlabel('date');\n",
    "g2.set_ylabel('percentile wearing a mask all the time');\n",
    "g2.set_ylim(ymin=0,ymax=1);"
   ]
  },
  {
   "cell_type": "markdown",
   "metadata": {},
   "source": [
    "#### Social distancing"
   ]
  },
  {
   "cell_type": "code",
   "execution_count": null,
   "metadata": {},
   "outputs": [],
   "source": [
    "# Create a data fram with Czech Republic and Germany\n",
    "df_cze_deu = df2[df2['iso_code'].str.contains('|'.join(['CZE','DEU']))]\n",
    "df_cze_deu[\"smoothed_pct_attended_public_event_weighted\"] = df_cze_deu[\"smoothed_pct_attended_public_event_weighted\"]/100"
   ]
  },
  {
   "cell_type": "code",
   "execution_count": null,
   "metadata": {},
   "outputs": [],
   "source": [
    "# Plot total cases per million and attending public events\n",
    "f, axes = plt.subplots(1, 2, figsize=(15,5))\n",
    "\n",
    "g1 = sns.lineplot(data=df_cze_deu, x=\"date\", y=\"total_cases_per_million\", hue=\"country_agg\", ax=axes[0], hue_order=order2);\n",
    "g1.set_title('COVID-19 total cases per million');\n",
    "g1.set_ylabel('total cases per million');\n",
    "g1.set_ylim(ymin=0,ymax=35000);\n",
    "g1.legend().set_title('')\n",
    "g1.legend(loc='upper left')\n",
    "\n",
    "g2 = sns.lineplot(data=df_cze_deu, x=\"date\", y=\"smoothed_pct_attended_public_event_weighted\", hue=\"country_agg\", legend=False, ax=axes[1], hue_order=order2);\n",
    "g2.set_title('Attending public events');\n",
    "g2.set_ylabel('percentile attending public events');\n",
    "g2.set_ylim(ymin=0,ymax=1);"
   ]
  },
  {
   "cell_type": "code",
   "execution_count": null,
   "metadata": {},
   "outputs": [],
   "source": []
  }
 ],
 "metadata": {
  "kernelspec": {
   "display_name": "Python [conda env:capstone] *",
   "language": "python",
   "name": "conda-env-capstone-py"
  },
  "language_info": {
   "codemirror_mode": {
    "name": "ipython",
    "version": 3
   },
   "file_extension": ".py",
   "mimetype": "text/x-python",
   "name": "python",
   "nbconvert_exporter": "python",
   "pygments_lexer": "ipython3",
   "version": "3.8.5"
  }
 },
 "nbformat": 4,
 "nbformat_minor": 4
}
