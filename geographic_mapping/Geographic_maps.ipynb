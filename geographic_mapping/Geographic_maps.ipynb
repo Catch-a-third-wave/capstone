{
 "cells": [
  {
   "cell_type": "markdown",
   "metadata": {},
   "source": [
    "# Data for Interactive Dash Maps"
   ]
  },
  {
   "cell_type": "code",
   "execution_count": 1,
   "metadata": {},
   "outputs": [],
   "source": [
    "import sys\n",
    "sys.path.insert(1, '/Users/lauradellantonio/neuefische/Capstone/capstone')"
   ]
  },
  {
   "cell_type": "code",
   "execution_count": 2,
   "metadata": {},
   "outputs": [],
   "source": [
    "import pandas as pd\n",
    "\n",
    "import functions.functions_data\n",
    "import functions.functions_mask_wearing\n",
    "import functions.functions_corona_stats\n",
    "import functions.functions_HDI\n",
    "import functions.functions_mask_req\n",
    "\n",
    "import plotly.express as px  # (version 4.7.0)\n",
    "import plotly.graph_objects as go\n",
    "from plotly.subplots import make_subplots\n",
    "\n",
    "import dash  # (version 1.12.0) pip install dash\n",
    "import dash_core_components as dcc\n",
    "import dash_html_components as html\n",
    "from dash.dependencies import Input, Output\n",
    "\n",
    "from flask import Flask\n",
    "import os\n",
    "\n",
    "pd.set_option('display.max_columns', None) # To display all columns\n",
    "\n",
    "import warnings\n",
    "warnings.filterwarnings(action='ignore')"
   ]
  },
  {
   "cell_type": "markdown",
   "metadata": {},
   "source": [
    "### Reading in data"
   ]
  },
  {
   "cell_type": "code",
   "execution_count": 3,
   "metadata": {},
   "outputs": [
    {
     "name": "stdout",
     "output_type": "stream",
     "text": [
      "Read in data completed.\n"
     ]
    }
   ],
   "source": [
    "# Reading in survey data and joining it into one dataframe\n",
    "dfs_country = functions.functions_data.get_data(\"/Users/lauradellantonio/neuefische/Capstone/capstone/data/CMU_Global_data/Full_Survey_Data/country/smooth/\", \"country\")\n",
    "countries = pd.concat(dfs_country, ignore_index=True)"
   ]
  },
  {
   "cell_type": "code",
   "execution_count": 4,
   "metadata": {},
   "outputs": [
    {
     "name": "stdout",
     "output_type": "stream",
     "text": [
      "Merging corona stats completed.\n"
     ]
    }
   ],
   "source": [
    "# Adding the real COVID numbers to the dataframe\n",
    "covid_cases = pd.read_csv(\"/Users/lauradellantonio/neuefische/Capstone/capstone/data/Corona_stats/owid-covid-data.csv\")\n",
    "countries = functions.functions_corona_stats.merge_corona_stats(countries,covid_cases)"
   ]
  },
  {
   "cell_type": "code",
   "execution_count": 5,
   "metadata": {},
   "outputs": [],
   "source": [
    "# For having the time animation in the plot the date must be a string and not a date-time object\n",
    "# Sorting out the date column within the dataframe\n",
    "#countries = functions.functions_data.insert_month(countries)"
   ]
  },
  {
   "cell_type": "code",
   "execution_count": 6,
   "metadata": {},
   "outputs": [
    {
     "name": "stdout",
     "output_type": "stream",
     "text": [
      "NaNs before update: 163383\n",
      "NaNs after update: 0\n",
      "Updated.\n"
     ]
    }
   ],
   "source": [
    "# Dealing with the NaN in the mask wearing column\n",
    "countries = functions.functions_mask_wearing.deal_with_NaNs_masks(countries)"
   ]
  },
  {
   "cell_type": "code",
   "execution_count": 7,
   "metadata": {},
   "outputs": [
    {
     "name": "stdout",
     "output_type": "stream",
     "text": [
      "Creating dictionaries for hdi and hdi-levels completed.\n",
      "Creating hdi list completed.\n",
      "Creating hdi-level list completed.\n"
     ]
    }
   ],
   "source": [
    "# Getting the dictionaries for the hdi and the hdi-levels.\n",
    "dict_hdi, dict_hdi_levels = functions.functions_HDI.get_hdi(\"/Users/lauradellantonio/neuefische/Capstone/capstone/data\",\"hdro_statistical_data_tables_1_15_d1_d5.xlsx\")\n",
    "\n",
    "# Creating a new column with the hdi and the hdi-levels in the regions dataframe\n",
    "countries = functions.functions_HDI.create_hdi_columns(countries, dict_hdi, dict_hdi_levels)"
   ]
  },
  {
   "cell_type": "code",
   "execution_count": 8,
   "metadata": {},
   "outputs": [],
   "source": [
    "# Adding the mask wearing requirements to the dataframe\n",
    "# mask_wearing_requirements = pd.read_csv(\"/Users/lauradellantonio/neuefische/Capstone/capstone/data/data-nbhtq.csv\")\n",
    "# df = functions.functions_mask_req.merge_mask_requirements(countries,mask_wearing_requirements)"
   ]
  },
  {
   "cell_type": "code",
   "execution_count": 14,
   "metadata": {},
   "outputs": [],
   "source": [
    "df = countries.copy()"
   ]
  },
  {
   "cell_type": "code",
   "execution_count": 15,
   "metadata": {},
   "outputs": [],
   "source": [
    "df.loc[df[\"new_cases_smoothed_per_million\"] < 0, \"new_cases_smoothed_per_million\"] = 0\n",
    "df.loc[df[\"new_deaths_smoothed_per_million\"] < 0, \"new_deaths_smoothed_per_million\"] = 0"
   ]
  },
  {
   "cell_type": "markdown",
   "metadata": {},
   "source": [
    "### Adjusting data for app.py"
   ]
  },
  {
   "cell_type": "code",
   "execution_count": 24,
   "metadata": {},
   "outputs": [],
   "source": [
    "dff = df.copy()\n",
    "dff = dff[dff[\"age_bucket\"]==\"overall\"]"
   ]
  },
  {
   "cell_type": "code",
   "execution_count": 25,
   "metadata": {},
   "outputs": [],
   "source": [
    "dff2 = dff.groupby([\"country_agg\", \"iso_code\",\"gender\", \"date\"])[[\"total_cases_per_million\",\"total_deaths_per_million\", \n",
    "                    \"median_age\", \"hdi\", \"rolling_total_responses\", \"smoothed_pct_cli_weighted\", \"smoothed_pct_worked_outside_home_weighted\", \n",
    "                    \"smoothed_pct_grocery_outside_home_weighted\", \"smoothed_pct_ate_outside_home_weighted\", \n",
    "                    \"smoothed_pct_spent_time_with_non_hh_weighted\", \"smoothed_pct_attended_public_event_weighted\", \n",
    "                    \"smoothed_pct_used_public_transit_weighted\", \"smoothed_pct_direct_contact_with_non_hh_weighted\", \n",
    "                    \"smoothed_pct_no_public_weighted\"]].mean()"
   ]
  },
  {
   "cell_type": "code",
   "execution_count": 26,
   "metadata": {},
   "outputs": [],
   "source": [
    "#[\"rolling_total_responses\",\n",
    "#            \"smoothed_pct_cli_weighted\", \"smoothed_pct_worked_outside_home_weighted\", \n",
    "#              \"smoothed_pct_grocery_outside_home_weighted\", \"smoothed_pct_ate_outside_home_weighted\", \n",
    "#              \"smoothed_pct_spent_time_with_non_hh_weighted\", \"smoothed_pct_attended_public_event_weighted\", \n",
    "#              \"smoothed_pct_used_public_transit_weighted\", \"smoothed_pct_direct_contact_with_non_hh_weighted\", \n",
    "#              \"smoothed_pct_no_public_weighted\", \"smoothed_pct_wear_mask_all_time_weighted\", \n",
    "#            \"smoothed_pct_wear_mask_most_time_weighted\", \"smoothed_pct_wear_mask_half_time_weighted\", \n",
    "#            \"smoothed_pct_wear_mask_some_time_weighted\", \"smoothed_pct_wear_mask_none_time_weighted\" ]"
   ]
  },
  {
   "cell_type": "code",
   "execution_count": 27,
   "metadata": {},
   "outputs": [],
   "source": [
    "dff2 = dff2.stack().reset_index()"
   ]
  },
  {
   "cell_type": "code",
   "execution_count": 28,
   "metadata": {},
   "outputs": [],
   "source": [
    "dff2 = dff2.rename(columns={\"level_4\": \"data_cat\", 0: \"amount\"})"
   ]
  },
  {
   "cell_type": "code",
   "execution_count": 29,
   "metadata": {},
   "outputs": [],
   "source": [
    "dff2.to_csv(\"/Users/lauradellantonio/neuefische/Capstone/capstone/dash_data/countries_dash.csv.gzip\", compression=\"gzip\")"
   ]
  },
  {
   "cell_type": "markdown",
   "metadata": {},
   "source": [
    "# Map testing"
   ]
  },
  {
   "cell_type": "code",
   "execution_count": null,
   "metadata": {},
   "outputs": [],
   "source": [
    "df_map = df.copy()"
   ]
  },
  {
   "cell_type": "code",
   "execution_count": null,
   "metadata": {},
   "outputs": [],
   "source": [
    "df_map = df_map[df_map[\"age_bucket\"]==\"overall\"]\n",
    "df_map = df_map[df_map[\"gender\"]==\"overall\"]"
   ]
  },
  {
   "cell_type": "code",
   "execution_count": null,
   "metadata": {},
   "outputs": [],
   "source": [
    "df_map = df_map.groupby([\"country_agg\", \"iso_code\", \"date\"])[[\"total_deaths_per_million\"]].mean()"
   ]
  },
  {
   "cell_type": "code",
   "execution_count": null,
   "metadata": {},
   "outputs": [],
   "source": [
    "df_map = df_map.stack().reset_index()"
   ]
  },
  {
   "cell_type": "code",
   "execution_count": null,
   "metadata": {},
   "outputs": [],
   "source": [
    "df_map = df_map.rename(columns={\"level_3\": \"data_cat\", 0: \"amount\"})"
   ]
  },
  {
   "cell_type": "code",
   "execution_count": null,
   "metadata": {},
   "outputs": [],
   "source": [
    "df_map"
   ]
  },
  {
   "cell_type": "code",
   "execution_count": null,
   "metadata": {},
   "outputs": [],
   "source": [
    "fig = px.choropleth(\n",
    "        data_frame = df_map,\n",
    "        locations=\"iso_code\",\n",
    "        color=\"amount\",\n",
    "        hover_name=\"country_agg\",\n",
    "        animation_frame = \"date\",\n",
    "        projection = \"natural earth\",\n",
    "        color_continuous_scale=[\"white\", \"#00c5ff\", \"#00287f\", \"#00151f\"])\n",
    "fig.show(\"browser\")"
   ]
  },
  {
   "cell_type": "code",
   "execution_count": null,
   "metadata": {},
   "outputs": [],
   "source": []
  },
  {
   "cell_type": "markdown",
   "metadata": {},
   "source": [
    "### Adjusting data for app.py - more complicated"
   ]
  },
  {
   "cell_type": "code",
   "execution_count": null,
   "metadata": {},
   "outputs": [],
   "source": [
    "df1 = countries[countries[\"date\"]==\"2020-07-16\"]"
   ]
  },
  {
   "cell_type": "code",
   "execution_count": null,
   "metadata": {},
   "outputs": [],
   "source": [
    "df1 = countries.groupby([\"country_agg\", \"GID_0\",\"gender\", \"age_bucket\", \"date\"])[[\"rolling_total_responses\",\n",
    "            \"smoothed_pct_cli_weighted\", \"smoothed_pct_worked_outside_home_weighted\", \n",
    "              \"smoothed_pct_grocery_outside_home_weighted\", \"smoothed_pct_ate_outside_home_weighted\", \n",
    "              \"smoothed_pct_spent_time_with_non_hh_weighted\", \"smoothed_pct_attended_public_event_weighted\", \n",
    "              \"smoothed_pct_used_public_transit_weighted\", \"smoothed_pct_direct_contact_with_non_hh_weighted\", \n",
    "              \"smoothed_pct_no_public_weighted\", \"smoothed_pct_wear_mask_all_time_weighted\", \n",
    "            \"smoothed_pct_wear_mask_most_time_weighted\", \"smoothed_pct_wear_mask_half_time_weighted\", \n",
    "            \"smoothed_pct_wear_mask_some_time_weighted\", \"smoothed_pct_wear_mask_none_time_weighted\" ]].mean()"
   ]
  },
  {
   "cell_type": "code",
   "execution_count": null,
   "metadata": {},
   "outputs": [],
   "source": [
    "df2 = df1.stack().reset_index()"
   ]
  },
  {
   "cell_type": "code",
   "execution_count": null,
   "metadata": {},
   "outputs": [],
   "source": [
    "df2 = df2.rename(columns={\"level_5\": \"data_cat\", 0: \"amount\"})"
   ]
  },
  {
   "cell_type": "code",
   "execution_count": null,
   "metadata": {},
   "outputs": [],
   "source": [
    "df2.to_csv(\"dash_data/countries_dash2.csv.gzip\", compression=\"gzip\")"
   ]
  }
 ],
 "metadata": {
  "kernelspec": {
   "display_name": "Python 3",
   "language": "python",
   "name": "python3"
  },
  "language_info": {
   "codemirror_mode": {
    "name": "ipython",
    "version": 3
   },
   "file_extension": ".py",
   "mimetype": "text/x-python",
   "name": "python",
   "nbconvert_exporter": "python",
   "pygments_lexer": "ipython3",
   "version": "3.8.5"
  }
 },
 "nbformat": 4,
 "nbformat_minor": 4
}
