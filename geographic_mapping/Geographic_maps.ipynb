{
 "cells": [
  {
   "cell_type": "markdown",
   "metadata": {},
   "source": [
    "# Data for Interactive Dash Maps"
   ]
  },
  {
   "cell_type": "code",
   "execution_count": 1,
   "metadata": {},
   "outputs": [],
   "source": [
    "import sys\n",
    "sys.path.insert(1, '/Users/lauradellantonio/neuefische/Capstone/capstone')"
   ]
  },
  {
   "cell_type": "code",
   "execution_count": 2,
   "metadata": {},
   "outputs": [],
   "source": [
    "import pandas as pd\n",
    "\n",
    "import functions.functions_data\n",
    "import functions.functions_mask_wearing\n",
    "import functions.functions_corona_stats\n",
    "import functions.functions_HDI\n",
    "import functions.functions_mask_req\n",
    "\n",
    "import plotly.express as px  # (version 4.7.0)\n",
    "import plotly.graph_objects as go\n",
    "from plotly.subplots import make_subplots\n",
    "\n",
    "import dash  # (version 1.12.0) pip install dash\n",
    "import dash_core_components as dcc\n",
    "import dash_html_components as html\n",
    "from dash.dependencies import Input, Output\n",
    "\n",
    "from flask import Flask\n",
    "import os\n",
    "\n",
    "pd.set_option('display.max_columns', None) # To display all columns\n",
    "\n",
    "import warnings\n",
    "warnings.filterwarnings(action='ignore')"
   ]
  },
  {
   "cell_type": "markdown",
   "metadata": {},
   "source": [
    "### Reading in data"
   ]
  },
  {
   "cell_type": "code",
   "execution_count": 32,
   "metadata": {},
   "outputs": [
    {
     "name": "stdout",
     "output_type": "stream",
     "text": [
      "Read in data completed.\n"
     ]
    }
   ],
   "source": [
    "# Reading in survey data and joining it into one dataframe\n",
    "dfs_country = functions.functions_data.get_data(\"/Users/lauradellantonio/neuefische/Capstone/capstone/data/CMU_Global_data/Full_Survey_Data/country/smooth/\", \"country\")\n",
    "countries = pd.concat(dfs_country, ignore_index=True)"
   ]
  },
  {
   "cell_type": "code",
   "execution_count": 33,
   "metadata": {},
   "outputs": [
    {
     "name": "stdout",
     "output_type": "stream",
     "text": [
      "Merging corona stats completed.\n"
     ]
    }
   ],
   "source": [
    "# Adding the real COVID numbers to the dataframe\n",
    "covid_cases = pd.read_csv(\"/Users/lauradellantonio/neuefische/Capstone/capstone/data/Corona_stats/owid-covid-data.csv\")\n",
    "countries = functions.functions_corona_stats.merge_corona_stats(countries,covid_cases)"
   ]
  },
  {
   "cell_type": "code",
   "execution_count": 58,
   "metadata": {},
   "outputs": [],
   "source": [
    "# For having the time animation in the plot the date must be a string and not a date-time object\n",
    "# Sorting out the date column within the dataframe\n",
    "#countries = functions.functions_data.insert_month(countries)"
   ]
  },
  {
   "cell_type": "code",
   "execution_count": 35,
   "metadata": {},
   "outputs": [
    {
     "name": "stdout",
     "output_type": "stream",
     "text": [
      "NaNs before update: 163383\n",
      "NaNs after update: 0\n",
      "Updated.\n"
     ]
    }
   ],
   "source": [
    "# Dealing with the NaN in the mask wearing column\n",
    "countries = functions.functions_mask_wearing.deal_with_NaNs_masks(countries)"
   ]
  },
  {
   "cell_type": "code",
   "execution_count": 36,
   "metadata": {},
   "outputs": [
    {
     "name": "stdout",
     "output_type": "stream",
     "text": [
      "Creating dictionaries for hdi and hdi-levels completed.\n",
      "Creating hdi list completed.\n",
      "Creating hdi-level list completed.\n"
     ]
    }
   ],
   "source": [
    "# Getting the dictionaries for the hdi and the hdi-levels.\n",
    "dict_hdi, dict_hdi_levels = functions.functions_HDI.get_hdi(\"/Users/lauradellantonio/neuefische/Capstone/capstone/data\",\"hdro_statistical_data_tables_1_15_d1_d5.xlsx\")\n",
    "\n",
    "# Creating a new column with the hdi and the hdi-levels in the regions dataframe\n",
    "countries = functions.functions_HDI.create_hdi_columns(countries, dict_hdi, dict_hdi_levels)"
   ]
  },
  {
   "cell_type": "code",
   "execution_count": 37,
   "metadata": {},
   "outputs": [],
   "source": [
    "# Adding the mask wearing requirements to the dataframe\n",
    "# mask_wearing_requirements = pd.read_csv(\"/Users/lauradellantonio/neuefische/Capstone/capstone/data/data-nbhtq.csv\")\n",
    "# df = functions.functions_mask_req.merge_mask_requirements(countries,mask_wearing_requirements)"
   ]
  },
  {
   "cell_type": "code",
   "execution_count": 38,
   "metadata": {},
   "outputs": [],
   "source": [
    "df = countries.copy()"
   ]
  },
  {
   "cell_type": "code",
   "execution_count": 39,
   "metadata": {},
   "outputs": [],
   "source": [
    "df.loc[df[\"new_cases_smoothed_per_million\"] < 0, \"new_cases_smoothed_per_million\"] = 0\n",
    "df.loc[df[\"new_deaths_smoothed_per_million\"] < 0, \"new_deaths_smoothed_per_million\"] = 0"
   ]
  },
  {
   "cell_type": "markdown",
   "metadata": {},
   "source": [
    "### Adjusting data for app.py"
   ]
  },
  {
   "cell_type": "code",
   "execution_count": 52,
   "metadata": {},
   "outputs": [],
   "source": [
    "dff = df.copy()"
   ]
  },
  {
   "cell_type": "code",
   "execution_count": 53,
   "metadata": {},
   "outputs": [],
   "source": [
    "dff = dff[dff[\"age_bucket\"]==\"overall\"]\n",
    "#dff = dff[dff[\"date\"]==\"2020-07-16\"]\n",
    "dff = df.groupby([\"country_agg\", \"iso_code\",\"gender\", \"date\"])[[\"total_cases_per_million\",\"total_deaths_per_million\", \"median_age\", \"hdi\"]].mean()"
   ]
  },
  {
   "cell_type": "code",
   "execution_count": 54,
   "metadata": {},
   "outputs": [],
   "source": [
    "dff = dff.stack().reset_index()"
   ]
  },
  {
   "cell_type": "code",
   "execution_count": 55,
   "metadata": {},
   "outputs": [],
   "source": [
    "dff = dff.rename(columns={\"level_4\": \"data_cat\", 0: \"amount\"})"
   ]
  },
  {
   "cell_type": "code",
   "execution_count": 57,
   "metadata": {},
   "outputs": [],
   "source": [
    "dff.to_csv(\"/Users/lauradellantonio/neuefische/Capstone/capstone/dash_data/countries_dash.csv.gzip\", compression=\"gzip\")"
   ]
  },
  {
   "cell_type": "markdown",
   "metadata": {},
   "source": [
    "# Map testing"
   ]
  },
  {
   "cell_type": "code",
   "execution_count": 45,
   "metadata": {},
   "outputs": [],
   "source": [
    "df_map = df.copy()"
   ]
  },
  {
   "cell_type": "code",
   "execution_count": 46,
   "metadata": {},
   "outputs": [],
   "source": [
    "df_map = df_map[df_map[\"age_bucket\"]==\"overall\"]\n",
    "df_map = df_map[df_map[\"gender\"]==\"overall\"]"
   ]
  },
  {
   "cell_type": "code",
   "execution_count": 47,
   "metadata": {},
   "outputs": [],
   "source": [
    "df_map = df_map.groupby([\"country_agg\", \"iso_code\", \"date\"])[[\"total_deaths_per_million\"]].mean()"
   ]
  },
  {
   "cell_type": "code",
   "execution_count": 48,
   "metadata": {},
   "outputs": [],
   "source": [
    "df_map = df_map.stack().reset_index()"
   ]
  },
  {
   "cell_type": "code",
   "execution_count": 49,
   "metadata": {},
   "outputs": [],
   "source": [
    "df_map = df_map.rename(columns={\"level_3\": \"data_cat\", 0: \"amount\"})"
   ]
  },
  {
   "cell_type": "code",
   "execution_count": 50,
   "metadata": {},
   "outputs": [
    {
     "data": {
      "text/html": [
       "<div>\n",
       "<style scoped>\n",
       "    .dataframe tbody tr th:only-of-type {\n",
       "        vertical-align: middle;\n",
       "    }\n",
       "\n",
       "    .dataframe tbody tr th {\n",
       "        vertical-align: top;\n",
       "    }\n",
       "\n",
       "    .dataframe thead th {\n",
       "        text-align: right;\n",
       "    }\n",
       "</style>\n",
       "<table border=\"1\" class=\"dataframe\">\n",
       "  <thead>\n",
       "    <tr style=\"text-align: right;\">\n",
       "      <th></th>\n",
       "      <th>country_agg</th>\n",
       "      <th>iso_code</th>\n",
       "      <th>date</th>\n",
       "      <th>data_cat</th>\n",
       "      <th>amount</th>\n",
       "    </tr>\n",
       "  </thead>\n",
       "  <tbody>\n",
       "    <tr>\n",
       "      <th>0</th>\n",
       "      <td>Afghanistan</td>\n",
       "      <td>AFG</td>\n",
       "      <td>2020-04-29</td>\n",
       "      <td>total_deaths_per_million</td>\n",
       "      <td>1.541</td>\n",
       "    </tr>\n",
       "    <tr>\n",
       "      <th>1</th>\n",
       "      <td>Afghanistan</td>\n",
       "      <td>AFG</td>\n",
       "      <td>2020-04-30</td>\n",
       "      <td>total_deaths_per_million</td>\n",
       "      <td>1.541</td>\n",
       "    </tr>\n",
       "    <tr>\n",
       "      <th>2</th>\n",
       "      <td>Afghanistan</td>\n",
       "      <td>AFG</td>\n",
       "      <td>2020-05-01</td>\n",
       "      <td>total_deaths_per_million</td>\n",
       "      <td>1.644</td>\n",
       "    </tr>\n",
       "    <tr>\n",
       "      <th>3</th>\n",
       "      <td>Afghanistan</td>\n",
       "      <td>AFG</td>\n",
       "      <td>2020-05-02</td>\n",
       "      <td>total_deaths_per_million</td>\n",
       "      <td>1.747</td>\n",
       "    </tr>\n",
       "    <tr>\n",
       "      <th>4</th>\n",
       "      <td>Afghanistan</td>\n",
       "      <td>AFG</td>\n",
       "      <td>2020-05-03</td>\n",
       "      <td>total_deaths_per_million</td>\n",
       "      <td>1.850</td>\n",
       "    </tr>\n",
       "    <tr>\n",
       "      <th>...</th>\n",
       "      <td>...</td>\n",
       "      <td>...</td>\n",
       "      <td>...</td>\n",
       "      <td>...</td>\n",
       "      <td>...</td>\n",
       "    </tr>\n",
       "    <tr>\n",
       "      <th>21397</th>\n",
       "      <td>Zimbabwe</td>\n",
       "      <td>ZWE</td>\n",
       "      <td>2020-10-30</td>\n",
       "      <td>total_deaths_per_million</td>\n",
       "      <td>16.282</td>\n",
       "    </tr>\n",
       "    <tr>\n",
       "      <th>21398</th>\n",
       "      <td>Zimbabwe</td>\n",
       "      <td>ZWE</td>\n",
       "      <td>2020-10-31</td>\n",
       "      <td>total_deaths_per_million</td>\n",
       "      <td>16.282</td>\n",
       "    </tr>\n",
       "    <tr>\n",
       "      <th>21399</th>\n",
       "      <td>Zimbabwe</td>\n",
       "      <td>ZWE</td>\n",
       "      <td>2020-11-01</td>\n",
       "      <td>total_deaths_per_million</td>\n",
       "      <td>16.282</td>\n",
       "    </tr>\n",
       "    <tr>\n",
       "      <th>21400</th>\n",
       "      <td>Zimbabwe</td>\n",
       "      <td>ZWE</td>\n",
       "      <td>2020-11-02</td>\n",
       "      <td>total_deaths_per_million</td>\n",
       "      <td>16.349</td>\n",
       "    </tr>\n",
       "    <tr>\n",
       "      <th>21401</th>\n",
       "      <td>Zimbabwe</td>\n",
       "      <td>ZWE</td>\n",
       "      <td>2020-11-03</td>\n",
       "      <td>total_deaths_per_million</td>\n",
       "      <td>16.484</td>\n",
       "    </tr>\n",
       "  </tbody>\n",
       "</table>\n",
       "<p>21402 rows × 5 columns</p>\n",
       "</div>"
      ],
      "text/plain": [
       "       country_agg iso_code        date                  data_cat  amount\n",
       "0      Afghanistan      AFG  2020-04-29  total_deaths_per_million   1.541\n",
       "1      Afghanistan      AFG  2020-04-30  total_deaths_per_million   1.541\n",
       "2      Afghanistan      AFG  2020-05-01  total_deaths_per_million   1.644\n",
       "3      Afghanistan      AFG  2020-05-02  total_deaths_per_million   1.747\n",
       "4      Afghanistan      AFG  2020-05-03  total_deaths_per_million   1.850\n",
       "...            ...      ...         ...                       ...     ...\n",
       "21397     Zimbabwe      ZWE  2020-10-30  total_deaths_per_million  16.282\n",
       "21398     Zimbabwe      ZWE  2020-10-31  total_deaths_per_million  16.282\n",
       "21399     Zimbabwe      ZWE  2020-11-01  total_deaths_per_million  16.282\n",
       "21400     Zimbabwe      ZWE  2020-11-02  total_deaths_per_million  16.349\n",
       "21401     Zimbabwe      ZWE  2020-11-03  total_deaths_per_million  16.484\n",
       "\n",
       "[21402 rows x 5 columns]"
      ]
     },
     "execution_count": 50,
     "metadata": {},
     "output_type": "execute_result"
    }
   ],
   "source": [
    "df_map"
   ]
  },
  {
   "cell_type": "code",
   "execution_count": 51,
   "metadata": {},
   "outputs": [],
   "source": [
    "fig = px.choropleth(\n",
    "        data_frame = df_map,\n",
    "        locations=\"iso_code\",\n",
    "        color=\"amount\",\n",
    "        hover_name=\"country_agg\",\n",
    "        animation_frame = \"date\",\n",
    "        projection = \"natural earth\",\n",
    "        color_continuous_scale=[\"white\", \"#00c5ff\", \"#00287f\", \"#00151f\"])\n",
    "fig.show(\"browser\")"
   ]
  },
  {
   "cell_type": "code",
   "execution_count": null,
   "metadata": {},
   "outputs": [],
   "source": []
  },
  {
   "cell_type": "markdown",
   "metadata": {},
   "source": [
    "### Adjusting data for app.py - more complicated"
   ]
  },
  {
   "cell_type": "code",
   "execution_count": null,
   "metadata": {},
   "outputs": [],
   "source": [
    "df1 = countries[countries[\"date\"]==\"2020-07-16\"]"
   ]
  },
  {
   "cell_type": "code",
   "execution_count": null,
   "metadata": {},
   "outputs": [],
   "source": [
    "df1 = countries.groupby([\"country_agg\", \"GID_0\",\"gender\", \"age_bucket\", \"date\"])[[\"rolling_total_responses\",\n",
    "            \"smoothed_pct_cli_weighted\", \"smoothed_pct_worked_outside_home_weighted\", \n",
    "              \"smoothed_pct_grocery_outside_home_weighted\", \"smoothed_pct_ate_outside_home_weighted\", \n",
    "              \"smoothed_pct_spent_time_with_non_hh_weighted\", \"smoothed_pct_attended_public_event_weighted\", \n",
    "              \"smoothed_pct_used_public_transit_weighted\", \"smoothed_pct_direct_contact_with_non_hh_weighted\", \n",
    "              \"smoothed_pct_no_public_weighted\", \"smoothed_pct_wear_mask_all_time_weighted\", \n",
    "            \"smoothed_pct_wear_mask_most_time_weighted\", \"smoothed_pct_wear_mask_half_time_weighted\", \n",
    "            \"smoothed_pct_wear_mask_some_time_weighted\", \"smoothed_pct_wear_mask_none_time_weighted\" ]].mean()"
   ]
  },
  {
   "cell_type": "code",
   "execution_count": null,
   "metadata": {},
   "outputs": [],
   "source": [
    "df2 = df1.stack().reset_index()"
   ]
  },
  {
   "cell_type": "code",
   "execution_count": null,
   "metadata": {},
   "outputs": [],
   "source": [
    "df2 = df2.rename(columns={\"level_5\": \"data_cat\", 0: \"amount\"})"
   ]
  },
  {
   "cell_type": "code",
   "execution_count": null,
   "metadata": {},
   "outputs": [],
   "source": [
    "df2.to_csv(\"dash_data/countries_dash2.csv.gzip\", compression=\"gzip\")"
   ]
  }
 ],
 "metadata": {
  "kernelspec": {
   "display_name": "Python 3",
   "language": "python",
   "name": "python3"
  },
  "language_info": {
   "codemirror_mode": {
    "name": "ipython",
    "version": 3
   },
   "file_extension": ".py",
   "mimetype": "text/x-python",
   "name": "python",
   "nbconvert_exporter": "python",
   "pygments_lexer": "ipython3",
   "version": "3.8.5"
  }
 },
 "nbformat": 4,
 "nbformat_minor": 4
}
