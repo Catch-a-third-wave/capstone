{
 "cells": [
  {
   "cell_type": "markdown",
   "metadata": {},
   "source": [
    "# Groupings of countries"
   ]
  },
  {
   "cell_type": "code",
   "execution_count": 2,
   "metadata": {},
   "outputs": [],
   "source": [
    "# sub_df = df.loc[df['column_name'].isin(some_values)]\n",
    "# e.g. asia_w = countries.loc[countries[\"country_agg\"].isin(asia_w_names)]"
   ]
  },
  {
   "cell_type": "markdown",
   "metadata": {},
   "source": [
    "## Asia\n",
    "\n",
    "According to the UN: https://pitt.libguides.com/c.php?g=12555&p=66443\n",
    "\n",
    "#### Western Asia (w)\n",
    "Armenia, Azerbaijan, Israel, Jordan, Kuwait, Lebanon, Oman, Iraq, Qatar, Saudi Arabia, United Arab Emirates, Yemen\n",
    "\n",
    "#### Central Asia (c)\n",
    "Kazakhstan, Kyrgyzstan, Uzbekistan\n",
    "\n",
    "#### Southern Asia (s)\n",
    "Bangladesh, India, Nepal, Afghanistan, Pakistan, Sri Lanka\n",
    "\n",
    "#### Eastern Asia (e)\n",
    "Hong Kong, Japan, South Korea, Taiwan\n",
    "\n",
    "#### South Eastern Asia (se)\n",
    "Cambodia, Indonesia, Laos, Malaysia, Myanmar, Singapore, Thailand, Vietnam"
   ]
  },
  {
   "cell_type": "code",
   "execution_count": 1,
   "metadata": {},
   "outputs": [],
   "source": [
    "asia_w_names = ['Armenia', 'Azerbaijan', 'Israel', 'Jordan', 'Kuwait', 'Lebanon', 'Oman', 'Iraq', 'Qatar', 'Saudi Arabia', \n",
    "                'United Arab Emirates', 'Yemen']\n",
    "asia_c_names = ['Kazakhstan', 'Kyrgyzstan', 'Uzbekistan']\n",
    "asia_s_names = ['Bangladesh','India', 'Nepal', 'Afghanistan', 'Pakistan', 'Sri Lanka']\n",
    "asia_e_names = ['Hong Kong', 'Japan', 'South Korea', 'Taiwan']\n",
    "asia_se_names = ['Cambodia','Indonesia', 'Laos','Malaysia', 'Myanmar', 'Singapore', 'Thailand', 'Vietnam']"
   ]
  },
  {
   "cell_type": "markdown",
   "metadata": {},
   "source": [
    "## Oceania\n",
    "Only two countries (New Zealand and Austrlia)"
   ]
  },
  {
   "cell_type": "code",
   "execution_count": 5,
   "metadata": {},
   "outputs": [],
   "source": [
    "oceania = [\"New Zealand\", \"Austrlia\"]"
   ]
  },
  {
   "cell_type": "markdown",
   "metadata": {},
   "source": [
    "## Americas \n",
    "\n",
    "#### North America (n)\n",
    "Canada (USA is in seperate dataset)\n",
    "\n",
    "#### Central America (ce)\n",
    "Costa Rica, El Salvador, Guatemala,  Honduras, Mexico, Nicaragua, Panama\n",
    "\n",
    "### Carribean (c)\n",
    "Dominican Republic, Haiti\n",
    "\n",
    "#### South America (s)\n",
    "Argentina, Bolivia, Brazil, Chile, Colombia, Ecuador, Paraguay, Peru, Uruguay, Venezuela"
   ]
  },
  {
   "cell_type": "code",
   "execution_count": 6,
   "metadata": {},
   "outputs": [],
   "source": [
    "america_n_names = [\"Canada\"]\n",
    "america_ce_names = [\"Costa Rica\", \"El Salvador\", \"Guatemala\", \"Honduras\", \"Mexico\", \"Nicaragua\", \"Panama\"]\n",
    "america_c_names = [\"Dominican Republic\", \"Haiti\"]\n",
    "america_s_names = [\"Argentina\", \"Bolivia\", \"Brazil\", \"Chile\", \"Colombia\", \"Ecuador\", \"Paraguay\", \"Peru\", \n",
    "                   \"Uruguay\", \"Venezuela\"]"
   ]
  },
  {
   "cell_type": "markdown",
   "metadata": {},
   "source": [
    "## Europe\n",
    "\n",
    "#### Scandinavia (sc)\n",
    "Denmark, Finland, Norway, Sweden, \n",
    "\n",
    "#### Western Europe (w)\n",
    "Austria, Belgium, France, Germany, Ireland, Netherlands, Switzerland, United Kingdom\n",
    "\n",
    "#### Southern Europe (s)\n",
    "Italy, Portugal, Spain, Andorra\n",
    "\n",
    "#### South Eastern Europe (se)\n",
    "Albania, Bosnia and Herzegovina, Bulgaria, Croatia, Greece, Romania, Serbia, Slovenia, Turkey\n",
    "\n",
    "#### Eastern Europe (e)\n",
    "Belarus, Czech Republic, Hungary, Moldova, Poland, Russia, Slovakia, Ukraine"
   ]
  },
  {
   "cell_type": "code",
   "execution_count": null,
   "metadata": {},
   "outputs": [],
   "source": [
    "europe_sc_names = [\"Denmark\", \"Finland\", \"Norway\", \"Sweden\"]\n",
    "europe_w_names = [\"Austria\", \"Belgium\", \"France\", \"Germany\", \"Ireland\", \"Netherlands\", \"Switzerland\", \n",
    "                  \"United Kingdom\"]\n",
    "europe_s_names = [\"Italy\", \"Portugal\", \"Spain\", \"Andorra\"]\n",
    "europe_sc_names = [\"Albania\", \"Bosnia and Herzegovina\", \"Bulgaria\", \"Croatia\", \"Greece\", \"Romania\", \"Serbia\", \n",
    "                   \"Slovenia\", \"Turkey\"]\n",
    "europe_sc_names = [\"Belarus\", \"Czech Republic\", \"Hungary\", \"Moldova\", \"Poland\", \"Russia\", \"Slovakia\", \"Ukraine\"]"
   ]
  },
  {
   "cell_type": "markdown",
   "metadata": {},
   "source": [
    "## Africa\n",
    "\n",
    "According to: https://www.internetworldstats.com/list1.htm#geo\n",
    "\n",
    "#### West Africa (w)\n",
    "Benin, Burkina Faso, Côte d'Ivoire, Ghana, Guinea, Mali, Mauritania, Nigeria, Senegal\n",
    "\n",
    "#### Middle Africa (m)\n",
    "Angola, Cameroon, Democratic Republic of the Congo\n",
    "\n",
    "#### South Africa (s)\n",
    "South Africa\n",
    "\n",
    "#### North Africa (n)\n",
    "Algeria, Egypt, Libya, Morocco, Tunisia, Sudan\n",
    "\n",
    "#### East Africa (e)\n",
    "Ethiopia, Kenya, Madagascar, Mozambique, Tanzania"
   ]
  },
  {
   "cell_type": "code",
   "execution_count": 4,
   "metadata": {},
   "outputs": [],
   "source": [
    "africa_e_names = ['Ethiopia', 'Kenya', 'Madagascar', 'Mozambique', 'Tanzania']\n",
    "africa_m_names = ['Angola', 'Cameroon','Democratic Republic of the Congo']\n",
    "africa_n_names = ['Algeria', 'Egypt', 'Libya','Morocco', 'Tunisia', 'Sudan']\n",
    "africa_s_names = ['South Africa']\n",
    "africa_w_names = ['Benin', 'Burkina Faso', \"Côte d'Ivoire\", 'Ghana', 'Guinea', 'Mali', 'Mauritania', 'Nigeria', \n",
    "                  'Senegal']"
   ]
  }
 ],
 "metadata": {
  "kernelspec": {
   "display_name": "Python [conda env:capstone] *",
   "language": "python",
   "name": "conda-env-capstone-py"
  },
  "language_info": {
   "codemirror_mode": {
    "name": "ipython",
    "version": 3
   },
   "file_extension": ".py",
   "mimetype": "text/x-python",
   "name": "python",
   "nbconvert_exporter": "python",
   "pygments_lexer": "ipython3",
   "version": "3.8.5"
  }
 },
 "nbformat": 4,
 "nbformat_minor": 4
}
