{
 "cells": [
  {
   "cell_type": "markdown",
   "metadata": {},
   "source": [
    "# EDA covid cases"
   ]
  },
  {
   "cell_type": "code",
   "execution_count": 3,
   "metadata": {},
   "outputs": [],
   "source": [
    "import sys\n",
    "sys.path.insert(1, '/Users/jakoliendenhollander/capstone/capstone')\n",
    "\n",
    "import pandas as pd\n",
    "import warnings\n",
    "import matplotlib.pyplot as plt\n",
    "%matplotlib inline\n",
    "import seaborn as sns\n",
    "\n",
    "import functions.functions_data\n",
    "import functions.functions_corona_stats\n",
    "import functions.functions_HDI\n",
    "import functions.functions_mask_wearing\n",
    "\n",
    "warnings.filterwarnings(action='ignore')\n",
    "pd.set_option('display.max_columns', None) # To display all columns\n",
    "\n",
    "sns.set_style(\"whitegrid\")\n",
    "mono_palette = [\"steelblue\"]\n",
    "heatmap_palette = sns.diverging_palette(240, 10, n=9)\n",
    "gender_palette = [\"indianred\", \"steelblue\"]"
   ]
  },
  {
   "cell_type": "markdown",
   "metadata": {},
   "source": [
    "### Read in data"
   ]
  },
  {
   "cell_type": "code",
   "execution_count": 5,
   "metadata": {},
   "outputs": [],
   "source": [
    "covid_cases = pd.read_csv(\"/Users/jakoliendenhollander/capstone/capstone/data/Corona_stats/owid-covid-data.csv\")"
   ]
  },
  {
   "cell_type": "code",
   "execution_count": 6,
   "metadata": {},
   "outputs": [
    {
     "name": "stdout",
     "output_type": "stream",
     "text": [
      "Read in data completed.\n"
     ]
    }
   ],
   "source": [
    "# Reading in survey data from csv into a dictionary of dataframes.\n",
    "dfs_country = functions.functions_data.get_data(\"/Users/jakoliendenhollander/capstone/capstone/data/CMU_Global_data/Full_Survey_Data/country/smooth/\", \"country\")\n",
    "\n",
    "# Concatenating individuals dataframes from the dictionary into one dataframe for regions.\n",
    "survey_data = pd.concat(dfs_country, ignore_index=True)"
   ]
  },
  {
   "cell_type": "code",
   "execution_count": 7,
   "metadata": {},
   "outputs": [
    {
     "name": "stdout",
     "output_type": "stream",
     "text": [
      "Merging corona stats completed.\n"
     ]
    }
   ],
   "source": [
    "# Merging survey data and covid cases\n",
    "df_merged = functions.functions_corona_stats.merge_corona_stats(survey_data,covid_cases)"
   ]
  },
  {
   "cell_type": "code",
   "execution_count": 8,
   "metadata": {},
   "outputs": [
    {
     "name": "stdout",
     "output_type": "stream",
     "text": [
      "Creating dictionaries for hdi and hdi-levels completed.\n",
      "Creating hdi list completed.\n",
      "Creating hdi-level list completed.\n"
     ]
    }
   ],
   "source": [
    "# Getting the dictionaries for the hdi and the hdi-levels.\n",
    "dict_hdi, dict_hdi_levels = functions.functions_HDI.get_hdi(\"/Users/jakoliendenhollander/capstone/capstone/data\",\"hdro_statistical_data_tables_1_15_d1_d5.xlsx\")\n",
    "\n",
    "# Creating a new column with the hdi and the hdi-levels in the regions dataframe\n",
    "df_merged_hdi = functions.functions_HDI.create_hdi_columns(df_merged, dict_hdi, dict_hdi_levels)"
   ]
  },
  {
   "cell_type": "markdown",
   "metadata": {},
   "source": [
    "### Data cleaning"
   ]
  },
  {
   "cell_type": "code",
   "execution_count": 9,
   "metadata": {},
   "outputs": [
    {
     "name": "stdout",
     "output_type": "stream",
     "text": [
      "Created month column.\n",
      "NaNs before update: 163383\n",
      "NaNs after update: 0\n",
      "Updated.\n",
      "Deleted other and overall.\n"
     ]
    }
   ],
   "source": [
    "# Change object into datetime object and create month column\n",
    "df_month = functions.functions_data.insert_month(df_merged_hdi)\n",
    "\n",
    "# Deal with NaN's in the wearing mask all the time column\n",
    "df_complete = functions.functions_mask_wearing.deal_with_NaNs_masks(df_month)\n",
    "\n",
    "# Delete 'other' and 'overall' in gender column and 'overall' in age bucket\n",
    "df = functions.functions_mask_wearing.delete_overall(df_complete)"
   ]
  },
  {
   "cell_type": "code",
   "execution_count": 10,
   "metadata": {},
   "outputs": [
    {
     "data": {
      "text/html": [
       "<div>\n",
       "<style scoped>\n",
       "    .dataframe tbody tr th:only-of-type {\n",
       "        vertical-align: middle;\n",
       "    }\n",
       "\n",
       "    .dataframe tbody tr th {\n",
       "        vertical-align: top;\n",
       "    }\n",
       "\n",
       "    .dataframe thead th {\n",
       "        text-align: right;\n",
       "    }\n",
       "</style>\n",
       "<table border=\"1\" class=\"dataframe\">\n",
       "  <thead>\n",
       "    <tr style=\"text-align: right;\">\n",
       "      <th></th>\n",
       "      <th>total_cases_per_million</th>\n",
       "      <th>new_cases_smoothed_per_million</th>\n",
       "      <th>total_deaths_per_million</th>\n",
       "      <th>new_deaths_smoothed_per_million</th>\n",
       "      <th>median_age</th>\n",
       "      <th>aged_65_older</th>\n",
       "    </tr>\n",
       "  </thead>\n",
       "  <tbody>\n",
       "    <tr>\n",
       "      <th>count</th>\n",
       "      <td>105770.000000</td>\n",
       "      <td>105776.000000</td>\n",
       "      <td>104183.000000</td>\n",
       "      <td>105776.000000</td>\n",
       "      <td>106188.000000</td>\n",
       "      <td>105051.000000</td>\n",
       "    </tr>\n",
       "    <tr>\n",
       "      <th>mean</th>\n",
       "      <td>3952.972964</td>\n",
       "      <td>50.258851</td>\n",
       "      <td>127.124429</td>\n",
       "      <td>0.952522</td>\n",
       "      <td>33.875374</td>\n",
       "      <td>10.949232</td>\n",
       "    </tr>\n",
       "    <tr>\n",
       "      <th>std</th>\n",
       "      <td>5780.197485</td>\n",
       "      <td>94.273980</td>\n",
       "      <td>193.648333</td>\n",
       "      <td>1.840408</td>\n",
       "      <td>8.381765</td>\n",
       "      <td>6.488721</td>\n",
       "    </tr>\n",
       "    <tr>\n",
       "      <th>min</th>\n",
       "      <td>0.034000</td>\n",
       "      <td>0.000000</td>\n",
       "      <td>0.026000</td>\n",
       "      <td>0.000000</td>\n",
       "      <td>16.400000</td>\n",
       "      <td>1.144000</td>\n",
       "    </tr>\n",
       "    <tr>\n",
       "      <th>25%</th>\n",
       "      <td>326.763000</td>\n",
       "      <td>3.327000</td>\n",
       "      <td>7.025000</td>\n",
       "      <td>0.050000</td>\n",
       "      <td>27.600000</td>\n",
       "      <td>5.319000</td>\n",
       "    </tr>\n",
       "    <tr>\n",
       "      <th>50%</th>\n",
       "      <td>1775.030000</td>\n",
       "      <td>16.112000</td>\n",
       "      <td>43.302000</td>\n",
       "      <td>0.259000</td>\n",
       "      <td>33.500000</td>\n",
       "      <td>8.552000</td>\n",
       "    </tr>\n",
       "    <tr>\n",
       "      <th>75%</th>\n",
       "      <td>5189.217000</td>\n",
       "      <td>59.441500</td>\n",
       "      <td>144.953500</td>\n",
       "      <td>1.092000</td>\n",
       "      <td>41.800000</td>\n",
       "      <td>16.821000</td>\n",
       "    </tr>\n",
       "    <tr>\n",
       "      <th>max</th>\n",
       "      <td>46213.199000</td>\n",
       "      <td>1393.822000</td>\n",
       "      <td>1069.406000</td>\n",
       "      <td>33.700000</td>\n",
       "      <td>48.200000</td>\n",
       "      <td>27.049000</td>\n",
       "    </tr>\n",
       "  </tbody>\n",
       "</table>\n",
       "</div>"
      ],
      "text/plain": [
       "       total_cases_per_million  new_cases_smoothed_per_million  \\\n",
       "count            105770.000000                   105776.000000   \n",
       "mean               3952.972964                       50.258851   \n",
       "std                5780.197485                       94.273980   \n",
       "min                   0.034000                        0.000000   \n",
       "25%                 326.763000                        3.327000   \n",
       "50%                1775.030000                       16.112000   \n",
       "75%                5189.217000                       59.441500   \n",
       "max               46213.199000                     1393.822000   \n",
       "\n",
       "       total_deaths_per_million  new_deaths_smoothed_per_million  \\\n",
       "count             104183.000000                    105776.000000   \n",
       "mean                 127.124429                         0.952522   \n",
       "std                  193.648333                         1.840408   \n",
       "min                    0.026000                         0.000000   \n",
       "25%                    7.025000                         0.050000   \n",
       "50%                   43.302000                         0.259000   \n",
       "75%                  144.953500                         1.092000   \n",
       "max                 1069.406000                        33.700000   \n",
       "\n",
       "          median_age  aged_65_older  \n",
       "count  106188.000000  105051.000000  \n",
       "mean       33.875374      10.949232  \n",
       "std         8.381765       6.488721  \n",
       "min        16.400000       1.144000  \n",
       "25%        27.600000       5.319000  \n",
       "50%        33.500000       8.552000  \n",
       "75%        41.800000      16.821000  \n",
       "max        48.200000      27.049000  "
      ]
     },
     "execution_count": 10,
     "metadata": {},
     "output_type": "execute_result"
    }
   ],
   "source": [
    "# Make a dataframe for the corona stats data.\n",
    "df_stats = df[[\"total_cases_per_million\",\"new_cases_smoothed_per_million\",\n",
    "               \"total_deaths_per_million\",\"new_deaths_smoothed_per_million\",\n",
    "              \"median_age\",\"aged_65_older\"]]\n",
    "df_stats.describe()"
   ]
  },
  {
   "cell_type": "markdown",
   "metadata": {},
   "source": [
    "The number of new cases and the number of new deaths is below zero, so every row below 0 is excluded."
   ]
  },
  {
   "cell_type": "code",
   "execution_count": 11,
   "metadata": {},
   "outputs": [],
   "source": [
    "df1=df[df[\"new_cases_smoothed_per_million\"] >= 0]\n",
    "df2=df1[df1[\"new_deaths_smoothed_per_million\"] >= 0]"
   ]
  },
  {
   "cell_type": "markdown",
   "metadata": {},
   "source": [
    "### Plotting\n",
    "\n",
    "#### COVID-like-illness\n",
    "As the number of COVID cases and deaths goes up, the number of individuals with COVID-like-illness decreases, which does not make sense. So, COVID-like-illness may not be a helpful variable."
   ]
  },
  {
   "cell_type": "code",
   "execution_count": null,
   "metadata": {},
   "outputs": [],
   "source": [
    "f, axes = plt.subplots(2, 2, figsize=(14,7))\n",
    "sns.set_palette(mono_palette)\n",
    "\n",
    "sns.scatterplot(x=\"smoothed_pct_cli_weighted\", y=\"total_cases_per_million\", data=df2, ax=axes[0][0]);\n",
    "sns.scatterplot(ax=axes[0][0]).set_title('Total cases');\n",
    "sns.scatterplot(x=\"smoothed_pct_cli_weighted\", y=\"new_cases_smoothed_per_million\", data=df2, ax=axes[0][1]);\n",
    "sns.scatterplot(ax=axes[0][1]).set_title('New cases');\n",
    "sns.scatterplot(x=\"smoothed_pct_cli_weighted\", y=\"total_deaths_per_million\", data=df2, ax=axes[1][0]);\n",
    "sns.scatterplot(ax=axes[1][0]).set_title('Total deaths');\n",
    "sns.scatterplot(x=\"smoothed_pct_cli_weighted\", y=\"new_deaths_smoothed_per_million\", data=df2, ax=axes[1][1]);\n",
    "sns.scatterplot(ax=axes[1][1]).set_title('New deaths');\n",
    "\n",
    "plt.tight_layout()"
   ]
  },
  {
   "cell_type": "markdown",
   "metadata": {},
   "source": [
    "#### Wear mask all the time\n",
    "\n",
    "As the number of COVID cases and deaths increase, the number of people wearing masks increases."
   ]
  },
  {
   "cell_type": "code",
   "execution_count": null,
   "metadata": {},
   "outputs": [],
   "source": [
    "f, axes = plt.subplots(2, 2, figsize=(14,7))\n",
    "sns.set_palette(mono_palette)\n",
    "\n",
    "sns.scatterplot(x=\"smoothed_pct_wear_mask_all_time_weighted\", y=\"total_cases_per_million\", data=df2, ax=axes[0][0]);\n",
    "sns.scatterplot(ax=axes[0][0]).set_title('Total cases');\n",
    "sns.scatterplot(x=\"smoothed_pct_wear_mask_all_time_weighted\", y=\"new_cases_smoothed_per_million\", data=df2, ax=axes[0][1]);\n",
    "sns.scatterplot(ax=axes[0][1]).set_title('New cases');\n",
    "sns.scatterplot(x=\"smoothed_pct_wear_mask_all_time_weighted\", y=\"total_deaths_per_million\", data=df2, ax=axes[1][0]);\n",
    "sns.scatterplot(ax=axes[1][0]).set_title('Total deaths');\n",
    "sns.scatterplot(x=\"smoothed_pct_wear_mask_all_time_weighted\", y=\"new_deaths_smoothed_per_million\", data=df2, ax=axes[1][1]);\n",
    "sns.scatterplot(ax=axes[1][1]).set_title('New deaths');\n",
    "\n",
    "plt.tight_layout()"
   ]
  },
  {
   "cell_type": "markdown",
   "metadata": {},
   "source": [
    "#### Social distancing attended public event\n",
    "\n",
    "As the number of COVID cases and deaths increase, the number of people attending a public event decreases."
   ]
  },
  {
   "cell_type": "code",
   "execution_count": null,
   "metadata": {},
   "outputs": [],
   "source": [
    "f, axes = plt.subplots(2, 2, figsize=(14,7))\n",
    "sns.set_palette(mono_palette)\n",
    "\n",
    "sns.scatterplot(x=\"smoothed_pct_attended_public_event_weighted\", y=\"total_cases_per_million\", data=df2, ax=axes[0][0]);\n",
    "sns.scatterplot(ax=axes[0][0]).set_title('Total cases');\n",
    "sns.scatterplot(x=\"smoothed_pct_attended_public_event_weighted\", y=\"new_cases_smoothed_per_million\", data=df2, ax=axes[0][1]);\n",
    "sns.scatterplot(ax=axes[0][1]).set_title('New cases');\n",
    "sns.scatterplot(x=\"smoothed_pct_attended_public_event_weighted\", y=\"total_deaths_per_million\", data=df2, ax=axes[1][0]);\n",
    "sns.scatterplot(ax=axes[1][0]).set_title('Total deaths');\n",
    "sns.scatterplot(x=\"smoothed_pct_attended_public_event_weighted\", y=\"new_deaths_smoothed_per_million\", data=df2, ax=axes[1][1]);\n",
    "sns.scatterplot(ax=axes[1][1]).set_title('New deaths');\n",
    "\n",
    "plt.tight_layout()"
   ]
  },
  {
   "cell_type": "markdown",
   "metadata": {},
   "source": [
    "### Plots for the presentation"
   ]
  },
  {
   "cell_type": "code",
   "execution_count": 12,
   "metadata": {},
   "outputs": [],
   "source": [
    "# Plotting settings\n",
    "plt.style.use('seaborn-talk')\n",
    "slides_palette = [\"#00287f\", \"#00c5ff\"]\n",
    "sns.set_palette(slides_palette)\n",
    "order1 = [\"Germany\", \"Netherlands\"]\n",
    "order2 = [\"Germany\", \"Czech Republic\"]"
   ]
  },
  {
   "cell_type": "markdown",
   "metadata": {},
   "source": [
    "#### Mask wearing"
   ]
  },
  {
   "cell_type": "code",
   "execution_count": 18,
   "metadata": {},
   "outputs": [],
   "source": [
    "# Create a data frame with Netherlands and Germany\n",
    "df_nl_deu = df2[df2['country_agg'].str.contains('|'.join(['Netherlands','Germany']))]\n",
    "df_nl_deu[\"smoothed_pct_wear_mask_all_time_weighted\"] = df_nl_deu[\"smoothed_pct_wear_mask_all_time_weighted\"]/100"
   ]
  },
  {
   "cell_type": "code",
   "execution_count": null,
   "metadata": {},
   "outputs": [],
   "source": [
    "# Plot total cases per million and wearing a mask all the time\n",
    "f, axes = plt.subplots(1, 2, figsize=(15,5))\n",
    "\n",
    "g1 = sns.lineplot(data=df_nl_deu, x=\"date\", y=\"total_cases_per_million\", hue=\"country_agg\", ax=axes[0], hue_order=order1);\n",
    "g1.set_title('COVID-19 total cases per million');\n",
    "g1.set_xlabel('date');\n",
    "g1.set_ylabel('total cases per million');\n",
    "g1.set_ylim(ymin=0,ymax=35000);\n",
    "g1.legend().set_title('')\n",
    "g1.legend(loc='upper left')\n",
    "\n",
    "g2 = sns.lineplot(data=df_nl_deu, x=\"date\", y=\"smoothed_pct_wear_mask_all_time_weighted\", hue=\"country_agg\", legend=False, ax=axes[1], hue_order=order1);\n",
    "g2.set_title('Wearing a mask all the time');\n",
    "g2.set_xlabel('date');\n",
    "g2.set_ylabel('percentile wearing a mask all the time');\n",
    "g2.set_ylim(ymin=0,ymax=1);"
   ]
  },
  {
   "cell_type": "markdown",
   "metadata": {},
   "source": [
    "#### Social distancing"
   ]
  },
  {
   "cell_type": "code",
   "execution_count": 19,
   "metadata": {},
   "outputs": [],
   "source": [
    "# Create a data fram with Czech Republic and Germany\n",
    "df_cze_deu = df2[df2['country_agg'].str.contains('|'.join(['Czech Republic','Germany']))]\n",
    "df_cze_deu[\"smoothed_pct_attended_public_event_weighted\"] = df_cze_deu[\"smoothed_pct_attended_public_event_weighted\"]/100"
   ]
  },
  {
   "cell_type": "code",
   "execution_count": null,
   "metadata": {},
   "outputs": [],
   "source": [
    "# Plot total cases per million and attending public events\n",
    "f, axes = plt.subplots(1, 2, figsize=(15,5))\n",
    "\n",
    "g1 = sns.lineplot(data=df_cze_deu, x=\"date\", y=\"total_cases_per_million\", hue=\"country_agg\", ax=axes[0], hue_order=order2);\n",
    "g1.set_title('COVID-19 total cases per million');\n",
    "g1.set_ylabel('total cases per million');\n",
    "g1.set_ylim(ymin=0,ymax=35000);\n",
    "g1.legend().set_title('')\n",
    "g1.legend(loc='upper left')\n",
    "\n",
    "g2 = sns.lineplot(data=df_cze_deu, x=\"date\", y=\"smoothed_pct_attended_public_event_weighted\", hue=\"country_agg\", legend=False, ax=axes[1], hue_order=order2);\n",
    "g2.set_title('Attending public events');\n",
    "g2.set_ylabel('percentile attending public events');\n",
    "g2.set_ylim(ymin=0,ymax=1);"
   ]
  },
  {
   "cell_type": "markdown",
   "metadata": {},
   "source": [
    "### Combined_plot"
   ]
  },
  {
   "cell_type": "code",
   "execution_count": 24,
   "metadata": {},
   "outputs": [
    {
     "data": {
      "text/plain": [
       "<matplotlib.legend.Legend at 0x7fc1b2381d90>"
      ]
     },
     "execution_count": 24,
     "metadata": {},
     "output_type": "execute_result"
    },
    {
     "data": {
      "image/png": "[encoded data removed]",
      "text/plain": [
       "<Figure size 1080x360 with 2 Axes>"
      ]
     },
     "metadata": {},
     "output_type": "display_data"
    }
   ],
   "source": [
    "# Plotting settings\n",
    "plt.style.use('seaborn-talk')\n",
    "slides_palette_DEU_NLD = [\"#00287f\", \"#00c5ff\"]\n",
    "slides_palette_DEU_CZE = [\"#00287f\", \"#6cf6ea\"]\n",
    "order1 = [\"Germany\", \"Netherlands\"]\n",
    "order2 = [\"Germany\", \"Czech Republic\"]\n",
    "\n",
    "# Plot total cases per million and attending public events\n",
    "f, axes = plt.subplots(1, 2, figsize=(15,5))\n",
    "\n",
    "sns.set_palette(slides_palette_DEU_NLD)\n",
    "g1 = sns.lineplot(data=df_nl_deu, x=\"date\", y=\"smoothed_pct_wear_mask_all_time_weighted\", hue=\"country_agg\", ax=axes[0], hue_order=order1);\n",
    "g1.set_title('Wearing a mask all the time');\n",
    "g1.set_xlabel('date');\n",
    "g1.set_ylabel('percentile wearing a mask all the time');\n",
    "g1.set_ylim(ymin=0,ymax=1);\n",
    "g1.legend().set_title('');\n",
    "g1.legend(loc='upper left');\n",
    "\n",
    "sns.set_palette(slides_palette_DEU_CZE)\n",
    "g2 = sns.lineplot(data=df_cze_deu, x=\"date\", y=\"smoothed_pct_attended_public_event_weighted\", hue=\"country_agg\", ax=axes[1], hue_order=order2);\n",
    "g2.set_title('Attending public events');\n",
    "g2.set_xlabel('date');\n",
    "g2.set_ylabel('percentile attending public events');\n",
    "g2.set_ylim(ymin=0,ymax=1);\n",
    "g2.legend().set_title('');\n",
    "g2.legend(loc='upper left')"
   ]
  },
  {
   "cell_type": "code",
   "execution_count": null,
   "metadata": {},
   "outputs": [],
   "source": []
  }
 ],
 "metadata": {
  "kernelspec": {
   "display_name": "Python [conda env:capstone] *",
   "language": "python",
   "name": "conda-env-capstone-py"
  },
  "language_info": {
   "codemirror_mode": {
    "name": "ipython",
    "version": 3
   },
   "file_extension": ".py",
   "mimetype": "text/x-python",
   "name": "python",
   "nbconvert_exporter": "python",
   "pygments_lexer": "ipython3",
   "version": "3.8.5"
  }
 },
 "nbformat": 4,
 "nbformat_minor": 4
}
