{
 "cells": [
  {
   "cell_type": "markdown",
   "metadata": {},
   "source": [
    "# Full EDA mask wearing\n",
    "\n",
    "The purpose of this EDA is to identify factors that have impact on mask wearing world wide. It is hypothesized that the number of cases with covid-like-illness would correlate with mask wearing."
   ]
  },
  {
   "cell_type": "markdown",
   "metadata": {},
   "source": [
    "## Data preparation\n",
    "\n",
    "### Import libraries"
   ]
  },
  {
   "cell_type": "code",
   "execution_count": null,
   "metadata": {},
   "outputs": [],
   "source": [
    "import pandas as pd\n",
    "import warnings\n",
    "import numpy as np\n",
    "import matplotlib.pyplot as plt\n",
    "%matplotlib inline\n",
    "import seaborn as sns\n",
    "import functions\n",
    "import functions_mask_wearing\n",
    "import get_group\n",
    "\n",
    "warnings.filterwarnings(action='ignore')\n",
    "\n",
    "pd.set_option('display.max_columns', None) # To display all columns\n",
    "\n",
    "sns.set_style(\"whitegrid\")\n",
    "mono_palette = [\"steelblue\"]\n",
    "heatmap_palette = sns.diverging_palette(240, 10, n=9)\n",
    "gender_palette = [\"indianred\", \"steelblue\"]"
   ]
  },
  {
   "cell_type": "markdown",
   "metadata": {},
   "source": [
    "### Read in data"
   ]
  },
  {
   "cell_type": "code",
   "execution_count": null,
   "metadata": {},
   "outputs": [],
   "source": [
    "# Reading in data files from csv into a dictionary of dataframes.\n",
    "dfs_country = functions.get_data(\"data/CMU_Global_data/Full_Survey_Data/country/smooth/\", \"country\")\n",
    "\n",
    "# Concatenating individuals dataframes from the dictionary into one dataframe for regions.\n",
    "countries = pd.concat(dfs_country, ignore_index=True)"
   ]
  },
  {
   "cell_type": "code",
   "execution_count": null,
   "metadata": {},
   "outputs": [],
   "source": [
    "countries[\"country_agg\"].nunique()"
   ]
  },
  {
   "cell_type": "markdown",
   "metadata": {},
   "source": [
    "### Get HDI"
   ]
  },
  {
   "cell_type": "code",
   "execution_count": null,
   "metadata": {},
   "outputs": [],
   "source": [
    "# Getting the dictionaries for the hdi and the hdi-levels.\n",
    "dict_hdi, dict_hdi_levels = functions.get_hdi(\"data\",\"hdro_statistical_data_tables_1_15_d1_d5.xlsx\")\n",
    "\n",
    "# Creating a new column with the hdi and the hdi-levels in the regions dataframe\n",
    "countries = functions.create_hdi_columns(countries, dict_hdi, dict_hdi_levels)"
   ]
  },
  {
   "cell_type": "markdown",
   "metadata": {},
   "source": [
    "### Data cleaning and selection"
   ]
  },
  {
   "cell_type": "code",
   "execution_count": null,
   "metadata": {},
   "outputs": [],
   "source": [
    "df_countries = countries"
   ]
  },
  {
   "cell_type": "code",
   "execution_count": null,
   "metadata": {},
   "outputs": [],
   "source": [
    "print('Columns including the words mask and weighted:')\n",
    "print(df_countries.columns[(df_countries.columns.str.contains(\"mask\") & (df_countries.columns.str.contains(\"weighted\")))])"
   ]
  },
  {
   "cell_type": "code",
   "execution_count": null,
   "metadata": {},
   "outputs": [],
   "source": [
    "# Deal with NaN's in the wearing mask all the time column\n",
    "df_complete = functions_mask_wearing.deal_with_NaNs_masks(df_countries)\n",
    "\n",
    "# Change object into datetime object and create month column\n",
    "df_month = functions.insert_month(df_complete)\n",
    "\n",
    "# Select relevant columns for EDA on mask wearing\n",
    "df_masks = functions_mask_wearing.create_df_masks(df_month)\n",
    "\n",
    "# Delete 'other' and 'overall' in gender column and 'overall' in age bucket\n",
    "df_masks_delete_overall = functions_mask_wearing.delete_overall(df_masks)\n",
    "\n",
    "# Normalize data\n",
    "df_masks_normalized = functions_mask_wearing.normalize_mask_data(df_masks_delete_overall)"
   ]
  },
  {
   "cell_type": "markdown",
   "metadata": {},
   "source": [
    "## Exploring correlations"
   ]
  },
  {
   "cell_type": "code",
   "execution_count": null,
   "metadata": {},
   "outputs": [],
   "source": [
    "# create dummy variables for age and gender\n",
    "dummies = pd.get_dummies(df_masks_normalized[['age_bucket','gender']],drop_first=True)\n",
    "df_heatmap = df_masks_normalized.join(dummies)\n",
    "\n",
    "# delete unused columns for world heatmap.\n",
    "df_heatmap_world = df_heatmap.drop(['date','country_id','country','hdi_level','age_bucket','gender'], axis=1)\n",
    "\n",
    "# prepare continents heatmap and add column 'country_agg' to be able to group by country.\n",
    "df_heatmap_continents = df_heatmap\n",
    "df_heatmap_continents[\"country_agg\"] = df_heatmap_continents[\"country\"]"
   ]
  },
  {
   "cell_type": "markdown",
   "metadata": {},
   "source": [
    "### World\n",
    "\n",
    "Interesting correlations with mask wearing:\n",
    "\n",
    "* wear mask none time and hdi\n",
    "* wear mask half time and gender"
   ]
  },
  {
   "cell_type": "code",
   "execution_count": null,
   "metadata": {},
   "outputs": [],
   "source": [
    "corr_world = df_heatmap_world.corr()\n",
    "mask_world = np.triu(np.ones_like(corr_world, dtype=bool))\n",
    "sns.heatmap(corr_world, mask=mask_world, cmap=heatmap_palette);"
   ]
  },
  {
   "cell_type": "markdown",
   "metadata": {},
   "source": [
    "### Asia\n",
    "\n",
    "Interesting correlations with mask wearing:\n",
    "\n",
    "* mask wearing all/none time and hdi\n",
    "* wear mask most/half/some time and gender\n",
    "* wear mask some/none time and covid like illness"
   ]
  },
  {
   "cell_type": "code",
   "execution_count": null,
   "metadata": {},
   "outputs": [],
   "source": [
    "asia = get_group.group_asia(df_heatmap_continents)\n",
    "df_asia = pd.concat(asia, ignore_index=True)\n",
    "df_heatmap_asia = df_asia.drop(['date','country_id','country','hdi_level','age_bucket','gender','country_agg'], axis=1)\n",
    "corr_asia = df_heatmap_asia.corr()\n",
    "mask_asia = np.triu(np.ones_like(corr_asia, dtype=bool))\n",
    "sns.heatmap(corr_asia, mask=mask_asia, cmap=heatmap_palette);"
   ]
  },
  {
   "cell_type": "markdown",
   "metadata": {},
   "source": [
    "### Oceania\n",
    "\n",
    "Interesting correlations with mask wearing:\n",
    "\n",
    "* wear mask all/most/half/some time and month\n",
    "* wear mask all time and hdi"
   ]
  },
  {
   "cell_type": "code",
   "execution_count": null,
   "metadata": {},
   "outputs": [],
   "source": [
    "df_oceania = get_group.group_oceania(df_heatmap_continents)\n",
    "df_heatmap_oceania = df_oceania.drop(['date','country_id','country','hdi_level','age_bucket','gender','country_agg'], axis=1)\n",
    "corr_oceania = df_heatmap_oceania.corr()\n",
    "mask_oceania = np.triu(np.ones_like(corr_oceania, dtype=bool))\n",
    "sns.heatmap(corr_oceania,mask=mask_oceania,cmap=heatmap_palette);"
   ]
  },
  {
   "cell_type": "markdown",
   "metadata": {},
   "source": [
    "### Europe\n",
    "\n",
    "Interesting correlations with mask wearing:\n",
    "\n",
    "* wear mask all/none time and hdi\n",
    "* wear mask most time and month\n",
    "* wear mask half/some time and gender"
   ]
  },
  {
   "cell_type": "code",
   "execution_count": null,
   "metadata": {},
   "outputs": [],
   "source": [
    "europe = get_group.group_europe(df_heatmap_continents)\n",
    "df_europe = pd.concat(europe, ignore_index=True)\n",
    "df_heatmap_europe = df_europe.drop(['date','country_id','country','hdi_level','age_bucket','gender','country_agg'], axis=1)\n",
    "corr_europe = df_heatmap_europe.corr()\n",
    "mask_europe = np.triu(np.ones_like(corr_europe, dtype=bool))\n",
    "sns.heatmap(corr_europe, mask=mask_europe, cmap=heatmap_palette);"
   ]
  },
  {
   "cell_type": "markdown",
   "metadata": {},
   "source": [
    "### Africa\n",
    "\n",
    "Interesting correlations with mask wearing:\n",
    "\n",
    "* wear mask most/half time and month\n",
    "* wear mask most/half/some time and gender"
   ]
  },
  {
   "cell_type": "code",
   "execution_count": null,
   "metadata": {},
   "outputs": [],
   "source": [
    "africa = get_group.group_africa(df_heatmap_continents)\n",
    "df_africa = pd.concat(africa, ignore_index=True)\n",
    "df_heatmap_africa = df_africa.drop(['date','country_id','country','hdi_level','age_bucket','gender','country_agg'], axis=1)\n",
    "corr_africa = df_heatmap_africa.corr()\n",
    "mask_africa = np.triu(np.ones_like(corr_africa, dtype=bool))\n",
    "sns.heatmap(corr_africa, mask=mask_africa, cmap=heatmap_palette);"
   ]
  },
  {
   "cell_type": "markdown",
   "metadata": {},
   "source": [
    "### America\n",
    "\n",
    "Interesting correlations with mask wearing:\n",
    "\n",
    "* wear mask all time and month\n",
    "* wear mask most time and gender"
   ]
  },
  {
   "cell_type": "code",
   "execution_count": null,
   "metadata": {},
   "outputs": [],
   "source": [
    "america = get_group.group_americas(df_heatmap_continents)\n",
    "df_america = pd.concat(america, ignore_index=True)\n",
    "df_heatmap_america = df_america.drop(['date','country_id','country','hdi_level','age_bucket','gender','country_agg'], axis=1)\n",
    "corr_america = df_heatmap_america.corr()\n",
    "mask_america = np.triu(np.ones_like(corr_america, dtype=bool))\n",
    "sns.heatmap(corr_america, mask=mask_america, cmap=heatmap_palette);"
   ]
  },
  {
   "cell_type": "markdown",
   "metadata": {},
   "source": [
    "## Conclusion\n",
    "* There does not seem to be a clear interaction between mask wearing and the prevalence of individuals with covid-like-illness.\n",
    "* Mask wearing interacts with hdi, month and gender, which we will focus on in the next section."
   ]
  },
  {
   "cell_type": "markdown",
   "metadata": {},
   "source": [
    "## Visualizing correlations\n",
    "\n",
    "### Mask wearing and HDI"
   ]
  },
  {
   "cell_type": "markdown",
   "metadata": {},
   "source": [
    "The **scatterplots** below show:\n",
    "\n",
    "1) in Asia, the higher the HDI, the more people wear a mask all the time and vice versa.\n",
    "\n",
    "2) in Europe, the higher the HDI, the fewer people wear a mask all the time and vice versa.\n",
    "\n",
    "3) in Oceania, the difference between Australia and New Zealand is not large in HDI, so there on cannot measure an effect of HDI.\n",
    "\n",
    "4) world wide, more people wear a mask none of the time in countries with a hdi below 0.55 and above 0.9."
   ]
  },
  {
   "cell_type": "code",
   "execution_count": null,
   "metadata": {},
   "outputs": [],
   "source": [
    "f, axes = plt.subplots(2, 3, figsize=(15,10), sharex=True, sharey=True)\n",
    "sns.set_palette(mono_palette)\n",
    "\n",
    "sns.scatterplot(x=\"hdi\", y=\"pct_wear_mask_all_time\", data=df_heatmap_asia, ax=axes[0][0]);\n",
    "sns.scatterplot(ax=axes[0][0]).set_title('Asia: all time')\n",
    "sns.scatterplot(x=\"hdi\", y=\"pct_wear_mask_all_time\", data=df_heatmap_europe, ax=axes[0][1]);\n",
    "sns.scatterplot(ax=axes[0][1]).set_title('Europe: all time')\n",
    "sns.scatterplot(x=\"hdi\", y=\"pct_wear_mask_all_time\", data=df_heatmap_oceania, ax=axes[0][2]);\n",
    "sns.scatterplot(ax=axes[0][2]).set_title('Oceania: all time')\n",
    "\n",
    "\n",
    "sns.scatterplot(x=\"hdi\", y=\"pct_wear_mask_none_time\", data=df_heatmap_asia, ax=axes[1][0]);\n",
    "sns.scatterplot(ax=axes[1][0]).set_title('Asia: none time')\n",
    "sns.scatterplot(x=\"hdi\", y=\"pct_wear_mask_none_time\", data=df_heatmap_europe, ax=axes[1][1]);\n",
    "sns.scatterplot(ax=axes[1][1]).set_title('Europe: none time')\n",
    "sns.scatterplot(x=\"hdi\", y=\"pct_wear_mask_none_time\", data=df_heatmap_world, ax=axes[1][2]);\n",
    "sns.scatterplot(ax=axes[1][2]).set_title('World: none time')\n",
    "\n",
    "plt.tight_layout()"
   ]
  },
  {
   "cell_type": "markdown",
   "metadata": {},
   "source": [
    "### Mask wearing and month\n",
    "\n",
    "The **scatterplots** below show that:\n",
    "\n",
    "1) In America, the number of people wearing a mask all the time slightly increased over the months.\n",
    "\n",
    "2) In Oceania, mask wearing highly fluctuated throughout the months.\n",
    "\n",
    "3) In Africa, there was a peak of mask wearing most of the time and half the time during their winter.\n",
    "\n",
    "4) In Europe, the number of people wearing masks most of the time strongly increased over the months."
   ]
  },
  {
   "cell_type": "code",
   "execution_count": null,
   "metadata": {},
   "outputs": [],
   "source": [
    "f, axes = plt.subplots(2, 4, figsize=(14,7), sharex=True, sharey=True)\n",
    "sns.set_palette(mono_palette)\n",
    "\n",
    "sns.scatterplot(x=\"month\", y=\"pct_wear_mask_all_time\", data=df_heatmap_america, ax=axes[0][0]);\n",
    "sns.scatterplot(ax=axes[0][0]).set_title('America: all time')\n",
    "sns.scatterplot(x=\"month\", y=\"pct_wear_mask_all_time\", data=df_heatmap_oceania, ax=axes[0][1]);\n",
    "sns.scatterplot(ax=axes[0][1]).set_title('Oceania: all time')\n",
    "sns.scatterplot(x=\"month\", y=\"pct_wear_mask_most_time\", data=df_heatmap_africa, ax=axes[0][2]);\n",
    "sns.scatterplot(ax=axes[0][2]).set_title('Africa: most time')\n",
    "sns.scatterplot(x=\"month\", y=\"pct_wear_mask_most_time\", data=df_heatmap_europe, ax=axes[0][3]);\n",
    "sns.scatterplot(ax=axes[0][3]).set_title('Europe: most time')\n",
    "\n",
    "\n",
    "sns.scatterplot(x=\"month\", y=\"pct_wear_mask_most_time\", data=df_heatmap_oceania, ax=axes[1][0]);\n",
    "sns.scatterplot(ax=axes[1][0]).set_title('Oceania: most time')\n",
    "sns.scatterplot(x=\"month\", y=\"pct_wear_mask_half_time\", data=df_heatmap_africa, ax=axes[1][1]);\n",
    "sns.scatterplot(ax=axes[1][1]).set_title('Africa: half time')\n",
    "sns.scatterplot(x=\"month\", y=\"pct_wear_mask_half_time\", data=df_heatmap_oceania, ax=axes[1][2]);\n",
    "sns.scatterplot(ax=axes[1][2]).set_title('Oceania: half time')\n",
    "sns.scatterplot(x=\"month\", y=\"pct_wear_mask_some_time\", data=df_heatmap_oceania, ax=axes[1][3]);\n",
    "sns.scatterplot(ax=axes[1][3]).set_title('Oceania: some time')\n",
    "\n",
    "plt.tight_layout()"
   ]
  },
  {
   "cell_type": "markdown",
   "metadata": {},
   "source": [
    "### Mask wearing and gender"
   ]
  },
  {
   "cell_type": "markdown",
   "metadata": {},
   "source": [
    "The **boxplots** below show that:\n",
    "\n",
    "1) in Africa, America and Asia more men than women wear a mask most of the time.\n",
    "\n",
    "2) in Africa, Asia, Europe and in countries world-wide more men than women wear a mask half of the time.\n",
    "\n",
    "3) in Africa, Asia and Europe more men than women wear a mask some of the time."
   ]
  },
  {
   "cell_type": "code",
   "execution_count": null,
   "metadata": {},
   "outputs": [],
   "source": [
    "f, axes = plt.subplots(2, 5, figsize=(14,7), sharex=True, sharey=True)\n",
    "sns.set_palette(gender_palette)\n",
    "\n",
    "sns.boxplot(x=\"gender_male\", y=\"pct_wear_mask_most_time\",data=df_heatmap_africa, ax=axes[0][0]);\n",
    "sns.scatterplot(ax=axes[0][0]).set_title('Africa: most time')\n",
    "sns.boxplot(x=\"gender_male\", y=\"pct_wear_mask_most_time\",data=df_heatmap_america, ax=axes[0][1]);\n",
    "sns.scatterplot(ax=axes[0][1]).set_title('America: most time')\n",
    "sns.boxplot(x=\"gender_male\", y=\"pct_wear_mask_most_time\",data=df_heatmap_asia, ax=axes[0][2]);\n",
    "sns.scatterplot(ax=axes[0][2]).set_title('Asia: most time')\n",
    "sns.boxplot(x=\"gender_male\", y=\"pct_wear_mask_half_time\",data=df_heatmap_africa, ax=axes[0][3]);\n",
    "sns.scatterplot(ax=axes[0][3]).set_title('Africa: half time')\n",
    "sns.boxplot(x=\"gender_male\", y=\"pct_wear_mask_half_time\",data=df_heatmap_asia, ax=axes[0][4]);\n",
    "sns.scatterplot(ax=axes[0][4]).set_title('Asia: half time')\n",
    "\n",
    "sns.boxplot(x=\"gender_male\", y=\"pct_wear_mask_half_time\",data=df_heatmap_europe, ax=axes[1][0]);\n",
    "sns.scatterplot(ax=axes[1][0]).set_title('Europe: half time')\n",
    "sns.boxplot(x=\"gender_male\", y=\"pct_wear_mask_half_time\",data=df_heatmap_world, ax=axes[1][1]);\n",
    "sns.scatterplot(ax=axes[1][1]).set_title('World: half time')\n",
    "sns.boxplot(x=\"gender_male\", y=\"pct_wear_mask_some_time\",data=df_heatmap_africa, ax=axes[1][2]);\n",
    "sns.scatterplot(ax=axes[1][2]).set_title('Africa: some time')\n",
    "sns.boxplot(x=\"gender_male\", y=\"pct_wear_mask_some_time\",data=df_heatmap_asia, ax=axes[1][3]);\n",
    "sns.scatterplot(ax=axes[1][3]).set_title('Asia: some time')\n",
    "sns.boxplot(x=\"gender_male\", y=\"pct_wear_mask_some_time\",data=df_heatmap_europe, ax=axes[1][4]);\n",
    "sns.scatterplot(ax=axes[1][4]).set_title('Europe: some time')\n",
    "\n",
    "plt.tight_layout()"
   ]
  },
  {
   "cell_type": "markdown",
   "metadata": {},
   "source": [
    "### Mask wearing and covid-like-illness\n",
    "\n",
    "The **scatterplots** below show that as the number of people with covid-like-illness in Asia increases, the number of people wearing a mask some time of none of the time in Asia decreases. They are likely to increase their mask wearing."
   ]
  },
  {
   "cell_type": "code",
   "execution_count": null,
   "metadata": {},
   "outputs": [],
   "source": [
    "f, axes = plt.subplots(1,2, figsize=(10,5), sharex=True, sharey=True)\n",
    "sns.set_palette(mono_palette)\n",
    "\n",
    "sns.scatterplot(x=\"pct_covid_like_illness\", y=\"pct_wear_mask_some_time\", data=df_heatmap_asia, ax=axes[0]);\n",
    "sns.scatterplot(ax=axes[0]).set_title('Asia: some time')\n",
    "\n",
    "sns.scatterplot(x=\"pct_covid_like_illness\", y=\"pct_wear_mask_none_time\", data=df_heatmap_asia, ax=axes[1]);\n",
    "sns.scatterplot(ax=axes[1]).set_title('Asia: none time')\n",
    "\n",
    "plt.tight_layout()"
   ]
  },
  {
   "cell_type": "markdown",
   "metadata": {},
   "source": [
    "## Conclusion\n",
    "\n",
    "The impact of HDI and month on mask wearing differs among countries, but the effect of gender shows the same impact on mask wearing in all countries. These three variables should be included in our model."
   ]
  },
  {
   "cell_type": "code",
   "execution_count": null,
   "metadata": {},
   "outputs": [],
   "source": []
  }
 ],
 "metadata": {
  "kernelspec": {
   "display_name": "Python [conda env:capstone] *",
   "language": "python",
   "name": "conda-env-capstone-py"
  },
  "language_info": {
   "codemirror_mode": {
    "name": "ipython",
    "version": 3
   },
   "file_extension": ".py",
   "mimetype": "text/x-python",
   "name": "python",
   "nbconvert_exporter": "python",
   "pygments_lexer": "ipython3",
   "version": "3.8.5"
  }
 },
 "nbformat": 4,
 "nbformat_minor": 4
}
