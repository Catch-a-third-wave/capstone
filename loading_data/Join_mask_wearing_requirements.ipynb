{
 "cells": [
  {
   "cell_type": "markdown",
   "metadata": {},
   "source": [
    "# Joining mask wearing requirements with survey data"
   ]
  },
  {
   "cell_type": "markdown",
   "metadata": {},
   "source": [
    "Data source: https://masks4all.co/what-countries-require-masks-in-public/ \n",
    "\n",
    "Data downloaded on 3/12/2020 at 10:57."
   ]
  },
  {
   "cell_type": "code",
   "execution_count": null,
   "metadata": {},
   "outputs": [],
   "source": [
    "import sys\n",
    "sys.path.insert(1, '/Users/jakoliendenhollander/capstone/capstone')\n",
    "\n",
    "import pandas as pd\n",
    "import warnings\n",
    "import functions.functions_data\n",
    "\n",
    "warnings.filterwarnings(action='ignore')\n",
    "pd.set_option('display.max_columns', None) # To display all columns"
   ]
  },
  {
   "cell_type": "markdown",
   "metadata": {},
   "source": [
    "## Read in data"
   ]
  },
  {
   "cell_type": "code",
   "execution_count": null,
   "metadata": {},
   "outputs": [],
   "source": [
    "mask_wearing_requirements = pd.read_csv(\"/Users/jakoliendenhollander/capstone/capstone/data/data-nbhtq.csv\")"
   ]
  },
  {
   "cell_type": "code",
   "execution_count": null,
   "metadata": {},
   "outputs": [],
   "source": [
    "# Reading in survey data from csv into a dictionary of dataframes.\n",
    "dfs_country = functions.functions_data.get_data(\"/Users/jakoliendenhollander/capstone/capstone/data/CMU_Global_data/Full_Survey_Data/country/smooth/\", \"country\")\n",
    "\n",
    "# Concatenating individuals dataframes from the dictionary into one dataframe for regions.\n",
    "survey_data = pd.concat(dfs_country, ignore_index=True)"
   ]
  },
  {
   "cell_type": "markdown",
   "metadata": {},
   "source": [
    "## Data cleaning"
   ]
  },
  {
   "cell_type": "code",
   "execution_count": null,
   "metadata": {},
   "outputs": [],
   "source": [
    "# Drop columns GDP and Population\n",
    "mask_wearing_requirements.drop(columns=[\"GDP (2018 in Millions)\",\"Population\"], axis=1, inplace=True)\n",
    "\n",
    "# Rename columns\n",
    "mask_wearing_requirements.rename(columns={\"Country\": \"country\",\n",
    "                                          \"Masks Required? (At Least In Businesses)\": \"required\",\n",
    "                                          \"Type of Requirement?\": \"requirement_type\",\n",
    "                                          \"Date of Full Country Requirement\": \"mask_requirement_date\",\n",
    "                                          \"Recommend To Wear Masks?\": \"mask_recommended\"}, inplace=True)"
   ]
  },
  {
   "cell_type": "markdown",
   "metadata": {},
   "source": [
    "### Extract country name"
   ]
  },
  {
   "cell_type": "code",
   "execution_count": null,
   "metadata": {},
   "outputs": [],
   "source": [
    "# Extract country name between brackets in first column\n",
    "location = []\n",
    "for i in range(len(mask_wearing_requirements)):\n",
    "    country_name = mask_wearing_requirements.at[mask_wearing_requirements.index[i],\"country\"].split('[', 1)[1].split(']')[0]\n",
    "    location.append(country_name)\n",
    "mask_wearing_requirements[\"country\"] = location"
   ]
  },
  {
   "cell_type": "markdown",
   "metadata": {},
   "source": [
    "### Create dummy variables for required column"
   ]
  },
  {
   "cell_type": "code",
   "execution_count": null,
   "metadata": {},
   "outputs": [],
   "source": [
    "# add observations of yes public transport to full country\n",
    "mask_wearing_requirements[\"required\"].replace(\"Yes (Public Transport)\", \"Full Country\", inplace=True)\n",
    "\n",
    "# Make dummy variables out of the required column\n",
    "dummies = pd.get_dummies(mask_wearing_requirements['required'])\n",
    "mask_wearing_requirements = mask_wearing_requirements.join(dummies)\n",
    "\n",
    "# Rename dummy variables\n",
    "mask_wearing_requirements.rename(columns={\"Full Country\": \"mask_required_full_country\",\n",
    "                                          \"No\": \"mask_not_required\",\n",
    "                                          \"No, But Recommends Masks\": \"mask_not_required_recommended\",\n",
    "                                          \"No, But Universal Mask Usage\": \"mask_not_required_universal\",\n",
    "                                          \"Parts of Country\": \"mask_required_part_country\"}, inplace=True)"
   ]
  },
  {
   "cell_type": "markdown",
   "metadata": {},
   "source": [
    "### Create variables for requirement_type column"
   ]
  },
  {
   "cell_type": "code",
   "execution_count": null,
   "metadata": {},
   "outputs": [],
   "source": [
    "# Make content of requirement_type column lower case\n",
    "mask_wearing_requirements[\"requirement_type\"] = mask_wearing_requirements[\"requirement_type\"].str.lower()"
   ]
  },
  {
   "cell_type": "code",
   "execution_count": null,
   "metadata": {},
   "outputs": [],
   "source": [
    "# Create everywhere in public dummy variable\n",
    "everywhere_in_public = []\n",
    "everywhere = [\n",
    "    \"everywhere in public\",\n",
    "    \"everywhere in public where social distancing isn't possible\",\n",
    "    \"public transport + everywhere in public with more than 10 people\",\n",
    "    \"public transport + select states: everywhere\",\n",
    "    \"all crowded places + universal mask usage\",\n",
    "    \"all indoor public places + outdoor within 20 meters of others\",\n",
    "    \"public transport + everywhere in public where social distancing isn't possible\",\n",
    "    \"public transport, markets, supermarkets & crowded places\",\n",
    "    \"everywhere in public (major cities)\"\n",
    "    ]\n",
    "\n",
    "for j in range(len(mask_wearing_requirements)):\n",
    "    if mask_wearing_requirements.at[mask_wearing_requirements.index[j],\"requirement_type\"] in everywhere:\n",
    "        everywhere_in_public.append(1)\n",
    "    else:\n",
    "        everywhere_in_public.append(0)\n",
    "\n",
    "mask_wearing_requirements[\"mask_everywhere_in_public\"] = everywhere_in_public"
   ]
  },
  {
   "cell_type": "code",
   "execution_count": null,
   "metadata": {},
   "outputs": [],
   "source": [
    "# Create public indoors variable\n",
    "public_indoors = []\n",
    "indoors = [\n",
    "    \"all indoor public places\",\n",
    "    \"public transport & stores\",\n",
    "    \"all indoor public places with multiple people\",\n",
    "    \"public transport + shops\",\n",
    "    \"all commercial establishments\",\n",
    "    \"public transport & shopping\",\n",
    "    \"supermarkets, banks & some indoor spaces\",\n",
    "    \"public roads & business employees\",\n",
    "    \"public transport + shopping\",\n",
    "    \"public transport + markets + most public places\",\n",
    "    \"public transportation, medical facilities, shops, and malls\",\n",
    "    \"certain public places\",\n",
    "    \"public transit, shops, and supermarkets\",\n",
    "    \"all indoor public places + outdoor within 20 meters of others\",\n",
    "    \"public transit, cinemas, churches, theaters, banks, and restaurants\",\n",
    "    \"public transport, markets, supermarkets & crowded places\"\n",
    "    ]\n",
    "\n",
    "for j in range(len(mask_wearing_requirements)):\n",
    "    if mask_wearing_requirements.at[mask_wearing_requirements.index[j],\"requirement_type\"] in indoors:\n",
    "        public_indoors.append(1)\n",
    "    else:\n",
    "        public_indoors.append(0)\n",
    "        \n",
    "mask_wearing_requirements[\"mask_public_indoors\"] = public_indoors"
   ]
  },
  {
   "cell_type": "code",
   "execution_count": null,
   "metadata": {},
   "outputs": [],
   "source": [
    "# create public transport variable\n",
    "public_transport = []\n",
    "transport= [\n",
    "    \"public transport\",\n",
    "    \"public transport & stores\",\n",
    "    \"public transport + shops\",\n",
    "    \"public transport & shopping\",\n",
    "    \"public roads & business employees\",\n",
    "    \"public transport + shoppingpublic transport + markets + most public places\",\n",
    "    \"public transportation, medical facilities, shops, and malls\",\n",
    "    \"public transport + everywhere in public with more than 10 people\",\n",
    "    \"public transit, shops, and supermarkets\",\n",
    "    \"public transport + select states: everywhere\",\n",
    "    \"public transit, cinemas, churches, theaters, banks, and restaurants\",\n",
    "    \"public transport + everywhere in public where social distancing isn't possible\",\n",
    "    \"public buses & at airports\",\n",
    "    \"public transport, markets, supermarkets & crowded places\"\n",
    "    ]\n",
    "\n",
    "for j in range(len(mask_wearing_requirements)):\n",
    "    if mask_wearing_requirements.at[mask_wearing_requirements.index[j],\"requirement_type\"] in transport:\n",
    "        public_transport.append(1)\n",
    "    else:\n",
    "        public_transport.append(0)\n",
    "        \n",
    "mask_wearing_requirements[\"mask_public_transport\"] = public_transport"
   ]
  },
  {
   "cell_type": "code",
   "execution_count": null,
   "metadata": {},
   "outputs": [],
   "source": [
    "# Drop required and requirement_type columns\n",
    "mask_wearing_requirements.drop(columns=[\"required\",\"requirement_type\"], axis=1, inplace=True)"
   ]
  },
  {
   "cell_type": "code",
   "execution_count": null,
   "metadata": {},
   "outputs": [],
   "source": [
    "mask_wearing_requirements.head()"
   ]
  },
  {
   "cell_type": "markdown",
   "metadata": {},
   "source": [
    "## Selecting data"
   ]
  },
  {
   "cell_type": "code",
   "execution_count": null,
   "metadata": {},
   "outputs": [],
   "source": [
    "# Check differences in included countries between covid cases and survey data\n",
    "unique_countries = set(survey_data[\"country_agg\"]).symmetric_difference(set(mask_wearing_requirements[\"country\"]))\n",
    "unique_countries_survey = set(survey_data[\"country_agg\"]).intersection(unique_countries)\n",
    "unique_countries_masks = set(mask_wearing_requirements[\"country\"]).intersection(unique_countries)\n",
    "print('The following countries occur only in the survey data:')\n",
    "print(unique_countries_survey)\n",
    "print('The following countries occur only in the requirements data:')\n",
    "print(unique_countries_masks)"
   ]
  },
  {
   "cell_type": "code",
   "execution_count": null,
   "metadata": {},
   "outputs": [],
   "source": [
    "# Change country names in mask wearing set to make them match to the survey data set\n",
    "mask_wearing_requirements[\"country\"].replace({\"Antigua and Barbuda\": \"Antigua\", \n",
    "                                              \"Myanmar (formerly Burma)\": \"Myanmar\",\n",
    "                                              \"Czechia (Czech Republic)\": \"Czech Republic\",\n",
    "                                              \"Palestine State\": \"Palestine\"}, inplace=True)\n",
    "\n",
    "# Check differences in included countries between covid cases and survey data\n",
    "unique_countries2 = set(survey_data[\"country_agg\"]).symmetric_difference(set(mask_wearing_requirements[\"country\"]))\n",
    "unique_countries_masks2 = set(mask_wearing_requirements[\"country\"]).intersection(unique_countries2)"
   ]
  },
  {
   "cell_type": "code",
   "execution_count": null,
   "metadata": {},
   "outputs": [],
   "source": [
    "# Delete rows of countries that only occur in one data set\n",
    "df_survey = survey_data[~survey_data['country_agg'].isin(unique_countries_survey)]\n",
    "df_masks = mask_wearing_requirements[~mask_wearing_requirements['country'].isin(unique_countries_masks2)]\n",
    "\n",
    "# Check whether it worked\n",
    "print('Difference:',set(df_survey[\"country_agg\"]).symmetric_difference(set(df_masks[\"country\"])))"
   ]
  },
  {
   "cell_type": "code",
   "execution_count": null,
   "metadata": {},
   "outputs": [],
   "source": [
    "# Rename country column\n",
    "df_masks.rename(columns={\"country\":\"country_agg\"}, inplace=True)"
   ]
  },
  {
   "cell_type": "markdown",
   "metadata": {},
   "source": [
    "## Join datasets on country"
   ]
  },
  {
   "cell_type": "code",
   "execution_count": null,
   "metadata": {},
   "outputs": [],
   "source": [
    "# Join datasets on iso_code and date\n",
    "df_combined = pd.merge(df_survey,df_masks,on=[\"country_agg\"])"
   ]
  },
  {
   "cell_type": "code",
   "execution_count": null,
   "metadata": {},
   "outputs": [],
   "source": [
    "df_combined.head()"
   ]
  },
  {
   "cell_type": "code",
   "execution_count": null,
   "metadata": {},
   "outputs": [],
   "source": []
  }
 ],
 "metadata": {
  "kernelspec": {
   "display_name": "Python [conda env:capstone] *",
   "language": "python",
   "name": "conda-env-capstone-py"
  },
  "language_info": {
   "codemirror_mode": {
    "name": "ipython",
    "version": 3
   },
   "file_extension": ".py",
   "mimetype": "text/x-python",
   "name": "python",
   "nbconvert_exporter": "python",
   "pygments_lexer": "ipython3",
   "version": "3.8.5"
  }
 },
 "nbformat": 4,
 "nbformat_minor": 4
}
