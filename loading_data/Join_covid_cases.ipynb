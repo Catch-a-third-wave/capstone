{
 "cells": [
  {
   "cell_type": "markdown",
   "metadata": {},
   "source": [
    "# Joining global COVID-19 statistics with survey data"
   ]
  },
  {
   "cell_type": "markdown",
   "metadata": {},
   "source": [
    "Data source: https://github.com/owid/covid-19-data/tree/master/public/data/  \n",
    "For detailed information of the data see the README.md file  \n",
    "Data downloaded on 24/11/2020 at 09:37 (last update of dataset when downloaded 2020-11-23T14:22:31)"
   ]
  },
  {
   "cell_type": "code",
   "execution_count": null,
   "metadata": {},
   "outputs": [],
   "source": [
    "import pandas as pd\n",
    "import warnings\n",
    "import functions.functions_data\n",
    "\n",
    "warnings.filterwarnings(action='ignore')\n",
    "pd.set_option('display.max_columns', None) # To display all columns"
   ]
  },
  {
   "cell_type": "markdown",
   "metadata": {},
   "source": [
    "### Read in data"
   ]
  },
  {
   "cell_type": "code",
   "execution_count": null,
   "metadata": {},
   "outputs": [],
   "source": [
    "covid_cases = pd.read_csv(\"data/Corona_stats/owid-covid-data.csv\")"
   ]
  },
  {
   "cell_type": "code",
   "execution_count": null,
   "metadata": {},
   "outputs": [],
   "source": [
    "# Reading in survey data from csv into a dictionary of dataframes.\n",
    "dfs_country = functions.functions_data.get_data(\"data/CMU_Global_data/Full_Survey_Data/country/smooth/\", \"country\")\n",
    "\n",
    "# Concatenating individuals dataframes from the dictionary into one dataframe for regions.\n",
    "survey_data = pd.concat(dfs_country, ignore_index=True)"
   ]
  },
  {
   "cell_type": "code",
   "execution_count": null,
   "metadata": {},
   "outputs": [],
   "source": [
    "covid_cases[covid_cases[\"location\"] == \"Germany\"].tail()"
   ]
  },
  {
   "cell_type": "markdown",
   "metadata": {},
   "source": [
    "## Selecting data"
   ]
  },
  {
   "cell_type": "code",
   "execution_count": null,
   "metadata": {},
   "outputs": [],
   "source": [
    "# Select columns in covid cases data\n",
    "df_cases = covid_cases[[\"iso_code\",\"date\",\"total_cases_per_million\",\"new_cases_smoothed_per_million\",\n",
    "                       \"total_deaths_per_million\",\"new_deaths_smoothed_per_million\",\"median_age\",\"aged_65_older\"]]"
   ]
  },
  {
   "cell_type": "markdown",
   "metadata": {},
   "source": [
    "### Countries"
   ]
  },
  {
   "cell_type": "code",
   "execution_count": null,
   "metadata": {},
   "outputs": [],
   "source": [
    "# Rename 'GID_0' as 'iso_code' in survey data\n",
    "survey_data['iso_code']=survey_data['GID_0']\n",
    "survey_data.drop(columns='GID_0', axis=1, inplace=True)\n",
    "\n",
    "# Check differences in included countries between covid cases and survey data\n",
    "unique_countries = set(survey_data[\"iso_code\"]).symmetric_difference(set(df_cases[\"iso_code\"]))\n",
    "unique_countries_survey = set(survey_data[\"iso_code\"]).intersection(unique_countries)\n",
    "unique_countries_cases = set(df_cases[\"iso_code\"]).intersection(unique_countries)\n",
    "print('The following countries occur only in the survey data:')\n",
    "print(unique_countries_survey)\n",
    "print('The following countries occur only in the cases data:')\n",
    "print(unique_countries_cases)"
   ]
  },
  {
   "cell_type": "code",
   "execution_count": null,
   "metadata": {},
   "outputs": [],
   "source": [
    "# Delete rows of countries that only occur in one data set\n",
    "df_survey = survey_data[~survey_data['iso_code'].isin(unique_countries_survey)]\n",
    "df_covid_cases = df_cases[~df_cases['iso_code'].isin(unique_countries_cases)]\n",
    "\n",
    "#Check whether it worked\n",
    "print('Difference:',set(df_survey[\"iso_code\"]).symmetric_difference(set(df_covid_cases[\"iso_code\"])))"
   ]
  },
  {
   "cell_type": "markdown",
   "metadata": {},
   "source": [
    "### Dates"
   ]
  },
  {
   "cell_type": "code",
   "execution_count": null,
   "metadata": {},
   "outputs": [],
   "source": [
    "# Delete rows of dates in covid_cases that are before and after the survey dates\n",
    "df_covid = df_covid_cases[df_covid_cases['date'].isin(df_survey['date'])]"
   ]
  },
  {
   "cell_type": "markdown",
   "metadata": {},
   "source": [
    "## Join datasets on iso code and date"
   ]
  },
  {
   "cell_type": "code",
   "execution_count": null,
   "metadata": {},
   "outputs": [],
   "source": [
    "# Join datasets on iso_code and date\n",
    "df_combined = pd.merge(df_survey,df_covid,on=[\"iso_code\",\"date\"])"
   ]
  },
  {
   "cell_type": "code",
   "execution_count": null,
   "metadata": {},
   "outputs": [],
   "source": [
    "df_combined.head()"
   ]
  },
  {
   "cell_type": "code",
   "execution_count": null,
   "metadata": {},
   "outputs": [],
   "source": []
  }
 ],
 "metadata": {
  "kernelspec": {
   "display_name": "Python [conda env:capstone] *",
   "language": "python",
   "name": "conda-env-capstone-py"
  },
  "language_info": {
   "codemirror_mode": {
    "name": "ipython",
    "version": 3
   },
   "file_extension": ".py",
   "mimetype": "text/x-python",
   "name": "python",
   "nbconvert_exporter": "python",
   "pygments_lexer": "ipython3",
   "version": "3.8.5"
  }
 },
 "nbformat": 4,
 "nbformat_minor": 4
}
