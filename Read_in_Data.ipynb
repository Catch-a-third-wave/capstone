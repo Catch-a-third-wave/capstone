{
 "cells": [
  {
   "cell_type": "markdown",
   "metadata": {},
   "source": [
    "# Importing libraries"
   ]
  },
  {
   "cell_type": "code",
   "execution_count": 1,
   "metadata": {},
   "outputs": [],
   "source": [
    "import pandas as pd\n",
    "import os"
   ]
  },
  {
   "cell_type": "markdown",
   "metadata": {},
   "source": [
    "# Reading in USA Data"
   ]
  },
  {
   "cell_type": "code",
   "execution_count": 2,
   "metadata": {},
   "outputs": [],
   "source": [
    "US_county = pd.read_csv('data/CMU_US_data/overall-county-smoothed.csv')\n",
    "US_state = pd.read_csv('data/CMU_US_data/overall-state-smoothed.csv')"
   ]
  },
  {
   "cell_type": "markdown",
   "metadata": {},
   "source": [
    "# Reading in Global Data"
   ]
  },
  {
   "cell_type": "markdown",
   "metadata": {},
   "source": [
    "### Function: Reading in data into dictionary of Dataframes"
   ]
  },
  {
   "cell_type": "code",
   "execution_count": 3,
   "metadata": {},
   "outputs": [],
   "source": [
    "def get_data(path, name):\n",
    "    filenames = os.listdir(path)\n",
    "    filenames = [f for f in filenames if f.lower().endswith(\".csv\")]\n",
    "    filenames.sort()\n",
    "    \n",
    "    dataframes = {}\n",
    "    df_names = []\n",
    "\n",
    "    for filename in filenames:\n",
    "        df_name = name + \"_\" + filename[0:2]# the name for the dataframe\n",
    "        df_names.append(df_name)\n",
    "        file = \"{}/{}\".format(path,filename)\n",
    "        dataframes[df_name] = pd.read_csv(file)\n",
    "    \n",
    "    return dataframes"
   ]
  },
  {
   "cell_type": "markdown",
   "metadata": {},
   "source": [
    "### Dictionary with dataframes for the individual months"
   ]
  },
  {
   "cell_type": "code",
   "execution_count": 4,
   "metadata": {},
   "outputs": [],
   "source": [
    "dfs_country = get_data(\"data/CMU_Global_data/Full_Survey_Data/country/smooth/\", \"country\")\n",
    "dfs_region = get_data(\"data/CMU_Global_data/Full_Survey_Data/region/smooth/\", \"region\")"
   ]
  },
  {
   "cell_type": "markdown",
   "metadata": {},
   "source": [
    "### Having one dataframe with all data for country and one for region"
   ]
  },
  {
   "cell_type": "code",
   "execution_count": 5,
   "metadata": {},
   "outputs": [],
   "source": [
    "countries = pd.concat(dfs_country)\n",
    "regions = pd.concat(dfs_region)"
   ]
  }
 ],
 "metadata": {
  "kernelspec": {
   "display_name": "Python [conda env:capstone] *",
   "language": "python",
   "name": "conda-env-capstone-py"
  },
  "language_info": {
   "codemirror_mode": {
    "name": "ipython",
    "version": 3
   },
   "file_extension": ".py",
   "mimetype": "text/x-python",
   "name": "python",
   "nbconvert_exporter": "python",
   "pygments_lexer": "ipython3",
   "version": "3.8.5"
  }
 },
 "nbformat": 4,
 "nbformat_minor": 4
}
