{
 "cells": [
  {
   "cell_type": "markdown",
   "metadata": {},
   "source": [
    "# Code for social distancing plots by country"
   ]
  },
  {
   "cell_type": "markdown",
   "metadata": {},
   "source": [
    "This is in no way complete and very rough graphs.  \n",
    "Also no libraries are imported and the notebook cannot be run."
   ]
  },
  {
   "cell_type": "markdown",
   "metadata": {},
   "source": [
    "# Asia"
   ]
  },
  {
   "cell_type": "markdown",
   "metadata": {},
   "source": [
    "### Grouping of Asia according to the UN: \n",
    "\n",
    "https://pitt.libguides.com/c.php?g=12555&p=66443\n",
    "\n",
    "#### Western Asia (w)\n",
    "Armenia, Azerbaijan, Israel, Jordan, Kuwait, Lebanon, Oman, Iraq, Qatar, Saudi Arabia, United Arab Emirates, Yemen\n",
    "\n",
    "#### Central Asia (c)\n",
    "Kazakhstan, Kyrgyzstan, Uzbekistan\n",
    "\n",
    "#### Southern Asia (s)\n",
    "Bangladesh, India, Nepal, Afghanistan, Pakistan, Sri Lanka\n",
    "\n",
    "#### Eastern Asia (e)\n",
    "Hong Kong, Japan, South Korea, Taiwan\n",
    "\n",
    "#### South Eastern Asia (se)\n",
    "Cambodia, Indonesia, Laos, Malaysia, Myanmar, Singapore, Thailand, Vietnam"
   ]
  },
  {
   "cell_type": "code",
   "execution_count": null,
   "metadata": {},
   "outputs": [],
   "source": [
    "asia_w_names = ['Armenia', 'Azerbaijan', 'Israel', 'Jordan', 'Kuwait', 'Lebanon', 'Oman', 'Iraq', 'Qatar', 'Saudi Arabia', \n",
    "                'United Arab Emirates', 'Yemen']\n",
    "asia_c_names = ['Kazakhstan', 'Kyrgyzstan', 'Uzbekistan']\n",
    "asia_s_names = ['Bangladesh','India', 'Nepal', 'Afghanistan', 'Pakistan', 'Sri Lanka']\n",
    "asia_e_names = ['Hong Kong', 'Japan', 'South Korea', 'Taiwan']\n",
    "asia_se_names = ['Cambodia','Indonesia', 'Laos','Malaysia', 'Myanmar', 'Singapore', 'Thailand', 'Vietnam']\n",
    "\n",
    "\n",
    "#df.loc[df['column_name'].isin(some_values)]\n",
    "asia_w = countries.loc[countries[\"country_agg\"].isin(asia_w_names)]\n",
    "asia_c = countries.loc[countries[\"country_agg\"].isin(asia_c_names)]\n",
    "asia_s = countries.loc[countries[\"country_agg\"].isin(asia_s_names)]\n",
    "asia_e = countries.loc[countries[\"country_agg\"].isin(asia_e_names)]\n",
    "asia_se = countries.loc[countries[\"country_agg\"].isin(asia_se_names)]"
   ]
  },
  {
   "cell_type": "code",
   "execution_count": null,
   "metadata": {},
   "outputs": [],
   "source": [
    "f, axes = plt.subplots(5,1, figsize=(20,50))\n",
    "\n",
    "sns.lineplot(data=asia_w, x=\"date\", y=\"smoothed_pct_cli_weighted\", hue=\"country_agg\", ax=axes[0])\n",
    "sns.lineplot(data=asia_c, x=\"date\", y=\"smoothed_pct_cli_weighted\", hue=\"country_agg\", ax=axes[1])\n",
    "sns.lineplot(data=asia_s, x=\"date\", y=\"smoothed_pct_cli_weighted\", hue=\"country_agg\", ax=axes[2])\n",
    "sns.lineplot(data=asia_e, x=\"date\", y=\"smoothed_pct_cli_weighted\", hue=\"country_agg\", ax=axes[3])\n",
    "sns.lineplot(data=asia_se, x=\"date\", y=\"smoothed_pct_cli_weighted\", hue=\"country_agg\", ax=axes[4])"
   ]
  },
  {
   "cell_type": "markdown",
   "metadata": {},
   "source": [
    "#### Western Asia (w)\n",
    "Armenia, Azerbaijan, Israel, Jordan, Kuwait, Lebanon, Oman, Iraq, Qatar, Saudi Arabia, United Arab Emirates, Yemen"
   ]
  },
  {
   "cell_type": "code",
   "execution_count": null,
   "metadata": {},
   "outputs": [],
   "source": [
    "f, axes = plt.subplots(8,1, figsize=(20,80))\n",
    "\n",
    "sns.lineplot(data=asia_w, x=\"date\", y=\"smoothed_pct_worked_outside_home_weighted\", hue=\"country_agg\", ax=axes[0])\n",
    "sns.lineplot(data=asia_w, x=\"date\", y=\"smoothed_pct_grocery_outside_home_weighted\", hue=\"country_agg\", ax=axes[1])\n",
    "sns.lineplot(data=asia_w, x=\"date\", y=\"smoothed_pct_ate_outside_home_weighted\", hue=\"country_agg\", ax=axes[2])\n",
    "sns.lineplot(data=asia_w, x=\"date\", y=\"smoothed_pct_spent_time_with_non_hh_weighted\", hue=\"country_agg\", ax=axes[3])\n",
    "sns.lineplot(data=asia_w, x=\"date\", y=\"smoothed_pct_attended_public_event_weighted\", hue=\"country_agg\", ax=axes[4])\n",
    "sns.lineplot(data=asia_w, x=\"date\", y=\"smoothed_pct_used_public_transit_weighted\", hue=\"country_agg\", ax=axes[5])\n",
    "sns.lineplot(data=asia_w, x=\"date\", y=\"smoothed_pct_direct_contact_with_non_hh_weighted\", hue=\"country_agg\", ax=axes[6])\n",
    "sns.lineplot(data=asia_w, x=\"date\", y=\"smoothed_pct_no_public_weighted\", hue=\"country_agg\", ax=axes[7])"
   ]
  },
  {
   "cell_type": "markdown",
   "metadata": {},
   "source": [
    "#### Central Asia (c)\n",
    "Kazakhstan, Kyrgyzstan, Uzbekistan"
   ]
  },
  {
   "cell_type": "code",
   "execution_count": null,
   "metadata": {},
   "outputs": [],
   "source": [
    "f, axes = plt.subplots(8,1, figsize=(20,80))\n",
    "\n",
    "sns.lineplot(data=asia_c, x=\"date\", y=\"smoothed_pct_worked_outside_home_weighted\", hue=\"country_agg\", ax=axes[0])\n",
    "sns.lineplot(data=asia_c, x=\"date\", y=\"smoothed_pct_grocery_outside_home_weighted\", hue=\"country_agg\", ax=axes[1])\n",
    "sns.lineplot(data=asia_c, x=\"date\", y=\"smoothed_pct_ate_outside_home_weighted\", hue=\"country_agg\", ax=axes[2])\n",
    "sns.lineplot(data=asia_c, x=\"date\", y=\"smoothed_pct_spent_time_with_non_hh_weighted\", hue=\"country_agg\", ax=axes[3])\n",
    "sns.lineplot(data=asia_c, x=\"date\", y=\"smoothed_pct_attended_public_event_weighted\", hue=\"country_agg\", ax=axes[4])\n",
    "sns.lineplot(data=asia_c, x=\"date\", y=\"smoothed_pct_used_public_transit_weighted\", hue=\"country_agg\", ax=axes[5])\n",
    "sns.lineplot(data=asia_c, x=\"date\", y=\"smoothed_pct_direct_contact_with_non_hh_weighted\", hue=\"country_agg\", ax=axes[6])\n",
    "sns.lineplot(data=asia_c, x=\"date\", y=\"smoothed_pct_no_public_weighted\", hue=\"country_agg\", ax=axes[7])"
   ]
  },
  {
   "cell_type": "markdown",
   "metadata": {},
   "source": [
    "#### Southern Asia (s)\n",
    "Bangladesh, India, Nepal, Afghanistan, Pakistan, Sri Lanka"
   ]
  },
  {
   "cell_type": "code",
   "execution_count": null,
   "metadata": {},
   "outputs": [],
   "source": [
    "f, axes = plt.subplots(8,1, figsize=(20,80))\n",
    "\n",
    "sns.lineplot(data=asia_s, x=\"date\", y=\"smoothed_pct_worked_outside_home_weighted\", hue=\"country_agg\", ax=axes[0])\n",
    "sns.lineplot(data=asia_s, x=\"date\", y=\"smoothed_pct_grocery_outside_home_weighted\", hue=\"country_agg\", ax=axes[1])\n",
    "sns.lineplot(data=asia_s, x=\"date\", y=\"smoothed_pct_ate_outside_home_weighted\", hue=\"country_agg\", ax=axes[2])\n",
    "sns.lineplot(data=asia_s, x=\"date\", y=\"smoothed_pct_spent_time_with_non_hh_weighted\", hue=\"country_agg\", ax=axes[3])\n",
    "sns.lineplot(data=asia_s, x=\"date\", y=\"smoothed_pct_attended_public_event_weighted\", hue=\"country_agg\", ax=axes[4])\n",
    "sns.lineplot(data=asia_s, x=\"date\", y=\"smoothed_pct_used_public_transit_weighted\", hue=\"country_agg\", ax=axes[5])\n",
    "sns.lineplot(data=asia_s, x=\"date\", y=\"smoothed_pct_direct_contact_with_non_hh_weighted\", hue=\"country_agg\", ax=axes[6])\n",
    "sns.lineplot(data=asia_s, x=\"date\", y=\"smoothed_pct_no_public_weighted\", hue=\"country_agg\", ax=axes[7])"
   ]
  },
  {
   "cell_type": "markdown",
   "metadata": {},
   "source": [
    "#### Eastern Asia (e)\n",
    "Hong Kong, Japan, South Korea, Taiwan"
   ]
  },
  {
   "cell_type": "code",
   "execution_count": null,
   "metadata": {},
   "outputs": [],
   "source": [
    "f, axes = plt.subplots(8,1, figsize=(20,80))\n",
    "\n",
    "sns.lineplot(data=asia_e, x=\"date\", y=\"smoothed_pct_worked_outside_home_weighted\", hue=\"country_agg\", ax=axes[0])\n",
    "sns.lineplot(data=asia_e, x=\"date\", y=\"smoothed_pct_grocery_outside_home_weighted\", hue=\"country_agg\", ax=axes[1])\n",
    "sns.lineplot(data=asia_e, x=\"date\", y=\"smoothed_pct_ate_outside_home_weighted\", hue=\"country_agg\", ax=axes[2])\n",
    "sns.lineplot(data=asia_e, x=\"date\", y=\"smoothed_pct_spent_time_with_non_hh_weighted\", hue=\"country_agg\", ax=axes[3])\n",
    "sns.lineplot(data=asia_e, x=\"date\", y=\"smoothed_pct_attended_public_event_weighted\", hue=\"country_agg\", ax=axes[4])\n",
    "sns.lineplot(data=asia_e, x=\"date\", y=\"smoothed_pct_used_public_transit_weighted\", hue=\"country_agg\", ax=axes[5])\n",
    "sns.lineplot(data=asia_e, x=\"date\", y=\"smoothed_pct_direct_contact_with_non_hh_weighted\", hue=\"country_agg\", ax=axes[6])\n",
    "sns.lineplot(data=asia_e, x=\"date\", y=\"smoothed_pct_no_public_weighted\", hue=\"country_agg\", ax=axes[7])"
   ]
  },
  {
   "cell_type": "markdown",
   "metadata": {},
   "source": [
    "#### South Eastern Asia (se)\n",
    "Cambodia, Indonesia, Laos, Malaysia, Myanmar, Singapore, Thailand, Vietnam"
   ]
  },
  {
   "cell_type": "code",
   "execution_count": null,
   "metadata": {},
   "outputs": [],
   "source": [
    "f, axes = plt.subplots(8,1, figsize=(20,80))\n",
    "\n",
    "sns.lineplot(data=asia_se, x=\"date\", y=\"smoothed_pct_worked_outside_home_weighted\", hue=\"country_agg\", ax=axes[0])\n",
    "sns.lineplot(data=asia_se, x=\"date\", y=\"smoothed_pct_grocery_outside_home_weighted\", hue=\"country_agg\", ax=axes[1])\n",
    "sns.lineplot(data=asia_se, x=\"date\", y=\"smoothed_pct_ate_outside_home_weighted\", hue=\"country_agg\", ax=axes[2])\n",
    "sns.lineplot(data=asia_se, x=\"date\", y=\"smoothed_pct_spent_time_with_non_hh_weighted\", hue=\"country_agg\", ax=axes[3])\n",
    "sns.lineplot(data=asia_se, x=\"date\", y=\"smoothed_pct_attended_public_event_weighted\", hue=\"country_agg\", ax=axes[4])\n",
    "sns.lineplot(data=asia_se, x=\"date\", y=\"smoothed_pct_used_public_transit_weighted\", hue=\"country_agg\", ax=axes[5])\n",
    "sns.lineplot(data=asia_se, x=\"date\", y=\"smoothed_pct_direct_contact_with_non_hh_weighted\", hue=\"country_agg\", ax=axes[6])\n",
    "sns.lineplot(data=asia_se, x=\"date\", y=\"smoothed_pct_no_public_weighted\", hue=\"country_agg\", ax=axes[7])"
   ]
  },
  {
   "cell_type": "markdown",
   "metadata": {},
   "source": [
    "# Oceania"
   ]
  },
  {
   "cell_type": "code",
   "execution_count": null,
   "metadata": {},
   "outputs": [],
   "source": [
    "oceania_names = [\"New Zealand\", \"Australia\"]\n",
    "oceania = countries.loc[countries[\"country_agg\"].isin(oceania_names)]"
   ]
  },
  {
   "cell_type": "code",
   "execution_count": null,
   "metadata": {},
   "outputs": [],
   "source": [
    "plt.figure(figsize=(20,8))\n",
    "sns.lineplot(data=oceania, x=\"date\", y=\"smoothed_pct_cli_weighted\", hue=\"country_agg\")"
   ]
  },
  {
   "cell_type": "code",
   "execution_count": null,
   "metadata": {},
   "outputs": [],
   "source": [
    "f, axes = plt.subplots(8,1, figsize=(20,80))\n",
    "\n",
    "sns.lineplot(data=oceania, x=\"date\", y=\"smoothed_pct_worked_outside_home_weighted\", hue=\"country_agg\", ax=axes[0])\n",
    "sns.lineplot(data=oceania, x=\"date\", y=\"smoothed_pct_grocery_outside_home_weighted\", hue=\"country_agg\", ax=axes[1])\n",
    "sns.lineplot(data=oceania, x=\"date\", y=\"smoothed_pct_ate_outside_home_weighted\", hue=\"country_agg\", ax=axes[2])\n",
    "sns.lineplot(data=oceania, x=\"date\", y=\"smoothed_pct_spent_time_with_non_hh_weighted\", hue=\"country_agg\", ax=axes[3])\n",
    "sns.lineplot(data=oceania, x=\"date\", y=\"smoothed_pct_attended_public_event_weighted\", hue=\"country_agg\", ax=axes[4])\n",
    "sns.lineplot(data=oceania, x=\"date\", y=\"smoothed_pct_used_public_transit_weighted\", hue=\"country_agg\", ax=axes[5])\n",
    "sns.lineplot(data=oceania, x=\"date\", y=\"smoothed_pct_direct_contact_with_non_hh_weighted\", hue=\"country_agg\", ax=axes[6])\n",
    "sns.lineplot(data=oceania, x=\"date\", y=\"smoothed_pct_no_public_weighted\", hue=\"country_agg\", ax=axes[7])"
   ]
  },
  {
   "cell_type": "code",
   "execution_count": null,
   "metadata": {},
   "outputs": [],
   "source": []
  },
  {
   "cell_type": "markdown",
   "metadata": {},
   "source": [
    "## Americas \n",
    "\n",
    "#### North America (n)\n",
    "Canada (USA is in seperate dataset)\n",
    "\n",
    "#### Central America (ce)\n",
    "Costa Rica, El Salvador, Guatemala,  Honduras, Mexico, Nicaragua, Panama\n",
    "\n",
    "#### Carribean (c)\n",
    "Dominican Republic, Haiti\n",
    "\n",
    "#### South America (s)\n",
    "Argentina, Bolivia, Brazil, Chile, Colombia, Ecuador, Paraguay, Peru, Uruguay, Venezuela"
   ]
  },
  {
   "cell_type": "code",
   "execution_count": null,
   "metadata": {},
   "outputs": [],
   "source": [
    "america_n_names = [\"Canada\"]\n",
    "america_ce_names = [\"Costa Rica\", \"El Salvador\", \"Guatemala\", \"Honduras\", \"Mexico\", \"Nicaragua\", \"Panama\"]\n",
    "america_c_names = [\"Dominican Republic\", \"Haiti\"]\n",
    "america_s_names = [\"Argentina\", \"Bolivia\", \"Brazil\", \"Chile\", \"Colombia\", \"Ecuador\", \"Paraguay\", \"Peru\", \n",
    "                   \"Uruguay\", \"Venezuela\"]"
   ]
  },
  {
   "cell_type": "code",
   "execution_count": null,
   "metadata": {},
   "outputs": [],
   "source": [
    "america_n = countries.loc[countries[\"country_agg\"].isin(america_n_names)]\n",
    "america_ce = countries.loc[countries[\"country_agg\"].isin(america_ce_names)]\n",
    "america_c = countries.loc[countries[\"country_agg\"].isin(america_c_names)]\n",
    "america_s = countries.loc[countries[\"country_agg\"].isin(america_s_names)]"
   ]
  },
  {
   "cell_type": "code",
   "execution_count": null,
   "metadata": {},
   "outputs": [],
   "source": [
    "f, axes = plt.subplots(4,1, figsize=(20,50))\n",
    "\n",
    "sns.lineplot(data=america_n, x=\"date\", y=\"smoothed_pct_cli_weighted\", hue=\"country_agg\", ax=axes[0])\n",
    "sns.lineplot(data=america_ce, x=\"date\", y=\"smoothed_pct_cli_weighted\", hue=\"country_agg\", ax=axes[1])\n",
    "sns.lineplot(data=america_c, x=\"date\", y=\"smoothed_pct_cli_weighted\", hue=\"country_agg\", ax=axes[2])\n",
    "sns.lineplot(data=america_s, x=\"date\", y=\"smoothed_pct_cli_weighted\", hue=\"country_agg\", ax=axes[3])"
   ]
  },
  {
   "cell_type": "markdown",
   "metadata": {},
   "source": [
    "#### North America (n)\n",
    "Canada (USA is in seperate dataset)"
   ]
  },
  {
   "cell_type": "code",
   "execution_count": null,
   "metadata": {},
   "outputs": [],
   "source": [
    "f, axes = plt.subplots(8,1, figsize=(20,80))\n",
    "\n",
    "sns.lineplot(data=america_n, x=\"date\", y=\"smoothed_pct_worked_outside_home_weighted\", hue=\"country_agg\", ax=axes[0])\n",
    "sns.lineplot(data=america_n, x=\"date\", y=\"smoothed_pct_grocery_outside_home_weighted\", hue=\"country_agg\", ax=axes[1])\n",
    "sns.lineplot(data=america_n, x=\"date\", y=\"smoothed_pct_ate_outside_home_weighted\", hue=\"country_agg\", ax=axes[2])\n",
    "sns.lineplot(data=america_n, x=\"date\", y=\"smoothed_pct_spent_time_with_non_hh_weighted\", hue=\"country_agg\", ax=axes[3])\n",
    "sns.lineplot(data=america_n, x=\"date\", y=\"smoothed_pct_attended_public_event_weighted\", hue=\"country_agg\", ax=axes[4])\n",
    "sns.lineplot(data=america_n, x=\"date\", y=\"smoothed_pct_used_public_transit_weighted\", hue=\"country_agg\", ax=axes[5])\n",
    "sns.lineplot(data=america_n, x=\"date\", y=\"smoothed_pct_direct_contact_with_non_hh_weighted\", hue=\"country_agg\", ax=axes[6])\n",
    "sns.lineplot(data=america_n, x=\"date\", y=\"smoothed_pct_no_public_weighted\", hue=\"country_agg\", ax=axes[7])"
   ]
  },
  {
   "cell_type": "markdown",
   "metadata": {},
   "source": [
    "#### Central America (ce)\n",
    "Costa Rica, El Salvador, Guatemala,  Honduras, Mexico, Nicaragua, Panama"
   ]
  },
  {
   "cell_type": "code",
   "execution_count": null,
   "metadata": {},
   "outputs": [],
   "source": [
    "f, axes = plt.subplots(8,1, figsize=(20,80))\n",
    "\n",
    "sns.lineplot(data=america_ce, x=\"date\", y=\"smoothed_pct_worked_outside_home_weighted\", hue=\"country_agg\", ax=axes[0])\n",
    "sns.lineplot(data=america_ce, x=\"date\", y=\"smoothed_pct_grocery_outside_home_weighted\", hue=\"country_agg\", ax=axes[1])\n",
    "sns.lineplot(data=america_ce, x=\"date\", y=\"smoothed_pct_ate_outside_home_weighted\", hue=\"country_agg\", ax=axes[2])\n",
    "sns.lineplot(data=america_ce, x=\"date\", y=\"smoothed_pct_spent_time_with_non_hh_weighted\", hue=\"country_agg\", ax=axes[3])\n",
    "sns.lineplot(data=america_ce, x=\"date\", y=\"smoothed_pct_attended_public_event_weighted\", hue=\"country_agg\", ax=axes[4])\n",
    "sns.lineplot(data=america_ce, x=\"date\", y=\"smoothed_pct_used_public_transit_weighted\", hue=\"country_agg\", ax=axes[5])\n",
    "sns.lineplot(data=america_ce, x=\"date\", y=\"smoothed_pct_direct_contact_with_non_hh_weighted\", hue=\"country_agg\", ax=axes[6])\n",
    "sns.lineplot(data=america_ce, x=\"date\", y=\"smoothed_pct_no_public_weighted\", hue=\"country_agg\", ax=axes[7])"
   ]
  },
  {
   "cell_type": "markdown",
   "metadata": {},
   "source": [
    "#### Carribean (c)\n",
    "Dominican Republic, Haiti"
   ]
  },
  {
   "cell_type": "code",
   "execution_count": null,
   "metadata": {},
   "outputs": [],
   "source": [
    "f, axes = plt.subplots(8,1, figsize=(20,80))\n",
    "\n",
    "sns.lineplot(data=america_c, x=\"date\", y=\"smoothed_pct_worked_outside_home_weighted\", hue=\"country_agg\", ax=axes[0])\n",
    "sns.lineplot(data=america_c, x=\"date\", y=\"smoothed_pct_grocery_outside_home_weighted\", hue=\"country_agg\", ax=axes[1])\n",
    "sns.lineplot(data=america_c, x=\"date\", y=\"smoothed_pct_ate_outside_home_weighted\", hue=\"country_agg\", ax=axes[2])\n",
    "sns.lineplot(data=america_c, x=\"date\", y=\"smoothed_pct_spent_time_with_non_hh_weighted\", hue=\"country_agg\", ax=axes[3])\n",
    "sns.lineplot(data=america_c, x=\"date\", y=\"smoothed_pct_attended_public_event_weighted\", hue=\"country_agg\", ax=axes[4])\n",
    "sns.lineplot(data=america_c, x=\"date\", y=\"smoothed_pct_used_public_transit_weighted\", hue=\"country_agg\", ax=axes[5])\n",
    "sns.lineplot(data=america_c, x=\"date\", y=\"smoothed_pct_direct_contact_with_non_hh_weighted\", hue=\"country_agg\", ax=axes[6])\n",
    "sns.lineplot(data=america_c, x=\"date\", y=\"smoothed_pct_no_public_weighted\", hue=\"country_agg\", ax=axes[7])"
   ]
  },
  {
   "cell_type": "markdown",
   "metadata": {},
   "source": [
    "#### South America (s)\n",
    "Argentina, Bolivia, Brazil, Chile, Colombia, Ecuador, Paraguay, Peru, Uruguay, Venezuela"
   ]
  },
  {
   "cell_type": "code",
   "execution_count": null,
   "metadata": {},
   "outputs": [],
   "source": [
    "f, axes = plt.subplots(8,1, figsize=(20,80))\n",
    "\n",
    "sns.lineplot(data=america_s, x=\"date\", y=\"smoothed_pct_worked_outside_home_weighted\", hue=\"country_agg\", ax=axes[0])\n",
    "sns.lineplot(data=america_s, x=\"date\", y=\"smoothed_pct_grocery_outside_home_weighted\", hue=\"country_agg\", ax=axes[1])\n",
    "sns.lineplot(data=america_s, x=\"date\", y=\"smoothed_pct_ate_outside_home_weighted\", hue=\"country_agg\", ax=axes[2])\n",
    "sns.lineplot(data=america_s, x=\"date\", y=\"smoothed_pct_spent_time_with_non_hh_weighted\", hue=\"country_agg\", ax=axes[3])\n",
    "sns.lineplot(data=america_s, x=\"date\", y=\"smoothed_pct_attended_public_event_weighted\", hue=\"country_agg\", ax=axes[4])\n",
    "sns.lineplot(data=america_s, x=\"date\", y=\"smoothed_pct_used_public_transit_weighted\", hue=\"country_agg\", ax=axes[5])\n",
    "sns.lineplot(data=america_s, x=\"date\", y=\"smoothed_pct_direct_contact_with_non_hh_weighted\", hue=\"country_agg\", ax=axes[6])\n",
    "sns.lineplot(data=america_s, x=\"date\", y=\"smoothed_pct_no_public_weighted\", hue=\"country_agg\", ax=axes[7])"
   ]
  },
  {
   "cell_type": "code",
   "execution_count": null,
   "metadata": {},
   "outputs": [],
   "source": []
  }
 ],
 "metadata": {
  "kernelspec": {
   "display_name": "Python [conda env:capstone] *",
   "language": "python",
   "name": "conda-env-capstone-py"
  },
  "language_info": {
   "codemirror_mode": {
    "name": "ipython",
    "version": 3
   },
   "file_extension": ".py",
   "mimetype": "text/x-python",
   "name": "python",
   "nbconvert_exporter": "python",
   "pygments_lexer": "ipython3",
   "version": "3.8.5"
  }
 },
 "nbformat": 4,
 "nbformat_minor": 4
}
