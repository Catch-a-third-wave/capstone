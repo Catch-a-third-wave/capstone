{
 "cells": [
  {
   "cell_type": "markdown",
   "metadata": {},
   "source": [
    "# Grouping of USA states"
   ]
  },
  {
   "cell_type": "code",
   "execution_count": 1,
   "metadata": {},
   "outputs": [],
   "source": [
    "# sub_df = df.loc[df['column_name'].isin(some_values)]\n",
    "# e.g. us_ne = US_state.loc[US_state[\"state_code\"].isin(us_ne_names)]"
   ]
  },
  {
   "cell_type": "markdown",
   "metadata": {},
   "source": [
    "### Northeast (ne)\n",
    "Maine (me), New Hampshire (nh), Vermont (vt), New York (ny), Massachusetts (ma), Rhode Island (ri), Connecticut (ct), Pensylvania (pa), New Jersey (nj), Delaware (de), Maryland (md), Virgina (va), West Virgina (wv), Disrict of Columbia (dc)\n",
    "\n",
    "### Pacific West (pw)\n",
    "Alaska (ak), Hawaii (hi), Washington (wa), Oregon (or), California (ca), Idaho (id), Nevada (nv), Arizona (az), Utah (ut)\n",
    "\n",
    "### Midwest (mw)\n",
    "Minnesota (mn), Iowa (ia), Missouri (mo), Wisconsin (wi), Illinois (il), Michigan (mi), Indiana (in), Kentucky (ky), Ohio (oh)\n",
    "\n",
    "### Southeast (se)\n",
    "Arkansas (ar), Louisiana (la), Mississippi (ms), Tennessee (tn), Alabama (al), North Carolina (nc), South Carolina (sc), Georgia (ga), Florida (fl), Puerto Rico (pr)\n",
    "\n",
    "### Central (c)\n",
    "Montana (mt), North Dakota (nd), South Dakota (sd), Wyoming (wy), Nebraska (ne), Colorado (co), Kansas (ks), New Mexico (nm), Oklahoma (ok), Texas (tx)"
   ]
  },
  {
   "cell_type": "code",
   "execution_count": 8,
   "metadata": {},
   "outputs": [],
   "source": [
    "us_ne_names = [\"me\", \"nh\", \"vt\", \"ny\", \"ma\", \"ri\", \"ct\", \"pa\", \"nj\", \"de\", \"md\", \"va\", \"wv\", \"dc\"]\n",
    "us_pw_names = [\"ak\", \"hi\", \"wa\", \"or\", \"ca\", \"id\", \"nv\", \"az\", \"ut\"]\n",
    "us_mw_names = [\"mn\", \"ia\", \"mo\", \"wi\", \"il\", \"mi\", \"in\", \"ky\", \"oh\"]\n",
    "us_se_names = [\"ar\", \"la\", \"ms\", \"tn\", \"al\", \"nc\", \"sc\", \"ga\", \"fl\", \"pr\"]\n",
    "us_c_names = [\"mt\", \"nd\", \"sd\", \"wy\", \"ne\", \"co\", \"ks\", \"nm\", \"ok\", \"tx\"]"
   ]
  },
  {
   "cell_type": "code",
   "execution_count": null,
   "metadata": {},
   "outputs": [],
   "source": []
  }
 ],
 "metadata": {
  "kernelspec": {
   "display_name": "Python [conda env:capstone] *",
   "language": "python",
   "name": "conda-env-capstone-py"
  },
  "language_info": {
   "codemirror_mode": {
    "name": "ipython",
    "version": 3
   },
   "file_extension": ".py",
   "mimetype": "text/x-python",
   "name": "python",
   "nbconvert_exporter": "python",
   "pygments_lexer": "ipython3",
   "version": "3.8.5"
  }
 },
 "nbformat": 4,
 "nbformat_minor": 4
}
